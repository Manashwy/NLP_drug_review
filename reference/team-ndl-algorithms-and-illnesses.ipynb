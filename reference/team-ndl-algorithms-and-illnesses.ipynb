{
 "cells": [
  {
   "cell_type": "markdown",
   "metadata": {
    "_cell_guid": "b1076dfc-b9ad-4769-8c92-a6c4dae69d19",
    "_uuid": "8f2839f25d086af736a60e9eeb907d3b93b6e0e5"
   },
   "source": [
    "# Team NDL: Algorithms and Illnesses\n",
    "Hello! We are Team NDL from Penn State's Nittany Data Labs. \n",
    "\n",
    "This kernel was created by Izzidin Oakes, Neil Ashtekar, Will Wright, Suraj Dalsania, and Ming Ju Li.\n",
    "\n",
    "Team picture: [imgur link](http://imgur.com/a/Vpg6ZMl)\n",
    "\n",
    "Our vision for this project was to first explore our data, and then to dive into sentiment analysis. We wanted to address the following questions:\n",
    "* What insights can we gain from exploring and visualizing our data?\n",
    "* How does sentiment play into rating and usefulness of reviews?\n",
    "* Can we create a way for people to find the best medication for their illness?\n",
    "* What machine learning models work best for predicting the sentiment or rating based on review?\n",
    "* Is this problem better suited for classification or regression? In other words, should we be trying to sort the reviews into categories based on sentiment or predict the actual rating of the review?\n",
    "* What vectorization methods for the reviews are the most efficient and preserve the most data as well as allowing for the most accuracy? \n",
    "* Can we somehow find insight into what features or words are most important for predicting review rating?"
   ]
  },
  {
   "cell_type": "markdown",
   "metadata": {
    "_uuid": "44bc47c0a38c376f075c5b5a9199fe40d3a53dbc"
   },
   "source": [
    "# Drug Ratings Dataset: Preliminary Data Exploration\n",
    "\n",
    "<br>\n",
    "Our ideas for preliminary exploration:\n",
    "- Most common conditions\n",
    "- Overall best and worst reviewed drugs\n",
    "- The curability of each disease\n",
    "- Best drugs for each condition\n",
    "- Most useful reviews\n",
    "- Usefulness vs review score\n",
    "- Bias in reviews\n",
    "    - Users tend to review things they really liked or really disliked, fewer reviews in the middle\n"
   ]
  },
  {
   "cell_type": "code",
   "execution_count": null,
   "metadata": {
    "_cell_guid": "79c7e3d0-c299-4dcb-8224-4455121ee9b0",
    "_uuid": "d629ff2d2480ee46fbb7e2d37f6b5fab8052498a"
   },
   "outputs": [],
   "source": [
    "# ALL imports\n",
    "import numpy as np\n",
    "import pandas as pd\n",
    "import matplotlib.pyplot as plt\n",
    "from matplotlib import style; style.use('ggplot')\n",
    "import nltk\n",
    "from nltk.sentiment.vader import SentimentIntensityAnalyzer\n",
    "import time\n",
    "from sklearn.feature_extraction.text import TfidfVectorizer\n",
    "from sklearn.metrics import confusion_matrix\n",
    "from sklearn.naive_bayes import MultinomialNB\n",
    "from sklearn.ensemble import RandomForestClassifier"
   ]
  },
  {
   "cell_type": "code",
   "execution_count": null,
   "metadata": {
    "_uuid": "c4c3f5aaa114c845fe8916705fcf8d0774431272"
   },
   "outputs": [],
   "source": [
    "# Create dataframes train and test\n",
    "train = pd.read_csv('../input/drugsComTrain_raw.csv')\n",
    "test = pd.read_csv('../input/drugsComTest_raw.csv')"
   ]
  },
  {
   "cell_type": "code",
   "execution_count": null,
   "metadata": {
    "_uuid": "8e69e8ba4b303c0104f6c642293a0d862a8811f0"
   },
   "outputs": [],
   "source": [
    "train.head()"
   ]
  },
  {
   "cell_type": "code",
   "execution_count": null,
   "metadata": {
    "_uuid": "7be4a324c214a46eb31e76376e925f406ff19793"
   },
   "outputs": [],
   "source": [
    "test.head()"
   ]
  },
  {
   "cell_type": "code",
   "execution_count": null,
   "metadata": {
    "_uuid": "ab033a3c6aa136ece8799fd777c094226e2bfbfe"
   },
   "outputs": [],
   "source": [
    "list(train) == list(test)"
   ]
  },
  {
   "cell_type": "markdown",
   "metadata": {
    "_uuid": "9706eabff95bfa6e25c38ce1cbc70846f0032a56"
   },
   "source": [
    "Both train and test have the same features. Maybe they are split up to allow us to train/test our models easily."
   ]
  },
  {
   "cell_type": "code",
   "execution_count": null,
   "metadata": {
    "_uuid": "5bde5f783f8d700b0572f6e7fcc31974bacae422"
   },
   "outputs": [],
   "source": [
    "list(train)"
   ]
  },
  {
   "cell_type": "code",
   "execution_count": null,
   "metadata": {
    "_uuid": "758c9cfca6b3806ce00370e81ab28f3bc745a7e2"
   },
   "outputs": [],
   "source": [
    "train.values.shape[0], test.values.shape[0], train.values.shape[0] / test.values.shape[0]"
   ]
  },
  {
   "cell_type": "markdown",
   "metadata": {
    "_uuid": "5537012e43984fad59bc721b35c90bc052fee712"
   },
   "source": [
    "Yep, the train set is almost exactly 3 times as big as the test set! This is a typical 75:25 train:test split."
   ]
  },
  {
   "cell_type": "code",
   "execution_count": null,
   "metadata": {
    "_uuid": "68bcfd5c1077f53e616fddc9f15d7e9bda8d50c7"
   },
   "outputs": [],
   "source": [
    "train.condition.unique().size, test.condition.unique().size"
   ]
  },
  {
   "cell_type": "code",
   "execution_count": null,
   "metadata": {
    "_uuid": "5446495fa39a63ada437f995668d365bcc0c6c55"
   },
   "outputs": [],
   "source": [
    "train.drugName.unique().size, test.drugName.unique().size"
   ]
  },
  {
   "cell_type": "markdown",
   "metadata": {
    "_uuid": "5a0a19c3f62508dc9106eaf43a2d5e61612b77c0"
   },
   "source": [
    "## Common Conditions"
   ]
  },
  {
   "cell_type": "code",
   "execution_count": null,
   "metadata": {
    "_uuid": "f66d5731f58f747eb20d2f66c4f55f5708140ab5"
   },
   "outputs": [],
   "source": [
    "# I previously did this by creating and sorting a dictionary -- here's an easier way with pandas! (Inspiration from Sayan Goswami)\n",
    "conditions = train.condition.value_counts().sort_values(ascending=False)\n",
    "conditions[:10]"
   ]
  },
  {
   "cell_type": "code",
   "execution_count": null,
   "metadata": {
    "_uuid": "214d11f76d4f19def9b897b598a380970744aa35"
   },
   "outputs": [],
   "source": [
    "plt.rcParams['figure.figsize'] = [12, 8]"
   ]
  },
  {
   "cell_type": "code",
   "execution_count": null,
   "metadata": {
    "_uuid": "402488aeadb4e149a9f76019297712d2cf5cd16d"
   },
   "outputs": [],
   "source": [
    "conditions[:10].plot(kind='bar')\n",
    "plt.title('Top 10 Most Common Conditions')\n",
    "plt.xlabel('Condition')\n",
    "plt.ylabel('Count');"
   ]
  },
  {
   "cell_type": "markdown",
   "metadata": {
    "_uuid": "8ef898f89674c0cbcd29bd680ef951ae9dfc85b4"
   },
   "source": [
    "We're familiar with these most common conditions. It makes sense that something like birth control would have more reviews than something like anthrax! (Presumably, anthrax antibiotics?)"
   ]
  },
  {
   "cell_type": "markdown",
   "metadata": {
    "_uuid": "a8b7fa6568e94c4b0173008f70cf86f16c822a7a"
   },
   "source": [
    "## Rating Distribution"
   ]
  },
  {
   "cell_type": "code",
   "execution_count": null,
   "metadata": {
    "_uuid": "f0c3781eb48fcafb8f10d7610b56a220a51c6cf2"
   },
   "outputs": [],
   "source": [
    "# Look at bias in review (also shown on 'Data' page in competition: distribution of ratings)\n",
    "train.rating.hist(color='skyblue')\n",
    "plt.title('Distribution of Ratings')\n",
    "plt.xlabel('Rating')\n",
    "plt.ylabel('Count')\n",
    "plt.xticks([i for i in range(1, 11)]);"
   ]
  },
  {
   "cell_type": "markdown",
   "metadata": {
    "_uuid": "1494f56cbd87e0f6dbd205e5615db8a0e9ea6c7a"
   },
   "source": [
    "This distribution illustrates that people generally write reviews for drugs they really like (or those that they really dislike). There are fewer middle ratings as compared to extreme ratings. "
   ]
  },
  {
   "cell_type": "code",
   "execution_count": null,
   "metadata": {
    "_uuid": "98062c9d9df49860dcf9324398975ec956a5ba30"
   },
   "outputs": [],
   "source": [
    "rating_avgs = (train['rating'].groupby(train['drugName']).mean())\n",
    "rating_avgs.hist(color='skyblue')\n",
    "plt.title('Distribution of average drug ratings')\n",
    "plt.xlabel('Rating')\n",
    "plt.ylabel('Count')"
   ]
  },
  {
   "cell_type": "code",
   "execution_count": null,
   "metadata": {
    "_uuid": "c194a0b8dfec56ff060832900e2d27d4e438d777"
   },
   "outputs": [],
   "source": [
    "rating_avgs = (train['rating'].groupby(train['condition']).mean())\n",
    "rating_avgs.hist(color='skyblue')\n",
    "plt.title('Averages of medication reviews for each disease')\n",
    "plt.xlabel('Rating')\n",
    "plt.ylabel('Count')\n",
    "plt.show()"
   ]
  },
  {
   "cell_type": "markdown",
   "metadata": {
    "_uuid": "c5f488e40fbd5108128db375558aefd73a984e03"
   },
   "source": [
    "## Usefulness vs Rating"
   ]
  },
  {
   "cell_type": "code",
   "execution_count": null,
   "metadata": {
    "_uuid": "baf32403506615650e8057449bfcede814cba7e4"
   },
   "outputs": [],
   "source": [
    "# Is rating correlated with usefulness of the review?\n",
    "plt.scatter(train.rating, train.usefulCount, c=train.rating.values, cmap='tab10')\n",
    "plt.title('Useful Count vs Rating')\n",
    "plt.xlabel('Rating')\n",
    "plt.ylabel('Useful Count')\n",
    "plt.xticks([i for i in range(1, 11)]);"
   ]
  },
  {
   "cell_type": "code",
   "execution_count": null,
   "metadata": {
    "_uuid": "38b61c2b266be85db8043fc3fb81bafd21bf41c6"
   },
   "outputs": [],
   "source": [
    "# Create a list (cast into an array) containing the average usefulness for given ratings\n",
    "use_ls = []\n",
    "\n",
    "for i in range(1, 11):\n",
    "    use_ls.append([i, np.sum(train[train.rating == i].usefulCount) / np.sum([train.rating == i])])\n",
    "    \n",
    "use_arr = np.asarray(use_ls)"
   ]
  },
  {
   "cell_type": "code",
   "execution_count": null,
   "metadata": {
    "_uuid": "6296118b16ccd0fd451b6c6c4e9a0e50077981e5"
   },
   "outputs": [],
   "source": [
    "plt.scatter(use_arr[:, 0], use_arr[:, 1], c=use_arr[:, 0], cmap='tab10', s=200)\n",
    "plt.title('Average Useful Count vs Rating')\n",
    "plt.xlabel('Rating')\n",
    "plt.ylabel('Average Useful Count')\n",
    "plt.xticks([i for i in range(1, 11)]);"
   ]
  },
  {
   "cell_type": "markdown",
   "metadata": {
    "_uuid": "a84b1389e6973339a20968a9c2f8076f489fdd6a"
   },
   "source": [
    "Looks like people found reviews with higher scores to be more useful! In the sense that reviews with high ratings recieved more 'useful' tags than reviews with low ratings. Interesting..."
   ]
  },
  {
   "cell_type": "markdown",
   "metadata": {
    "_uuid": "7379b14ab22928b95d0a7071d74ebc6e569949bd"
   },
   "source": [
    "We're curious: what makes a review useful? Let's look at some of the most useful reviews:"
   ]
  },
  {
   "cell_type": "code",
   "execution_count": null,
   "metadata": {
    "_uuid": "579bf3506d70303c0ad5173b0a9d9755b6d9d73c"
   },
   "outputs": [],
   "source": [
    "# Sort train dataframe from most to least useful\n",
    "useful_train = train.sort_values(by='usefulCount', ascending=False)\n",
    "useful_train.iloc[:10]"
   ]
  },
  {
   "cell_type": "code",
   "execution_count": null,
   "metadata": {
    "_uuid": "5e0e27c96e0f9a4a141ce020ee708046a86360a7"
   },
   "outputs": [],
   "source": [
    "# Print top 10 most useful reviews\n",
    "for i in useful_train.review.iloc[:3]:\n",
    "    print(i, '\\n')"
   ]
  },
  {
   "cell_type": "markdown",
   "metadata": {
    "_uuid": "4c87232d71e4c5c8f3cda79fddd1ef72ce07660a"
   },
   "source": [
    "The useful reviews seem positive! Let's see some not-so-useful reviews:"
   ]
  },
  {
   "cell_type": "code",
   "execution_count": null,
   "metadata": {
    "_uuid": "c13449b7d0ee0d8f4d0b1b43804b1317ff0dbb95"
   },
   "outputs": [],
   "source": [
    "# Print 10 of the least useful reviews\n",
    "for i in useful_train.review.iloc[-3:]:\n",
    "    print(i, '\\n')"
   ]
  },
  {
   "cell_type": "markdown",
   "metadata": {
    "_uuid": "9c0ede0b822790d38bb98024e411c1e13470f165"
   },
   "source": [
    "The not-so-useful reviews seem much more negative. The final review listed is barely a review -- just a concerned patient asking questions about the product!\n",
    "\n",
    "Our conclusions appear consistent with the above graph -- reviewers find higher ratings/better reviews to be more useful than lower ratings/worse reviews. Does this represent some sort of bias within the useful count?\n",
    "\n",
    "We're also interested in quantifying the sentiment of these reviews."
   ]
  },
  {
   "cell_type": "code",
   "execution_count": null,
   "metadata": {
    "_uuid": "b98cdd5b4ba651b560607026e1efcbc0343172c0"
   },
   "outputs": [],
   "source": [
    "sid = SentimentIntensityAnalyzer()"
   ]
  },
  {
   "cell_type": "code",
   "execution_count": null,
   "metadata": {
    "_uuid": "bbd82af5b79b4fc9ac4d4c749ce53fbf13a310b1"
   },
   "outputs": [],
   "source": [
    "# Create list (cast to array) of compound polarity sentiment scores for reviews\n",
    "sentiments = []\n",
    "\n",
    "for i in train.review:\n",
    "    sentiments.append(sid.polarity_scores(i).get('compound'))\n",
    "    \n",
    "sentiments = np.asarray(sentiments)"
   ]
  },
  {
   "cell_type": "code",
   "execution_count": null,
   "metadata": {
    "_uuid": "5e5f02f0bee0b20fe154937fa484130f74e12db5"
   },
   "outputs": [],
   "source": [
    "sentiments"
   ]
  },
  {
   "cell_type": "code",
   "execution_count": null,
   "metadata": {
    "_uuid": "e9b68f6c05f506a5f9123dd7f5edd6d07a44df22"
   },
   "outputs": [],
   "source": [
    "useful_train['sentiment'] = "
   ]
  },
  {
   "cell_type": "code",
   "execution_count": null,
   "metadata": {
    "_uuid": "f3c00b36a5601381f7a980bdf0dee2380a9d6764"
   },
   "outputs": [],
   "source": [
    "\n",
    "useful_train.head()"
   ]
  },
  {
   "cell_type": "code",
   "execution_count": null,
   "metadata": {
    "_uuid": "813fc66f45b4ca20667a835373ad97020a702278"
   },
   "outputs": [],
   "source": [
    "useful_train.sentiment.hist(color='skyblue', bins=30)\n",
    "plt.title('Compound Sentiment Score Distribution')\n",
    "plt.xlabel('Scores')\n",
    "plt.ylabel('Count');"
   ]
  },
  {
   "cell_type": "code",
   "execution_count": null,
   "metadata": {
    "_uuid": "e7af63fbba7d71a3395cf810198c7a9317e76e92"
   },
   "outputs": [],
   "source": [
    "useful_train.plot(x='sentiment', y='usefulCount', kind='scatter', alpha=0.01)\n",
    "plt.title('Usefulness vs Sentiment')\n",
    "plt.ylim(0, 200);"
   ]
  },
  {
   "cell_type": "code",
   "execution_count": null,
   "metadata": {
    "_uuid": "238df0d2505dbf067b1b69953f602e3e9639f3ca"
   },
   "outputs": [],
   "source": [
    "temp_ls = []\n",
    "\n",
    "for i in range(1, 11):\n",
    "    temp_ls.append(np.sum(useful_train[useful_train.rating == i].sentiment) / np.sum(useful_train.rating == i))"
   ]
  },
  {
   "cell_type": "code",
   "execution_count": null,
   "metadata": {
    "_uuid": "249ea3013037505be4ccd698f4a917d730392c90"
   },
   "outputs": [],
   "source": [
    "plt.scatter(x=range(1, 11), y=temp_ls, c=range(1, 11), cmap='tab10', s=200)\n",
    "plt.title('Average Sentiment vs Rating')\n",
    "plt.xlabel('Rating')\n",
    "plt.ylabel('Average Sentiment')\n",
    "plt.xticks([i for i in range(1, 11)]);"
   ]
  },
  {
   "cell_type": "markdown",
   "metadata": {
    "_uuid": "b90ea2c857eec862b43db02998d76f38d6cd9b05"
   },
   "source": [
    "Let's see what other meaningful insights we can get from the data! Find the best and worst reviewed drugs overall:"
   ]
  },
  {
   "cell_type": "code",
   "execution_count": null,
   "metadata": {
    "_uuid": "70554faa20a82d42a2e8f98b06242a514cc8e3fb"
   },
   "outputs": [],
   "source": [
    "# Create a list of all drugs and their average ratings, cast to dataframe\n",
    "rate_ls = []\n",
    "\n",
    "for i in train.drugName.unique():\n",
    "    \n",
    "    # Only consider drugs that have at least 10 ratings\n",
    "    if np.sum(train.drugName == i) >= 10:\n",
    "        rate_ls.append((i, np.sum(train[train.drugName == i].rating) / np.sum(train.drugName == i)))\n",
    "    \n",
    "avg_rate = pd.DataFrame(rate_ls)"
   ]
  },
  {
   "cell_type": "code",
   "execution_count": null,
   "metadata": {
    "_uuid": "bd7275116aa2952915557426f5760993248d43f5"
   },
   "outputs": [],
   "source": [
    "# Sort drugs by their ratings, look at top 10 best and worst rated drugs\n",
    "avg_rate = avg_rate.sort_values(by=[1], ascending=False).reset_index(drop=True)\n",
    "avg_rate[:10]"
   ]
  },
  {
   "cell_type": "code",
   "execution_count": null,
   "metadata": {
    "_uuid": "a3362fc9f42fb947df2d6495a80994693d76e981"
   },
   "outputs": [],
   "source": [
    "avg_rate[-10:]"
   ]
  },
  {
   "cell_type": "markdown",
   "metadata": {
    "_uuid": "bf9c9f1cd24a3b451bf9e163769849d79ec074f3"
   },
   "source": [
    "A quick Google search seems to confirms our results!"
   ]
  },
  {
   "cell_type": "markdown",
   "metadata": {
    "_uuid": "8534cc97f2f46cb8828fe1676e0d735a16213c95"
   },
   "source": [
    "## Best and Worst Drugs by Condition\n",
    "<br>\n",
    "Let's find the highest and lowest rated drugs for each condition! This information will be helpful for a user who is looking for medication for a specific condition."
   ]
  },
  {
   "cell_type": "code",
   "execution_count": null,
   "metadata": {
    "_uuid": "97319f506789f345a8947f5edefd056346fc943d"
   },
   "outputs": [],
   "source": [
    "# Make dictionary of conditions, each value will be a dataframe of all of the drugs used to treat the given condition\n",
    "help_dict = {}\n",
    "\n",
    "# Iterate over conditions\n",
    "for i in train.condition.unique():\n",
    "    \n",
    "    temp_ls = []\n",
    "    \n",
    "    # Iterate over drugs within a given condition\n",
    "    for j in train[train.condition == i].drugName.unique():\n",
    "        \n",
    "        # If there are at least 10 reviews for a drug, save its name and average rating in temporary list\n",
    "        if np.sum(train.drugName == j) >= 10:\n",
    "            temp_ls.append((j, np.sum(train[train.drugName == j].rating) / np.sum(train.drugName == j)))\n",
    "        \n",
    "    # Save temporary list as a dataframe as a value in help dictionary, sorted best to worst drugs\n",
    "    help_dict[i] = pd.DataFrame(data=temp_ls, columns=['drug', 'average_rating']).sort_values(by='average_rating', ascending=False).reset_index(drop=True)"
   ]
  },
  {
   "cell_type": "markdown",
   "metadata": {
    "_uuid": "3f28c36472e8dd1b59a7a572a2f7f4f155f4c15a"
   },
   "source": [
    "Now we've got a very useful 'help_dict' dictionary! \n",
    "\n",
    "We can simply index the dictionary by a specific condition to see the top rated drugs for that condition. For example, let's look at the top 10 drugs for birth control:"
   ]
  },
  {
   "cell_type": "code",
   "execution_count": null,
   "metadata": {
    "_uuid": "9dc754974be28c3301f37238a9a23fa9fa90be1e"
   },
   "outputs": [],
   "source": [
    "help_dict['Birth Control'].iloc[:10]"
   ]
  },
  {
   "cell_type": "markdown",
   "metadata": {
    "_uuid": "66d1e4091d982de196c2ba27a8d6abe1006db2ae"
   },
   "source": [
    "Drugs used for birth control are listed, from best to worst average rating. Let's the top 10 best drugs for some other conditions:"
   ]
  },
  {
   "cell_type": "code",
   "execution_count": null,
   "metadata": {
    "_uuid": "d1f5e4558e62baddc2424ad26329bad1554903d2"
   },
   "outputs": [],
   "source": [
    "help_dict['Depression'].iloc[:10]"
   ]
  },
  {
   "cell_type": "code",
   "execution_count": null,
   "metadata": {
    "_uuid": "5876136180ab3627d681d09b32fe5e0b7627ed50"
   },
   "outputs": [],
   "source": [
    "help_dict['Acne'].iloc[:10]"
   ]
  },
  {
   "cell_type": "markdown",
   "metadata": {
    "_uuid": "3abd16c1b989c7d17925ee82f92d12fa0f32323a"
   },
   "source": [
    "**This information is really useful! We can easily find the best drugs for any given condition.**"
   ]
  },
  {
   "cell_type": "markdown",
   "metadata": {
    "_uuid": "2a5be7b8534c58fc753a24fb1a13579062ec6c58"
   },
   "source": [
    "We can also see the worst rated drugs:"
   ]
  },
  {
   "cell_type": "code",
   "execution_count": null,
   "metadata": {
    "_uuid": "ad6af9fa5ccb60ba61f65b3daeca81889dd0c94e"
   },
   "outputs": [],
   "source": [
    "help_dict['Acne'].iloc[-10:]"
   ]
  },
  {
   "cell_type": "markdown",
   "metadata": {
    "_uuid": "11f42652897eaeb9d91999bcbe050b0d3202e2cd"
   },
   "source": [
    "# Machine Learning Models\n",
    "It's now time to begin trying different machine learning models and try treating this first as a classification problem, and then as a regression problem.\n"
   ]
  },
  {
   "cell_type": "markdown",
   "metadata": {
    "_uuid": "380c73c20568f31cef60ad7c695f30640534e552"
   },
   "source": [
    "# Classification with sk-learn and Random Forests"
   ]
  },
  {
   "cell_type": "markdown",
   "metadata": {
    "_uuid": "52dcff03224e68c93f05b4cef3074c97f5e04a48"
   },
   "source": [
    "We will apply random forests for the purpose of sentiment analysis of reviews. The obvious starting question for such an approach is how can we convert the raw text of the review into a data representation that can be used by a numerical classifier. To this end, we will use the process of vectorization. By vectorizing the 'review' column, we can allow widely-varying lengths of text to be converted into a numerical format which can be processed by the classifier.\n",
    "\n",
    "This is achieved via the TI-IDF method which involves creating tokens (i.e. individual words or groups of words extracted from the text). Once the list of tokens is created, they are assigned an index integer identifier which allows them to be listed. We can then count the number of words in the document and normalize them in such a way that de-emphasizes words that appear frequently (like \"a\", \"the\", etc.). This creates what is known as a bag (multi-set) of words. Such a representation associates a real-valued vector to each review representing the importance of the tokens (words) in the review. This represents the entire corpus of reviews as a large matrix where each row of the matrix represents one of the reviews and each column repreents a token occurence.\n",
    "\n",
    "Term-Frequency Inverse Document-Frequency (TF-IDF) is a way of handling the excessive noise due to words such as \"a\", \"the\", \"he\", \"she\", etc. Clearly such common words will appear in many reviews, but do not provide much isight into the sentiment of the text and their high frequency tends to obfuscate words that provide significant insight into sentiment. More details about the method can be found on [wikipedia](http://en.wikipedia.org/wiki/Tf%E2%80%93idf).\n",
    "\n",
    "The main limitation of this approach is that it does not take into account the relative position of words within the document. Here we are only using the frequency of occurence. Nevertheless, it works pretty well for this data set."
   ]
  },
  {
   "cell_type": "code",
   "execution_count": null,
   "metadata": {
    "_uuid": "3442b3dbf48df792d081c3c273133d5e5edafcbc"
   },
   "outputs": [],
   "source": [
    "# Creates TF-IDF vectorizer and transforms the corpus\n",
    "vectorizer = TfidfVectorizer()\n",
    "X_train = vectorizer.fit_transform(train.review)\n",
    "\n",
    "# transforms test reviews to above vectorized format\n",
    "X_test = vectorizer.transform(test.review)"
   ]
  },
  {
   "cell_type": "markdown",
   "metadata": {
    "_uuid": "9dee6ff210021223ba6741b3b925fec00374762e"
   },
   "source": [
    "The simplest type of model we can attempt to fit on this data is the Naive Bayes classifier. We will first test Naive Bayes on a binarized version of the rating column which attempts to identify which reviews are favorable. We define a favorable review as one which received a rating above 5. Given the sample size involved for our data set, we choose Naive Bayes over other classifiers due to its scalability."
   ]
  },
  {
   "cell_type": "code",
   "execution_count": null,
   "metadata": {
    "_uuid": "1d2416c04b0f90514e1dea765f9bc5c195298a3e"
   },
   "outputs": [],
   "source": [
    "# Create a column with binary rating indicating the polarity of a review\n",
    "train['binary_rating'] = train['rating'] > 5\n",
    "\n",
    "y_train_rating = train.binary_rating\n",
    "clf = MultinomialNB().fit(X_train, y_train_rating)\n",
    "\n",
    "# Evaluates model on test set\n",
    "test['binary_rating'] = test.rating > 5\n",
    "y_test_rating = test.binary_rating\n",
    "pred = clf.predict(X_test)\n",
    "\n",
    "print(\"Accuracy: %s\" % str(clf.score(X_test, y_test_rating)))\n",
    "print(\"Confusion Matrix\")\n",
    "print(confusion_matrix(pred, y_test_rating))"
   ]
  },
  {
   "cell_type": "code",
   "execution_count": null,
   "metadata": {
    "_uuid": "07032d331536751c563bb0c50030d8fae992dafc"
   },
   "outputs": [],
   "source": [
    "# Trains random forest classifier\n",
    "start = time.time()\n",
    "rfc_rating = RandomForestClassifier(n_estimators=100, random_state=42, max_depth = 10000, min_samples_split = 0.001)\n",
    "rfc_rating.fit(X_train, y_train_rating)\n",
    "end = time.time()\n",
    "print(\"Training time: %s\" % str(end-start))\n",
    "\n",
    "# Evaluates model on test set\n",
    "pred = rfc_rating.predict(X_test)\n",
    "\n",
    "print(\"Accuracy: %s\" % str(rfc_rating.score(X_test, y_test_rating)))\n",
    "print(\"Confusion Matrix\")\n",
    "print(confusion_matrix(pred, y_test_rating))"
   ]
  },
  {
   "cell_type": "markdown",
   "metadata": {
    "_uuid": "9615ea409f1cb2eecbc1bd6b29b412c592f4ff8b"
   },
   "source": [
    "We can see that a more complicated classifier gets us a roughly 8% increase in the accuracy of our classifier."
   ]
  },
  {
   "cell_type": "markdown",
   "metadata": {
    "_uuid": "c87b8ee396e4927663a4ce096f210376f50bc9fd"
   },
   "source": [
    "# Classification with Keras\n",
    "* Neural networks usually scale very well with lots of data, and that's exactly what we have here (150,000 training examples, 50,000 test examples). We actually couldn't run all of these through sk-learn as the kernel would just crash after a couple of minutes. However, keras plays with this much data very nicely.\n",
    "* While we are sticking to a simple NN in this kernel, other types of NN architecture can deal with natural language processing problems very well (long short term memory models, other types of recurrent networks).\n",
    "* Keras gives us lots of freedom to play with hyperparameters and design a network that would be best suited for our data."
   ]
  },
  {
   "cell_type": "code",
   "execution_count": null,
   "metadata": {
    "_uuid": "42cd07b6ea3878addb09f6a6930db1efbcbefc2e"
   },
   "outputs": [],
   "source": [
    "b = \"'@#$%^()&*;!.-\"\n",
    "X_train = np.array(train['review'])\n",
    "X_test = np.array(test['review'])\n",
    "\n",
    "def clean(X):\n",
    "    for index, review in enumerate(X):\n",
    "        for char in b:\n",
    "            X[index] = X[index].replace(char, \"\")\n",
    "    return(X)\n",
    "\n",
    "X_train = clean(X_train)\n",
    "X_test = clean(X_test)\n",
    "print(X_train[:2])"
   ]
  },
  {
   "cell_type": "markdown",
   "metadata": {
    "_uuid": "88276ff0b099a1f9353c82c31ea799e3a11e73ad"
   },
   "source": [
    "Doing some preprocessing by removing all symbols from the reviews."
   ]
  },
  {
   "cell_type": "code",
   "execution_count": null,
   "metadata": {
    "_uuid": "1fcaaeabc882a6d00950eb6e33c42e323cf62954"
   },
   "outputs": [],
   "source": [
    "from keras.models import Sequential\n",
    "from keras.layers import Dense, LSTM, Embedding\n",
    "from sklearn.feature_extraction.text import CountVectorizer, TfidfVectorizer\n",
    "from nltk.corpus import stopwords\n",
    "from keras.utils import to_categorical\n",
    "from gensim.models import Word2Vec\n",
    "from nltk.cluster import KMeansClusterer\n",
    "import nltk\n",
    "\n",
    "vectorizer = CountVectorizer(binary=True, stop_words=stopwords.words('english'),lowercase=True, max_features=5000)\n",
    "#vectorizer = TfidfVectorizer(binary=True, stop_words=stopwords.words('english'), lowercase=True, max_features=5000)\n",
    "test_train = np.concatenate([X_train, X_test])\n",
    "print(test_train.shape)\n",
    "X_onehot = vectorizer.fit_transform(test_train)\n",
    "stop_words = vectorizer.get_stop_words()\n",
    "print(type(X_onehot))"
   ]
  },
  {
   "cell_type": "markdown",
   "metadata": {
    "_uuid": "29685ddfe8501f4b27b80a51d5d88c8fa047203a"
   },
   "source": [
    "\n",
    "* I use a CountVectorizer to vectorize each of the different reviews into 5000 feature row vectors. This is a very similar approach to vectorization as the TDIF explained above. \n",
    "* This vectorizer is also set to not add in very common words such as \"and\" and \"the\" as features. This is specified in stop_words."
   ]
  },
  {
   "cell_type": "code",
   "execution_count": null,
   "metadata": {
    "_uuid": "de0a9c1a1a2420067250dfe83d89f5fcc69e7543"
   },
   "outputs": [],
   "source": [
    "print(X_onehot.shape)\n",
    "print(X_onehot.toarray())"
   ]
  },
  {
   "cell_type": "markdown",
   "metadata": {
    "_uuid": "5a0e71e2ff26009832eb2ebea8107f87fb601bc6"
   },
   "source": [
    "Sanity checking to see if the dimensions make sense, then peeking at what the actual X_onehot matrix looks like.\n",
    "We have our trimmed m number of examples, as well as 5000 columns so this looks right!"
   ]
  },
  {
   "cell_type": "code",
   "execution_count": null,
   "metadata": {
    "_uuid": "27c31c151de12f7bc02abe3727db50266e221632"
   },
   "outputs": [],
   "source": [
    "names_list = vectorizer.get_feature_names()\n",
    "names = [[i] for i in names_list]\n",
    "names = Word2Vec(names, min_count=1)\n",
    "print(len(list(names.wv.vocab)))\n",
    "print(list(names.wv.vocab)[:5])\n"
   ]
  },
  {
   "cell_type": "markdown",
   "metadata": {
    "_uuid": "1752aecb8071fdc7bcd4bf1d84980505f5ab3f50"
   },
   "source": [
    "Peeking at the first 5 of our vectorized feature words."
   ]
  },
  {
   "cell_type": "code",
   "execution_count": null,
   "metadata": {
    "_uuid": "3ecb5d1c730a6bddaaac1dd985c690811e989558"
   },
   "outputs": [],
   "source": [
    "def score_transform(X):\n",
    "    y_reshaped = np.reshape(X['rating'].values, (-1, 1))\n",
    "    for index, val in enumerate(y_reshaped):\n",
    "        if val >= 8:\n",
    "            y_reshaped[index] = 1\n",
    "        elif val >= 5:\n",
    "            y_reshaped[index] = 2\n",
    "        else:\n",
    "            y_reshaped[index] = 0\n",
    "    y_result = to_categorical(y_reshaped)\n",
    "    return y_result\n",
    "    \n",
    "    print(X_onehot)"
   ]
  },
  {
   "cell_type": "markdown",
   "metadata": {
    "_uuid": "7105c0d306786fe1dd6869daace5db8b88be6f8f"
   },
   "source": [
    "* Creating a helper function to easily create our y labels. We need to transform the review column to a m number of reviews by 3 columns, where index 0 is negative, 1 is positive and 2 is neutral."
   ]
  },
  {
   "cell_type": "code",
   "execution_count": null,
   "metadata": {
    "_uuid": "9636704eefaf018ee299f638c9c617dc9e58657e"
   },
   "outputs": [],
   "source": [
    "y_train_test = pd.concat([train, test], ignore_index=True)\n",
    "y_train = score_transform(y_train_test)\n",
    "print(y_train)\n",
    "print(y_train.shape)"
   ]
  },
  {
   "cell_type": "markdown",
   "metadata": {
    "_uuid": "544dfa920ef869a3bcddffa4322c748c3a4528b0"
   },
   "source": [
    "Checking if our helper function works. Seems good."
   ]
  },
  {
   "cell_type": "code",
   "execution_count": null,
   "metadata": {
    "_uuid": "e9d2ad59d9030a9ac375b8694d60c4a441f387b8"
   },
   "outputs": [],
   "source": [
    "from numpy.random import seed\n",
    "\n",
    "np.random.seed(1)\n",
    "model = Sequential()\n",
    "model.add(Dense(units=256, activation='relu', input_dim=len(vectorizer.get_feature_names())))\n",
    "model.add(Dense(units=3, activation='softmax'))\n",
    "\n",
    "model.compile(loss='categorical_crossentropy', optimizer='adam', metrics=['accuracy'])\n",
    "model.summary"
   ]
  },
  {
   "cell_type": "markdown",
   "metadata": {
    "_uuid": "8615110a1b652a3d61d4db68c1c3b2b8577d6ad3"
   },
   "source": [
    "I experimented a lot with different kinds of simple NN architecture and this is what I concluded:\n",
    "* Softmax was the best activation function for the output layer.\n",
    "* Vectorizing with the TFIDF vectorizer took longer to converge but had roughly the same accuracy as when I vectorized with the CountVectorizer. Changing binary and lowercase didn't result in any changes.\n",
    "* 256 units was the sweet spot for accuracy without overfitting. \n",
    "    * Any units above would give me less accuracy as the model continued to train as well as overall performing worse, and less units just gave me worse accuracy overall.\n",
    "    * I also discovered that adding any additional layers to the model resulted in a loss of accuracy, even when I kept the number of layer units small.\n",
    "\n"
   ]
  },
  {
   "cell_type": "code",
   "execution_count": null,
   "metadata": {
    "_uuid": "e1bdf5d98b640e1604272a692330b38d1c8de7a8"
   },
   "outputs": [],
   "source": [
    "history = model.fit(X_onehot[:-53866], y_train[:-53866], epochs=6, batch_size=128, verbose=1, validation_data=(X_onehot[157382:157482], y_train[157382:157482]))"
   ]
  },
  {
   "cell_type": "markdown",
   "metadata": {
    "_uuid": "1e040ebc5619415b812dc650b8340850ffa2fa6a"
   },
   "source": [
    "* I experimented with different numbers of epochs and batch sizes as well, and found roughly 6 epochs and a batch size of 128 to be optimal. \n",
    "* Anything more than 6 epochs resulted in the model beginning to overtrain and lose accuracy.\n",
    "* Before running preprocessing on the reviews by eliminating symbols, the validation accuracy stayed around 84%. Now it scores a perfect 100% on the 100 examples."
   ]
  },
  {
   "cell_type": "code",
   "execution_count": null,
   "metadata": {
    "_uuid": "4bb6d018515e461d170877ff43aa1f77fd176be6"
   },
   "outputs": [],
   "source": [
    "scores = model.evaluate(X_onehot[157482:], y_train[157482:], verbose=1)"
   ]
  },
  {
   "cell_type": "code",
   "execution_count": null,
   "metadata": {
    "_uuid": "914c01f0a0915016e3872c10d4463787d26114eb"
   },
   "outputs": [],
   "source": [
    "scores[1]"
   ]
  },
  {
   "cell_type": "code",
   "execution_count": null,
   "metadata": {
    "_uuid": "6157cd8f8db77a810137062a9c75c46735a9302b"
   },
   "outputs": [],
   "source": [
    "plt.plot(history.history['acc'])\n",
    "plt.plot(history.history['val_acc'])\n",
    "plt.title('Model accuracy')\n",
    "plt.ylabel('Accuracy')\n",
    "plt.xlabel('Epoch')\n",
    "plt.legend(['Train', 'Test'], loc='upper left')\n",
    "plt.show()"
   ]
  },
  {
   "cell_type": "markdown",
   "metadata": {
    "_uuid": "2e2223e0464c94051218dc62db45bac51b66ac04"
   },
   "source": [
    "This model predicts the if the rievew is positive, negative or neutral with a ~89.4% accuracy, according to this test set output score."
   ]
  },
  {
   "cell_type": "markdown",
   "metadata": {
    "_uuid": "615e8f4bdacbc6d1b6b56f0c4d64f0e93782bb97"
   },
   "source": [
    "# Feature Analysis\n",
    "This section was our idea of attempting to derive importance out of our vectorized features by k-clustering by similarity, as keras has no built-in function to check for feature importance."
   ]
  },
  {
   "cell_type": "code",
   "execution_count": null,
   "metadata": {
    "_uuid": "b07782bfc476a1e44fda355d5ebcc46929d692a4"
   },
   "outputs": [],
   "source": [
    "all_names = [i.split() for i in X_train]"
   ]
  },
  {
   "cell_type": "markdown",
   "metadata": {
    "_uuid": "3935c352bfd68d23dff893356d68c4a9ada7fdb2"
   },
   "source": [
    "Splitting up our X_train for parsing through."
   ]
  },
  {
   "cell_type": "code",
   "execution_count": null,
   "metadata": {
    "_uuid": "a8c1c6ea94abb3f6fec3cbe9ecb4ab870a930d13"
   },
   "outputs": [],
   "source": [
    "np.random.seed(1)\n",
    "all_names_rand = [all_names[np.random.randint(low=1, high=150000)] for i in range(5000)]\n",
    "print(len(all_names_rand))"
   ]
  },
  {
   "cell_type": "markdown",
   "metadata": {
    "_uuid": "28aff9f1a83e6f4dd0c2eb5171cd21571a880610"
   },
   "source": [
    "Taking a random sample of 5000 reviews for training our kclusterer on."
   ]
  },
  {
   "cell_type": "code",
   "execution_count": null,
   "metadata": {
    "_uuid": "e1874d035cbe38a106c84a7db11d1994fad34063"
   },
   "outputs": [],
   "source": [
    "all_names_list = Word2Vec(all_names_rand, min_count=1)\n",
    "all_names_vec = all_names_list[all_names_list.wv.vocab]\n",
    "print(all_names[0])"
   ]
  },
  {
   "cell_type": "code",
   "execution_count": null,
   "metadata": {
    "_uuid": "a72b06713f20c581c903125085dfed1e4d6027e0"
   },
   "outputs": [],
   "source": [
    "kclusterer_all = KMeansClusterer(5, distance=nltk.cluster.util.cosine_distance, repeats=10)\n",
    "assigned_clusters_all = kclusterer_all.cluster(all_names_vec, assign_clusters=True)\n",
    "print(len(assigned_clusters_all))"
   ]
  },
  {
   "cell_type": "markdown",
   "metadata": {
    "_uuid": "12946c38920337bfe210f021dc2cabe286d8a7c7"
   },
   "source": [
    "Running KClustering on every single word from all of the reviews. This takes a while to run usually. I found the algorithm converged around 25 repeats and then stopped clustering further. For this example however, running 25 repeats makes the kernel commit take a very long time, and thus 10 will do the job.\n",
    "* Just running kmeans on the features themselves resulted into very inaccurate clustering and things made a lot more sense when I kept the sentences intact, as there was a lot more information retained.\n",
    "* I could not find a way to seed this kclusterer to get reproducable results so different cluster numbers are given every time. The overall counts of the clusters are roughly the same though.\n"
   ]
  },
  {
   "cell_type": "code",
   "execution_count": null,
   "metadata": {
    "_uuid": "9f7466bdc8a0ea9b098546522076b2ada96be0e0"
   },
   "outputs": [],
   "source": [
    "def generate_df(feature_names): \n",
    "    \n",
    "    #  creates a zipped dictionary with every word from all of the reviews as a key and its assigned cluster as its value\n",
    "    all_words_dict = dict(zip(all_names_list.wv.vocab, assigned_clusters_all))\n",
    "    \n",
    "    #iterates through and deletes any word that isn't a feature.\n",
    "    for key in list(all_words_dict.keys()):\n",
    "        if key in list(feature_names):\n",
    "            pass\n",
    "        else:\n",
    "            del all_words_dict[key]\n",
    "            \n",
    "    #dictionary is then converted into nested list, with each inner list corresponding to one cluster.\n",
    "    sorted_names = []\n",
    "    for cluster in range(5):\n",
    "        cluster_list = []\n",
    "        for key, value in all_words_dict.items():\n",
    "            if value == cluster:\n",
    "                cluster_list.append(key)\n",
    "        sorted_names.append(cluster_list)\n",
    "        \n",
    "    #inner list word features are sorted alphabetically then converted into a pandas DataFrame.\n",
    "    for index, entry in enumerate(sorted_names):\n",
    "        entry.sort()\n",
    "    \n",
    "    df_all = pd.DataFrame(sorted_names).T\n",
    "    print(df_all[:50])\n",
    "    \n",
    "    #returns pandas dataframe with each cluster as a column and a list of lists where each list is all of the words assigned to that cluster.\n",
    "    return df_all, sorted_names\n",
    "    \n",
    "\n",
    "df,sorted_names_all = generate_df(names.wv.vocab)"
   ]
  },
  {
   "cell_type": "markdown",
   "metadata": {
    "_uuid": "88a324647bd6eb86e0dc645152c792d27a1356df"
   },
   "source": [
    "* This function gives us our list of words per cluster, as well as a pandas DataFrame where each column corresponds to a different cluster.\n",
    "* The way how these clusters are split up is interesting. It's cool to see how similar words are clustered together, and words one wouldn't think would be related are grouped together as well.\n",
    "    * There is also a big negative side to this: If the features aren't being split up in an easy to understand way, it is much harder to form meaningful conclusions if a certain cluster performs better than another.\n",
    "    * In this case, the clusters are not being split up in any way that we can conclude one certain subject is more beneficial for the model than another certain subject.\n"
   ]
  },
  {
   "cell_type": "code",
   "execution_count": null,
   "metadata": {
    "_uuid": "e1dcab3ec47a16e4f692fbddeaceaeac474786f6"
   },
   "outputs": [],
   "source": [
    "def test_clusters(cluster_list):\n",
    "    #function iterates through a list of lists. these lists contain names of the feature words we want to test our model with.\n",
    "    \n",
    "    #score_list for accuracy of each cluster on model.\n",
    "    score_list = []\n",
    "    lens = []\n",
    "    \n",
    "    #number of reviews tested on.\n",
    "    reviewnum = 15000\n",
    "    \n",
    "    #random sampling of reviews.\n",
    "    np.random.seed(3)\n",
    "    indicies = [np.random.randint(low=1, high=150000) for i in range(reviewnum)]\n",
    "    X_sample =  test_train[indicies]\n",
    "    y_sample = y_train[indicies]\n",
    "    \n",
    "    #beginning iteration through words per list.\n",
    "    for cluster in cluster_list:\n",
    "        \n",
    "        #appending length for print statement at the end.\n",
    "        lens.append(len(cluster))\n",
    "\n",
    "        X_onehot = vectorizer.fit_transform(X_sample)\n",
    "        \n",
    "        X_onehot = X_onehot.toarray()\n",
    "\n",
    "        cluster_indexes = []\n",
    "\n",
    "        #if the feature name in the feature vocab is found in the cluster, the index is appended to the cluster index list.\n",
    "        for index, feature_name in enumerate(list(names.wv.vocab)):\n",
    "            if feature_name in cluster:\n",
    "                cluster_indexes.append(index)\n",
    "\n",
    "        #amount of features for the input layer dimension of the neural net\n",
    "        features = len(cluster_indexes)\n",
    "        \n",
    "        #creating specific X_onehot matrix with only columns of corresponding vector columns\n",
    "        X_onehot = X_onehot[:, cluster_indexes]\n",
    "\n",
    "        model_cluster = Sequential()\n",
    "        model_cluster.add(Dense(units=256, activation='relu', input_dim=features))\n",
    "        model_cluster.add(Dense(units=3, activation='softmax'))\n",
    "\n",
    "        model_cluster.compile(loss='categorical_crossentropy', optimizer='adam', metrics=['accuracy'])\n",
    "        model_cluster.summary\n",
    "        \n",
    "        #indexing so 2000 reviews are saved for testing\n",
    "        history = model_cluster.fit(X_onehot[:reviewnum-2000], y_sample[:reviewnum-2000], epochs=10, batch_size=128, verbose=2, validation_data=(X_onehot[reviewnum-2000:reviewnum-1900], y_sample[reviewnum-2000:reviewnum-1900]))\n",
    "        \n",
    "        y_test = score_transform(test)\n",
    "        scores = model_cluster.evaluate(X_onehot[reviewnum-2000:], y_sample[reviewnum-2000:], verbose=1)\n",
    "        \n",
    "        #score of model is appended to list returned at the end\n",
    "        score_list.append(scores[1])\n",
    "    for index, entry in enumerate(score_list):\n",
    "        print(\"cluster\", index + 1, \"accuracy: \", str(entry) + \". number of words for cluster: \", lens[index])"
   ]
  },
  {
   "cell_type": "markdown",
   "metadata": {
    "_uuid": "18ce159be276449722d4e71f21bdae470f93acdf"
   },
   "source": [
    "The idea behind this function was to see how the accuracy between different clusters and features differs.\n"
   ]
  },
  {
   "cell_type": "code",
   "execution_count": null,
   "metadata": {
    "_uuid": "c523cafb00fe6591fa405f652c1a6cb9b5c167c6"
   },
   "outputs": [],
   "source": [
    "test_clusters(sorted_names_all)"
   ]
  },
  {
   "cell_type": "markdown",
   "metadata": {
    "_uuid": "11d6d087fe75a05aad425d45151059a8591bf6f6"
   },
   "source": [
    "So.. pretty disappointing results.\n",
    "* It seems like the model accuracy just scales linearly with the amount of features it's given.\n",
    "* Sometimes I've recieved a higher accuracy with a smaller amount of features with my many times of testing it, but it is rare. Different options of kclustering should have been explored, especially ones that could be seeded.\n",
    "* Possibly kclustering was never the right approach to grouping up features in the first place. Maybe trying to manually split them up (Numbers, positive words, negative words, etc) would have been better.\n",
    "* Another approach would be seeing if more common words  would be quantified as more important features.\n",
    "\n",
    "Regardless, let's see what other insights we can gain."
   ]
  },
  {
   "cell_type": "code",
   "execution_count": null,
   "metadata": {
    "_uuid": "7b430729d023bd32a87c20eba8a8416f57464436"
   },
   "outputs": [],
   "source": [
    "test_clusters([list(names.wv.vocab)[:1000], list(names.wv.vocab)[2000:3000], list(names.wv.vocab)[3000:4000], list(names.wv.vocab)[4000:5000]])"
   ]
  },
  {
   "cell_type": "markdown",
   "metadata": {
    "_uuid": "a9a031b43f6819103a5ffcdb52829ec1d4fa52c1"
   },
   "source": [
    "I was just curious if testing by alphabetical order gave any sort of insight into what words or numbers were contributing the most to model accuracy."
   ]
  },
  {
   "cell_type": "code",
   "execution_count": null,
   "metadata": {
    "_uuid": "d851b23576903f579f47c3c0d96e72d79343d575"
   },
   "outputs": [],
   "source": [
    "vectorizer = CountVectorizer(binary=True, stop_words=stopwords.words('english'),\n",
    "                             lowercase=True, min_df=3, max_df=0.9, max_features=1000)\n",
    "X_onehot = vectorizer.fit_transform(test_train)\n",
    "names_list = vectorizer.get_feature_names()\n",
    "names = [[i] for i in names_list]\n",
    "names = Word2Vec(names, min_count=1)\n",
    "\n",
    "df, sorted_names_all = generate_df(names.wv.vocab)\n"
   ]
  },
  {
   "cell_type": "markdown",
   "metadata": {
    "_uuid": "a4107771840f2a52901a1f34cf31986339c9e0fc"
   },
   "source": [
    "Testing if limiting down the max features from 5000 to 1000 changed anything major within our results."
   ]
  },
  {
   "cell_type": "code",
   "execution_count": null,
   "metadata": {
    "_uuid": "f57895d3514e83a11928da3c8e10106cd0dfeff0"
   },
   "outputs": [],
   "source": [
    "test_clusters(sorted_names_all)"
   ]
  },
  {
   "cell_type": "markdown",
   "metadata": {
    "_uuid": "3bee321f79bc774672d2b1e1a95799eacb41a0b2"
   },
   "source": [
    "Not really a big difference.\n",
    "* Another possible flaw in this approach is that the hyperparameters of the model should've been changed every time to correspond with difference in features. From the training and validation data it didn't really seem like our model was overfitting, but this is something that should have been explored as we could have potentially gotten different results."
   ]
  },
  {
   "cell_type": "markdown",
   "metadata": {
    "_uuid": "93abc8e1751fd0645cd0207b566d87fbf3f738bd"
   },
   "source": [
    "# Simple Regression with sk-learn\n",
    "We were curious about framing the problem as a linear regression one, so this was our following exploration of that."
   ]
  },
  {
   "cell_type": "code",
   "execution_count": null,
   "metadata": {
    "_uuid": "aa9510e441182cd2eb61287fd0c73e63880fb1cc"
   },
   "outputs": [],
   "source": [
    "from sklearn.preprocessing import OneHotEncoder\n",
    "from sklearn.neural_network import MLPClassifier\n",
    "from sklearn.metrics import accuracy_score\n",
    "\n",
    "#Reimporting data due to all of the weird transformations that have been applied to our original X_train as well as different variable names\n",
    "\n",
    "train = pd.read_csv('../input/drugsComTrain_raw.csv')\n",
    "test = pd.read_csv('../input/drugsComTest_raw.csv')\n",
    "\n",
    "# Get review text\n",
    "reviews = np.vstack((train.review.values.reshape(-1, 1), \n",
    "                     test.review.values.reshape(-1, 1)))\n",
    "\n",
    "# Set up function to re-vectorize reviews. This time binary is set to false, we only have 500 max features and min and max_df arguments have been set.\n",
    "vectorizer = CountVectorizer(binary=False, stop_words=stopwords.words('english'),\n",
    "                             lowercase=True, min_df=3, max_df=0.9, max_features=500)\n",
    "\n",
    "# Vectorize reviews\n",
    "X = vectorizer.fit_transform(reviews.ravel()).toarray()\n",
    "\n",
    "# Get ratings\n",
    "ratings = np.concatenate((train.rating.values, test.rating.values)).reshape(-1, 1)\n",
    "\n",
    "y = ratings\n",
    "\n",
    "X_train, X_test = X[:train.values.shape[0], :], X[train.values.shape[0]:, :] \n",
    "y_train, y_test = y[:train.values.shape[0]], y[train.values.shape[0]:]"
   ]
  },
  {
   "cell_type": "code",
   "execution_count": null,
   "metadata": {
    "_uuid": "19ba237c58fc195ef642ed58cdefab3a5ee89a72"
   },
   "outputs": [],
   "source": [
    "X.shape, y.shape, X_train.shape, y_train.shape, X_test.shape, y_test.shape"
   ]
  },
  {
   "cell_type": "code",
   "execution_count": null,
   "metadata": {
    "_uuid": "a047b581a6604ef8eb904c95f9b95b0a3ed0f3d2"
   },
   "outputs": [],
   "source": [
    "from sklearn.linear_model import LinearRegression\n",
    "lin_reg = LinearRegression()\n",
    "lin_reg.fit(X_train[:5000], y_train[:5000])"
   ]
  },
  {
   "cell_type": "code",
   "execution_count": null,
   "metadata": {
    "_uuid": "20dcb65d3e4095bf0cafe3c4e3875981250858f1"
   },
   "outputs": [],
   "source": [
    "pred = lin_reg.predict(X_train[5000:])"
   ]
  },
  {
   "cell_type": "code",
   "execution_count": null,
   "metadata": {
    "_uuid": "ad09cf8ec44ee307b8c93e26e3304ae13066b996"
   },
   "outputs": [],
   "source": [
    "np.sum(np.abs(y_train[5000:] - pred[:])) / (161297 - 5000)"
   ]
  },
  {
   "cell_type": "markdown",
   "metadata": {
    "_uuid": "2abc68392c312885dbbd64a9b5ddcdad7d7d0870"
   },
   "source": [
    "We end predicting the score of the review with only 2.3 error! Considering how little preprocessing, feature engineering, hyperparameter tuning and model experimentation we did, this is pretty impressive."
   ]
  },
  {
   "cell_type": "markdown",
   "metadata": {
    "_uuid": "371a812d13facae151445502589f89de0ab1a5b8"
   },
   "source": [
    "# Conclusions\n",
    "\n",
    "* It seems like the neural network gives the best overall accuracy with 89.4%.\n",
    "* This could've been framed as either a classification or regression problem depending on the approach.\n",
    "* In the future, perhaps trying to do some feature exploration in a different way would be helpful in developing insights and meaningful conclusions.\n",
    "* Exploring different NN architecture could've been very beneficial, as recurrent nets are known to work very well for NLP problems.\n",
    "* Overall, this was a very interesting project and we all learned quite a lot!\n",
    "\n",
    "**Thanks for reading through our kernel!**\n"
   ]
  }
 ],
 "metadata": {
  "kernelspec": {
   "display_name": "Python 3 (ipykernel)",
   "language": "python",
   "name": "python3"
  },
  "language_info": {
   "codemirror_mode": {
    "name": "ipython",
    "version": 3
   },
   "file_extension": ".py",
   "mimetype": "text/x-python",
   "name": "python",
   "nbconvert_exporter": "python",
   "pygments_lexer": "ipython3",
   "version": "3.8.13"
  }
 },
 "nbformat": 4,
 "nbformat_minor": 1
}
