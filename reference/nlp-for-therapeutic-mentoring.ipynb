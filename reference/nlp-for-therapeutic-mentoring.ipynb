{
 "cells": [
  {
   "cell_type": "markdown",
   "id": "558cb8ed",
   "metadata": {
    "papermill": {
     "duration": 0.065804,
     "end_time": "2022-03-30T09:40:24.923615",
     "exception": false,
     "start_time": "2022-03-30T09:40:24.857811",
     "status": "completed"
    },
    "tags": []
   },
   "source": [
    "# **Notebook Purposes:-**\n",
    "\n",
    "* **This dataset is about patient's feedback for certain drug brands and how do they feel after having the doses.**\n",
    "* **We are going to perform some of useful feature engineers in regrad to textual data such as N-grams and EDA.**\n",
    "* **Applying Sentimental analysis for patient's feedback by using common machine learning models for textual data such as SVM, Logistic Regression and evaluate our model accuray.**"
   ]
  },
  {
   "cell_type": "markdown",
   "id": "0e69b068",
   "metadata": {
    "papermill": {
     "duration": 0.063325,
     "end_time": "2022-03-30T09:40:25.052849",
     "exception": false,
     "start_time": "2022-03-30T09:40:24.989524",
     "status": "completed"
    },
    "tags": []
   },
   "source": [
    "# **Importing:-**"
   ]
  },
  {
   "cell_type": "code",
   "execution_count": 1,
   "id": "1e8c832d",
   "metadata": {
    "execution": {
     "iopub.execute_input": "2022-03-30T09:40:25.194428Z",
     "iopub.status.busy": "2022-03-30T09:40:25.193665Z",
     "iopub.status.idle": "2022-03-30T09:40:26.087954Z",
     "shell.execute_reply": "2022-03-30T09:40:26.088537Z",
     "shell.execute_reply.started": "2022-03-30T09:17:40.885788Z"
    },
    "papermill": {
     "duration": 0.972389,
     "end_time": "2022-03-30T09:40:26.088797",
     "exception": false,
     "start_time": "2022-03-30T09:40:25.116408",
     "status": "completed"
    },
    "tags": []
   },
   "outputs": [
    {
     "name": "stdout",
     "output_type": "stream",
     "text": [
      "setup Completed^___^\n"
     ]
    }
   ],
   "source": [
    "import pandas as pd \n",
    "import numpy as np \n",
    "import matplotlib.pyplot as plt\n",
    "import seaborn as sns\n",
    "%matplotlib inline\n",
    "print('setup Completed^___^')"
   ]
  },
  {
   "cell_type": "markdown",
   "id": "fd5cb363",
   "metadata": {
    "papermill": {
     "duration": 0.128312,
     "end_time": "2022-03-30T09:40:26.287012",
     "exception": false,
     "start_time": "2022-03-30T09:40:26.158700",
     "status": "completed"
    },
    "tags": []
   },
   "source": [
    "# **Read the data:-**"
   ]
  },
  {
   "cell_type": "code",
   "execution_count": 2,
   "id": "27f8dc63",
   "metadata": {
    "execution": {
     "iopub.execute_input": "2022-03-30T09:40:26.501462Z",
     "iopub.status.busy": "2022-03-30T09:40:26.500681Z",
     "iopub.status.idle": "2022-03-30T09:40:28.126000Z",
     "shell.execute_reply": "2022-03-30T09:40:28.126388Z",
     "shell.execute_reply.started": "2022-03-30T09:11:51.917934Z"
    },
    "papermill": {
     "duration": 1.736472,
     "end_time": "2022-03-30T09:40:28.126535",
     "exception": false,
     "start_time": "2022-03-30T09:40:26.390063",
     "status": "completed"
    },
    "tags": []
   },
   "outputs": [
    {
     "data": {
      "text/html": [
       "<div>\n",
       "<style scoped>\n",
       "    .dataframe tbody tr th:only-of-type {\n",
       "        vertical-align: middle;\n",
       "    }\n",
       "\n",
       "    .dataframe tbody tr th {\n",
       "        vertical-align: top;\n",
       "    }\n",
       "\n",
       "    .dataframe thead th {\n",
       "        text-align: right;\n",
       "    }\n",
       "</style>\n",
       "<table border=\"1\" class=\"dataframe\">\n",
       "  <thead>\n",
       "    <tr style=\"text-align: right;\">\n",
       "      <th></th>\n",
       "      <th>uniqueID</th>\n",
       "      <th>drugName</th>\n",
       "      <th>condition</th>\n",
       "      <th>review</th>\n",
       "      <th>rating</th>\n",
       "      <th>date</th>\n",
       "      <th>usefulCount</th>\n",
       "    </tr>\n",
       "  </thead>\n",
       "  <tbody>\n",
       "    <tr>\n",
       "      <th>0</th>\n",
       "      <td>206461</td>\n",
       "      <td>Valsartan</td>\n",
       "      <td>Left Ventricular Dysfunction</td>\n",
       "      <td>\"It has no side effect, I take it in combinati...</td>\n",
       "      <td>9</td>\n",
       "      <td>20-May-12</td>\n",
       "      <td>27</td>\n",
       "    </tr>\n",
       "    <tr>\n",
       "      <th>1</th>\n",
       "      <td>95260</td>\n",
       "      <td>Guanfacine</td>\n",
       "      <td>ADHD</td>\n",
       "      <td>\"My son is halfway through his fourth week of ...</td>\n",
       "      <td>8</td>\n",
       "      <td>27-Apr-10</td>\n",
       "      <td>192</td>\n",
       "    </tr>\n",
       "    <tr>\n",
       "      <th>2</th>\n",
       "      <td>92703</td>\n",
       "      <td>Lybrel</td>\n",
       "      <td>Birth Control</td>\n",
       "      <td>\"I used to take another oral contraceptive, wh...</td>\n",
       "      <td>5</td>\n",
       "      <td>14-Dec-09</td>\n",
       "      <td>17</td>\n",
       "    </tr>\n",
       "    <tr>\n",
       "      <th>3</th>\n",
       "      <td>138000</td>\n",
       "      <td>Ortho Evra</td>\n",
       "      <td>Birth Control</td>\n",
       "      <td>\"This is my first time using any form of birth...</td>\n",
       "      <td>8</td>\n",
       "      <td>3-Nov-15</td>\n",
       "      <td>10</td>\n",
       "    </tr>\n",
       "    <tr>\n",
       "      <th>4</th>\n",
       "      <td>35696</td>\n",
       "      <td>Buprenorphine / naloxone</td>\n",
       "      <td>Opiate Dependence</td>\n",
       "      <td>\"Suboxone has completely turned my life around...</td>\n",
       "      <td>9</td>\n",
       "      <td>27-Nov-16</td>\n",
       "      <td>37</td>\n",
       "    </tr>\n",
       "  </tbody>\n",
       "</table>\n",
       "</div>"
      ],
      "text/plain": [
       "   uniqueID                  drugName                     condition  \\\n",
       "0    206461                 Valsartan  Left Ventricular Dysfunction   \n",
       "1     95260                Guanfacine                          ADHD   \n",
       "2     92703                    Lybrel                 Birth Control   \n",
       "3    138000                Ortho Evra                 Birth Control   \n",
       "4     35696  Buprenorphine / naloxone             Opiate Dependence   \n",
       "\n",
       "                                              review  rating       date  \\\n",
       "0  \"It has no side effect, I take it in combinati...       9  20-May-12   \n",
       "1  \"My son is halfway through his fourth week of ...       8  27-Apr-10   \n",
       "2  \"I used to take another oral contraceptive, wh...       5  14-Dec-09   \n",
       "3  \"This is my first time using any form of birth...       8   3-Nov-15   \n",
       "4  \"Suboxone has completely turned my life around...       9  27-Nov-16   \n",
       "\n",
       "   usefulCount  \n",
       "0           27  \n",
       "1          192  \n",
       "2           17  \n",
       "3           10  \n",
       "4           37  "
      ]
     },
     "execution_count": 2,
     "metadata": {},
     "output_type": "execute_result"
    }
   ],
   "source": [
    "data = pd.read_csv('../input/kuc-hackathon-winter-2018/drugsComTrain_raw.csv')\n",
    "data.head()"
   ]
  },
  {
   "cell_type": "markdown",
   "id": "9c627647",
   "metadata": {
    "papermill": {
     "duration": 0.064985,
     "end_time": "2022-03-30T09:40:28.256677",
     "exception": false,
     "start_time": "2022-03-30T09:40:28.191692",
     "status": "completed"
    },
    "tags": []
   },
   "source": [
    "# **Play around some columns:-**"
   ]
  },
  {
   "cell_type": "code",
   "execution_count": 3,
   "id": "c87d7361",
   "metadata": {
    "execution": {
     "iopub.execute_input": "2022-03-30T09:40:28.456592Z",
     "iopub.status.busy": "2022-03-30T09:40:28.455761Z",
     "iopub.status.idle": "2022-03-30T09:40:28.463901Z",
     "shell.execute_reply": "2022-03-30T09:40:28.463492Z",
     "shell.execute_reply.started": "2022-03-30T09:11:53.839936Z"
    },
    "papermill": {
     "duration": 0.142311,
     "end_time": "2022-03-30T09:40:28.464051",
     "exception": false,
     "start_time": "2022-03-30T09:40:28.321740",
     "status": "completed"
    },
    "tags": []
   },
   "outputs": [
    {
     "data": {
      "text/plain": [
       "uniqueID         0\n",
       "drugName         0\n",
       "condition      899\n",
       "review           0\n",
       "rating           0\n",
       "date             0\n",
       "usefulCount      0\n",
       "dtype: int64"
      ]
     },
     "execution_count": 3,
     "metadata": {},
     "output_type": "execute_result"
    }
   ],
   "source": [
    "data.isnull().sum()"
   ]
  },
  {
   "cell_type": "code",
   "execution_count": 4,
   "id": "2b442e8a",
   "metadata": {
    "execution": {
     "iopub.execute_input": "2022-03-30T09:40:28.668537Z",
     "iopub.status.busy": "2022-03-30T09:40:28.667576Z",
     "iopub.status.idle": "2022-03-30T09:40:28.686991Z",
     "shell.execute_reply": "2022-03-30T09:40:28.686521Z",
     "shell.execute_reply.started": "2022-03-30T09:11:53.932892Z"
    },
    "papermill": {
     "duration": 0.156837,
     "end_time": "2022-03-30T09:40:28.687116",
     "exception": false,
     "start_time": "2022-03-30T09:40:28.530279",
     "status": "completed"
    },
    "tags": []
   },
   "outputs": [],
   "source": [
    "data.dropna(axis=0, inplace=True)"
   ]
  },
  {
   "cell_type": "code",
   "execution_count": 5,
   "id": "c50fe8e1",
   "metadata": {
    "execution": {
     "iopub.execute_input": "2022-03-30T09:40:28.839294Z",
     "iopub.status.busy": "2022-03-30T09:40:28.838401Z",
     "iopub.status.idle": "2022-03-30T09:40:28.841119Z",
     "shell.execute_reply": "2022-03-30T09:40:28.840346Z",
     "shell.execute_reply.started": "2022-03-30T09:11:54.034455Z"
    },
    "papermill": {
     "duration": 0.087084,
     "end_time": "2022-03-30T09:40:28.841241",
     "exception": false,
     "start_time": "2022-03-30T09:40:28.754157",
     "status": "completed"
    },
    "tags": []
   },
   "outputs": [],
   "source": [
    "data.drop(['uniqueID', 'condition', 'date','usefulCount'], axis=1, inplace=True)"
   ]
  },
  {
   "cell_type": "code",
   "execution_count": 6,
   "id": "a4418e77",
   "metadata": {
    "execution": {
     "iopub.execute_input": "2022-03-30T09:40:28.981351Z",
     "iopub.status.busy": "2022-03-30T09:40:28.980715Z",
     "iopub.status.idle": "2022-03-30T09:40:28.983516Z",
     "shell.execute_reply": "2022-03-30T09:40:28.983919Z",
     "shell.execute_reply.started": "2022-03-30T09:11:54.052361Z"
    },
    "papermill": {
     "duration": 0.07669,
     "end_time": "2022-03-30T09:40:28.984049",
     "exception": false,
     "start_time": "2022-03-30T09:40:28.907359",
     "status": "completed"
    },
    "tags": []
   },
   "outputs": [
    {
     "data": {
      "text/html": [
       "<div>\n",
       "<style scoped>\n",
       "    .dataframe tbody tr th:only-of-type {\n",
       "        vertical-align: middle;\n",
       "    }\n",
       "\n",
       "    .dataframe tbody tr th {\n",
       "        vertical-align: top;\n",
       "    }\n",
       "\n",
       "    .dataframe thead th {\n",
       "        text-align: right;\n",
       "    }\n",
       "</style>\n",
       "<table border=\"1\" class=\"dataframe\">\n",
       "  <thead>\n",
       "    <tr style=\"text-align: right;\">\n",
       "      <th></th>\n",
       "      <th>drugName</th>\n",
       "      <th>review</th>\n",
       "      <th>rating</th>\n",
       "    </tr>\n",
       "  </thead>\n",
       "  <tbody>\n",
       "    <tr>\n",
       "      <th>0</th>\n",
       "      <td>Valsartan</td>\n",
       "      <td>\"It has no side effect, I take it in combinati...</td>\n",
       "      <td>9</td>\n",
       "    </tr>\n",
       "    <tr>\n",
       "      <th>1</th>\n",
       "      <td>Guanfacine</td>\n",
       "      <td>\"My son is halfway through his fourth week of ...</td>\n",
       "      <td>8</td>\n",
       "    </tr>\n",
       "    <tr>\n",
       "      <th>2</th>\n",
       "      <td>Lybrel</td>\n",
       "      <td>\"I used to take another oral contraceptive, wh...</td>\n",
       "      <td>5</td>\n",
       "    </tr>\n",
       "    <tr>\n",
       "      <th>3</th>\n",
       "      <td>Ortho Evra</td>\n",
       "      <td>\"This is my first time using any form of birth...</td>\n",
       "      <td>8</td>\n",
       "    </tr>\n",
       "    <tr>\n",
       "      <th>4</th>\n",
       "      <td>Buprenorphine / naloxone</td>\n",
       "      <td>\"Suboxone has completely turned my life around...</td>\n",
       "      <td>9</td>\n",
       "    </tr>\n",
       "  </tbody>\n",
       "</table>\n",
       "</div>"
      ],
      "text/plain": [
       "                   drugName  \\\n",
       "0                 Valsartan   \n",
       "1                Guanfacine   \n",
       "2                    Lybrel   \n",
       "3                Ortho Evra   \n",
       "4  Buprenorphine / naloxone   \n",
       "\n",
       "                                              review  rating  \n",
       "0  \"It has no side effect, I take it in combinati...       9  \n",
       "1  \"My son is halfway through his fourth week of ...       8  \n",
       "2  \"I used to take another oral contraceptive, wh...       5  \n",
       "3  \"This is my first time using any form of birth...       8  \n",
       "4  \"Suboxone has completely turned my life around...       9  "
      ]
     },
     "execution_count": 6,
     "metadata": {},
     "output_type": "execute_result"
    }
   ],
   "source": [
    "data.head()"
   ]
  },
  {
   "cell_type": "code",
   "execution_count": 7,
   "id": "96b93789",
   "metadata": {
    "execution": {
     "iopub.execute_input": "2022-03-30T09:40:29.124783Z",
     "iopub.status.busy": "2022-03-30T09:40:29.124201Z",
     "iopub.status.idle": "2022-03-30T09:40:29.127000Z",
     "shell.execute_reply": "2022-03-30T09:40:29.127393Z",
     "shell.execute_reply.started": "2022-03-30T09:11:54.067426Z"
    },
    "papermill": {
     "duration": 0.077423,
     "end_time": "2022-03-30T09:40:29.127524",
     "exception": false,
     "start_time": "2022-03-30T09:40:29.050101",
     "status": "completed"
    },
    "tags": []
   },
   "outputs": [
    {
     "data": {
      "text/html": [
       "<div>\n",
       "<style scoped>\n",
       "    .dataframe tbody tr th:only-of-type {\n",
       "        vertical-align: middle;\n",
       "    }\n",
       "\n",
       "    .dataframe tbody tr th {\n",
       "        vertical-align: top;\n",
       "    }\n",
       "\n",
       "    .dataframe thead th {\n",
       "        text-align: right;\n",
       "    }\n",
       "</style>\n",
       "<table border=\"1\" class=\"dataframe\">\n",
       "  <thead>\n",
       "    <tr style=\"text-align: right;\">\n",
       "      <th></th>\n",
       "      <th>drugName</th>\n",
       "      <th>review</th>\n",
       "      <th>rating</th>\n",
       "    </tr>\n",
       "  </thead>\n",
       "  <tbody>\n",
       "    <tr>\n",
       "      <th>161292</th>\n",
       "      <td>Campral</td>\n",
       "      <td>\"I wrote my first report in Mid-October of 201...</td>\n",
       "      <td>10</td>\n",
       "    </tr>\n",
       "    <tr>\n",
       "      <th>161293</th>\n",
       "      <td>Metoclopramide</td>\n",
       "      <td>\"I was given this in IV before surgey. I immed...</td>\n",
       "      <td>1</td>\n",
       "    </tr>\n",
       "    <tr>\n",
       "      <th>161294</th>\n",
       "      <td>Orencia</td>\n",
       "      <td>\"Limited improvement after 4 months, developed...</td>\n",
       "      <td>2</td>\n",
       "    </tr>\n",
       "    <tr>\n",
       "      <th>161295</th>\n",
       "      <td>Thyroid desiccated</td>\n",
       "      <td>\"I&amp;#039;ve been on thyroid medication 49 years...</td>\n",
       "      <td>10</td>\n",
       "    </tr>\n",
       "    <tr>\n",
       "      <th>161296</th>\n",
       "      <td>Lubiprostone</td>\n",
       "      <td>\"I&amp;#039;ve had chronic constipation all my adu...</td>\n",
       "      <td>9</td>\n",
       "    </tr>\n",
       "  </tbody>\n",
       "</table>\n",
       "</div>"
      ],
      "text/plain": [
       "                  drugName                                             review  \\\n",
       "161292             Campral  \"I wrote my first report in Mid-October of 201...   \n",
       "161293      Metoclopramide  \"I was given this in IV before surgey. I immed...   \n",
       "161294             Orencia  \"Limited improvement after 4 months, developed...   \n",
       "161295  Thyroid desiccated  \"I&#039;ve been on thyroid medication 49 years...   \n",
       "161296        Lubiprostone  \"I&#039;ve had chronic constipation all my adu...   \n",
       "\n",
       "        rating  \n",
       "161292      10  \n",
       "161293       1  \n",
       "161294       2  \n",
       "161295      10  \n",
       "161296       9  "
      ]
     },
     "execution_count": 7,
     "metadata": {},
     "output_type": "execute_result"
    }
   ],
   "source": [
    "data.tail()"
   ]
  },
  {
   "cell_type": "code",
   "execution_count": 8,
   "id": "73f602dc",
   "metadata": {
    "execution": {
     "iopub.execute_input": "2022-03-30T09:40:29.265544Z",
     "iopub.status.busy": "2022-03-30T09:40:29.264967Z",
     "iopub.status.idle": "2022-03-30T09:40:29.267584Z",
     "shell.execute_reply": "2022-03-30T09:40:29.268046Z",
     "shell.execute_reply.started": "2022-03-30T09:11:54.082226Z"
    },
    "papermill": {
     "duration": 0.074218,
     "end_time": "2022-03-30T09:40:29.268189",
     "exception": false,
     "start_time": "2022-03-30T09:40:29.193971",
     "status": "completed"
    },
    "tags": []
   },
   "outputs": [
    {
     "data": {
      "text/plain": [
       "(160398, 3)"
      ]
     },
     "execution_count": 8,
     "metadata": {},
     "output_type": "execute_result"
    }
   ],
   "source": [
    "data.shape"
   ]
  },
  {
   "cell_type": "markdown",
   "id": "58101d92",
   "metadata": {
    "papermill": {
     "duration": 0.065943,
     "end_time": "2022-03-30T09:40:29.401757",
     "exception": false,
     "start_time": "2022-03-30T09:40:29.335814",
     "status": "completed"
    },
    "tags": []
   },
   "source": [
    "# **Make the data a bit smaller:-**"
   ]
  },
  {
   "cell_type": "code",
   "execution_count": 9,
   "id": "5566e1c4",
   "metadata": {
    "execution": {
     "iopub.execute_input": "2022-03-30T09:40:29.550023Z",
     "iopub.status.busy": "2022-03-30T09:40:29.543482Z",
     "iopub.status.idle": "2022-03-30T09:40:29.572677Z",
     "shell.execute_reply": "2022-03-30T09:40:29.572270Z",
     "shell.execute_reply.started": "2022-03-30T09:11:54.092532Z"
    },
    "papermill": {
     "duration": 0.104455,
     "end_time": "2022-03-30T09:40:29.572791",
     "exception": false,
     "start_time": "2022-03-30T09:40:29.468336",
     "status": "completed"
    },
    "tags": []
   },
   "outputs": [],
   "source": [
    "data = data[data.groupby('drugName')['drugName'].transform('size') > 20]"
   ]
  },
  {
   "cell_type": "code",
   "execution_count": 10,
   "id": "031fbc1c",
   "metadata": {
    "execution": {
     "iopub.execute_input": "2022-03-30T09:40:29.710271Z",
     "iopub.status.busy": "2022-03-30T09:40:29.709458Z",
     "iopub.status.idle": "2022-03-30T09:40:29.711818Z",
     "shell.execute_reply": "2022-03-30T09:40:29.711434Z",
     "shell.execute_reply.started": "2022-03-30T09:11:54.133119Z"
    },
    "papermill": {
     "duration": 0.072178,
     "end_time": "2022-03-30T09:40:29.711957",
     "exception": false,
     "start_time": "2022-03-30T09:40:29.639779",
     "status": "completed"
    },
    "tags": []
   },
   "outputs": [],
   "source": [
    "data = data.head(10000)"
   ]
  },
  {
   "cell_type": "markdown",
   "id": "23f4e694",
   "metadata": {
    "papermill": {
     "duration": 0.068315,
     "end_time": "2022-03-30T09:40:29.846352",
     "exception": false,
     "start_time": "2022-03-30T09:40:29.778037",
     "status": "completed"
    },
    "tags": []
   },
   "source": [
    "# **Preprocessing:-**"
   ]
  },
  {
   "cell_type": "code",
   "execution_count": 11,
   "id": "834eddd6",
   "metadata": {
    "execution": {
     "iopub.execute_input": "2022-03-30T09:40:29.989555Z",
     "iopub.status.busy": "2022-03-30T09:40:29.988988Z",
     "iopub.status.idle": "2022-03-30T09:40:29.995433Z",
     "shell.execute_reply": "2022-03-30T09:40:29.994749Z",
     "shell.execute_reply.started": "2022-03-30T09:11:54.139597Z"
    },
    "papermill": {
     "duration": 0.082158,
     "end_time": "2022-03-30T09:40:29.995603",
     "exception": false,
     "start_time": "2022-03-30T09:40:29.913445",
     "status": "completed"
    },
    "tags": []
   },
   "outputs": [
    {
     "name": "stdout",
     "output_type": "stream",
     "text": [
      "the review column data types is: object\n"
     ]
    }
   ],
   "source": [
    "print('the review column data types is:',data['review'].dtypes)\n",
    "data['review'] = data['review'].astype(str)"
   ]
  },
  {
   "cell_type": "markdown",
   "id": "00f163e7",
   "metadata": {
    "papermill": {
     "duration": 0.066496,
     "end_time": "2022-03-30T09:40:30.130642",
     "exception": false,
     "start_time": "2022-03-30T09:40:30.064146",
     "status": "completed"
    },
    "tags": []
   },
   "source": [
    "# **Converting to lowerCase:-**"
   ]
  },
  {
   "cell_type": "markdown",
   "id": "f5528d0a",
   "metadata": {
    "papermill": {
     "duration": 0.066446,
     "end_time": "2022-03-30T09:40:30.263701",
     "exception": false,
     "start_time": "2022-03-30T09:40:30.197255",
     "status": "completed"
    },
    "tags": []
   },
   "source": [
    "**Converting to lower case is necessary. Otherwise, it will consider the same word with an uppercase as a different word. Like ‘me’ and ‘Me’ will be considered as different words.**"
   ]
  },
  {
   "cell_type": "code",
   "execution_count": 12,
   "id": "5d99c707",
   "metadata": {
    "execution": {
     "iopub.execute_input": "2022-03-30T09:40:30.423751Z",
     "iopub.status.busy": "2022-03-30T09:40:30.412820Z",
     "iopub.status.idle": "2022-03-30T09:40:30.575582Z",
     "shell.execute_reply": "2022-03-30T09:40:30.575993Z",
     "shell.execute_reply.started": "2022-03-30T09:11:54.150306Z"
    },
    "papermill": {
     "duration": 0.245066,
     "end_time": "2022-03-30T09:40:30.576152",
     "exception": false,
     "start_time": "2022-03-30T09:40:30.331086",
     "status": "completed"
    },
    "tags": []
   },
   "outputs": [
    {
     "data": {
      "text/plain": [
       "0    \"it has no side effect, i take it in combinati...\n",
       "1    \"my son is halfway through his fourth week of ...\n",
       "3    \"this is my first time using any form of birth...\n",
       "4    \"suboxone has completely turned my life around...\n",
       "5    \"2nd day on 5mg started to work with rock hard...\n",
       "Name: review1, dtype: object"
      ]
     },
     "execution_count": 12,
     "metadata": {},
     "output_type": "execute_result"
    }
   ],
   "source": [
    "data['review1'] = data['review'].apply(lambda x: \" \".join(x.lower() for x in x.split()))\n",
    "data['review1'].head()"
   ]
  },
  {
   "cell_type": "markdown",
   "id": "bc9cca0b",
   "metadata": {
    "papermill": {
     "duration": 0.066661,
     "end_time": "2022-03-30T09:40:30.709587",
     "exception": false,
     "start_time": "2022-03-30T09:40:30.642926",
     "status": "completed"
    },
    "tags": []
   },
   "source": [
    "# **Removing Punctuations:-**"
   ]
  },
  {
   "cell_type": "markdown",
   "id": "e4c328e2",
   "metadata": {
    "papermill": {
     "duration": 0.067593,
     "end_time": "2022-03-30T09:40:30.843831",
     "exception": false,
     "start_time": "2022-03-30T09:40:30.776238",
     "status": "completed"
    },
    "tags": []
   },
   "source": [
    "**This step is to remove the punctuations. Because of punctuation, a word might be treated differently than it originally is. For example ‘use’ and ‘use:’ will become different words because of punctuation.**"
   ]
  },
  {
   "cell_type": "code",
   "execution_count": 13,
   "id": "0324aa01",
   "metadata": {
    "execution": {
     "iopub.execute_input": "2022-03-30T09:40:30.984897Z",
     "iopub.status.busy": "2022-03-30T09:40:30.984043Z",
     "iopub.status.idle": "2022-03-30T09:40:31.162412Z",
     "shell.execute_reply": "2022-03-30T09:40:31.162800Z",
     "shell.execute_reply.started": "2022-03-30T09:11:54.450761Z"
    },
    "papermill": {
     "duration": 0.251084,
     "end_time": "2022-03-30T09:40:31.162961",
     "exception": false,
     "start_time": "2022-03-30T09:40:30.911877",
     "status": "completed"
    },
    "tags": []
   },
   "outputs": [
    {
     "name": "stderr",
     "output_type": "stream",
     "text": [
      "/opt/conda/lib/python3.7/site-packages/ipykernel_launcher.py:1: FutureWarning: The default value of regex will change from True to False in a future version.\n",
      "  \"\"\"Entry point for launching an IPython kernel.\n"
     ]
    },
    {
     "data": {
      "text/plain": [
       "0    it has no side effect i take it in combination...\n",
       "1    my son is halfway through his fourth week of i...\n",
       "3    this is my first time using any form of birth ...\n",
       "4    suboxone has completely turned my life around ...\n",
       "5    2nd day on 5mg started to work with rock hard ...\n",
       "Name: review1, dtype: object"
      ]
     },
     "execution_count": 13,
     "metadata": {},
     "output_type": "execute_result"
    }
   ],
   "source": [
    "data['review1'] = data['review1'].str.replace('[^\\w\\s]', '')\n",
    "data['review1'].head()"
   ]
  },
  {
   "cell_type": "markdown",
   "id": "6517f792",
   "metadata": {
    "papermill": {
     "duration": 0.067219,
     "end_time": "2022-03-30T09:40:31.298188",
     "exception": false,
     "start_time": "2022-03-30T09:40:31.230969",
     "status": "completed"
    },
    "tags": []
   },
   "source": [
    "# **Removing StopWords:-**"
   ]
  },
  {
   "cell_type": "code",
   "execution_count": 14,
   "id": "ff6c8560",
   "metadata": {
    "execution": {
     "iopub.execute_input": "2022-03-30T09:40:31.439064Z",
     "iopub.status.busy": "2022-03-30T09:40:31.438323Z",
     "iopub.status.idle": "2022-03-30T09:40:32.167107Z",
     "shell.execute_reply": "2022-03-30T09:40:32.167580Z",
     "shell.execute_reply.started": "2022-03-30T09:11:54.731193Z"
    },
    "papermill": {
     "duration": 0.801488,
     "end_time": "2022-03-30T09:40:32.167723",
     "exception": false,
     "start_time": "2022-03-30T09:40:31.366235",
     "status": "completed"
    },
    "tags": []
   },
   "outputs": [
    {
     "name": "stdout",
     "output_type": "stream",
     "text": [
      "[nltk_data] Downloading package stopwords to /usr/share/nltk_data...\n",
      "[nltk_data]   Package stopwords is already up-to-date!\n"
     ]
    }
   ],
   "source": [
    "import nltk\n",
    "nltk.download('stopwords')\n",
    "from nltk.corpus import stopwords\n",
    "stop = stopwords.words('english')"
   ]
  },
  {
   "cell_type": "code",
   "execution_count": 15,
   "id": "1c70a51a",
   "metadata": {
    "execution": {
     "iopub.execute_input": "2022-03-30T09:40:32.329502Z",
     "iopub.status.busy": "2022-03-30T09:40:32.319164Z",
     "iopub.status.idle": "2022-03-30T09:40:33.536181Z",
     "shell.execute_reply": "2022-03-30T09:40:33.535613Z",
     "shell.execute_reply.started": "2022-03-30T09:11:55.508003Z"
    },
    "papermill": {
     "duration": 1.300311,
     "end_time": "2022-03-30T09:40:33.536329",
     "exception": false,
     "start_time": "2022-03-30T09:40:32.236018",
     "status": "completed"
    },
    "tags": []
   },
   "outputs": [
    {
     "data": {
      "text/plain": [
       "0    side effect take combination bystolic 5 mg fis...\n",
       "1    son halfway fourth week intuniv became concern...\n",
       "3    first time using form birth control i039m glad...\n",
       "4    suboxone completely turned life around feel he...\n",
       "5    2nd day 5mg started work rock hard erections h...\n",
       "Name: review1, dtype: object"
      ]
     },
     "execution_count": 15,
     "metadata": {},
     "output_type": "execute_result"
    }
   ],
   "source": [
    "data['review1'] = data['review1'].apply(lambda x: \" \".join(x for x in x.split() if x not in stop))\n",
    "data['review1'].head()"
   ]
  },
  {
   "cell_type": "markdown",
   "id": "eb7d6bc4",
   "metadata": {
    "papermill": {
     "duration": 0.067535,
     "end_time": "2022-03-30T09:40:33.672666",
     "exception": false,
     "start_time": "2022-03-30T09:40:33.605131",
     "status": "completed"
    },
    "tags": []
   },
   "source": [
    "# **Remove the Rare Words:-**"
   ]
  },
  {
   "cell_type": "code",
   "execution_count": 16,
   "id": "adc4920a",
   "metadata": {
    "execution": {
     "iopub.execute_input": "2022-03-30T09:40:33.862162Z",
     "iopub.status.busy": "2022-03-30T09:40:33.861188Z",
     "iopub.status.idle": "2022-03-30T09:40:33.996216Z",
     "shell.execute_reply": "2022-03-30T09:40:33.996691Z",
     "shell.execute_reply.started": "2022-03-30T09:11:56.750323Z"
    },
    "papermill": {
     "duration": 0.255925,
     "end_time": "2022-03-30T09:40:33.996863",
     "exception": false,
     "start_time": "2022-03-30T09:40:33.740938",
     "status": "completed"
    },
    "tags": []
   },
   "outputs": [
    {
     "data": {
      "text/plain": [
       "['vera',\n",
       " '182lbs',\n",
       " 'menstural',\n",
       " 'coldsores',\n",
       " 'declared',\n",
       " 'eot',\n",
       " 'harvest',\n",
       " 'cyles',\n",
       " 'sjoumlgren039s',\n",
       " 'medsbesides',\n",
       " 'hesitently',\n",
       " 'restore',\n",
       " 'chloridiazepoxide',\n",
       " '200150',\n",
       " 'breaktime',\n",
       " 'pillars',\n",
       " 'immunosystem',\n",
       " 'killersquot',\n",
       " 'dyndrome',\n",
       " 'attacksquot',\n",
       " 'urology',\n",
       " 'impotence',\n",
       " 'aphrodisiac',\n",
       " 'quotdone',\n",
       " 'dischargemeds',\n",
       " 'cigna',\n",
       " 'againespecially',\n",
       " 'lotyelling',\n",
       " 'anxiously',\n",
       " 'quotrapidquot',\n",
       " 'depigmentation',\n",
       " 'touchy',\n",
       " 'espesically',\n",
       " 'preserve',\n",
       " 'stall',\n",
       " 'perscriped',\n",
       " 'printed',\n",
       " 'gobsmacked',\n",
       " 'pregnancyhowever',\n",
       " 'stomachrelated',\n",
       " 'yearandahalf',\n",
       " 'exiting',\n",
       " 'nz',\n",
       " 'jacoby',\n",
       " 'desert',\n",
       " 'awaited',\n",
       " 'sensitisation',\n",
       " 'nos',\n",
       " 'quotasthma',\n",
       " 'dermatillomaniaspecialized',\n",
       " '25mins',\n",
       " 'quotdevicequot',\n",
       " 'glaring',\n",
       " 'marathonvery',\n",
       " 'hashimoto039s',\n",
       " 'hopeing',\n",
       " 'levelling',\n",
       " 'bertie',\n",
       " 'bettertook',\n",
       " 'relatives',\n",
       " 'interconnected',\n",
       " 'jerry',\n",
       " 'verified',\n",
       " 'quotstop',\n",
       " 'colony',\n",
       " 'thinkingquot',\n",
       " 'hometown',\n",
       " 'grandfather',\n",
       " 'psychic',\n",
       " 'reestablish',\n",
       " 'underactive',\n",
       " 'cuddle',\n",
       " 'combos',\n",
       " 'acclimating',\n",
       " 'klonopini',\n",
       " 'canit',\n",
       " 'ahhhh',\n",
       " 'renewal',\n",
       " 'overdetermined',\n",
       " 'levlen',\n",
       " 'linemy',\n",
       " 'quotcalm',\n",
       " 'raisedcultivated',\n",
       " 'disconected',\n",
       " 'yearsit',\n",
       " 'greatwithout',\n",
       " 'nature039s',\n",
       " 'ruling',\n",
       " 'glances',\n",
       " 'acidophilus',\n",
       " 'pillone',\n",
       " 'compressions',\n",
       " 'stll',\n",
       " 'pat',\n",
       " '157',\n",
       " '77not',\n",
       " 'fluoxotine',\n",
       " 'rearranged',\n",
       " 'succesful',\n",
       " 'vanilla',\n",
       " 'bactroban',\n",
       " 'burpsquot',\n",
       " 'unfortuantely',\n",
       " 'changea',\n",
       " '1112',\n",
       " 'calender',\n",
       " 'larthagicness',\n",
       " 'arrow',\n",
       " 'woes',\n",
       " 'immediatelytotal',\n",
       " 'openminded',\n",
       " 'microbid',\n",
       " 'expertquot',\n",
       " 'quoteggy',\n",
       " 'equates',\n",
       " 'struggledam',\n",
       " 'betternatural',\n",
       " 'solutioni',\n",
       " 'anxietyinducing',\n",
       " 'quotcurequot',\n",
       " 'timeframe',\n",
       " 'vagistat',\n",
       " '48yrs',\n",
       " 'exploring',\n",
       " 'injectionmo',\n",
       " 'daunting',\n",
       " 'flakiness',\n",
       " 'crowd',\n",
       " 'sarcasm',\n",
       " 'meclazine',\n",
       " 'butabout',\n",
       " 'sprintec28',\n",
       " 'tires',\n",
       " 'excrete',\n",
       " 'painsnausea',\n",
       " 'lessafter',\n",
       " 'moisturizers',\n",
       " 'cleansers',\n",
       " 'coffeesoda',\n",
       " 'gassyfrequent',\n",
       " 'suboxe',\n",
       " '039full039',\n",
       " 'truvada',\n",
       " 'desease',\n",
       " 'isentress',\n",
       " 'graves',\n",
       " 'worrysome',\n",
       " 'highmy',\n",
       " 'visc',\n",
       " 'butpain',\n",
       " 'painalso',\n",
       " 'expertiencing',\n",
       " '9866',\n",
       " '8040',\n",
       " '190150',\n",
       " 'stem',\n",
       " 'stern',\n",
       " 'sitz',\n",
       " 'queen',\n",
       " 'coldsinus',\n",
       " 'osteophytes',\n",
       " 'surgeryhelp',\n",
       " 'tighteninganxiety',\n",
       " '145mcg',\n",
       " '3kg',\n",
       " 'mounths',\n",
       " 'addison039s',\n",
       " 'bottoming',\n",
       " 'morbidly',\n",
       " 'fatiqued',\n",
       " 'adapting',\n",
       " 'fastest',\n",
       " 'meats',\n",
       " 'maois',\n",
       " 'mucked',\n",
       " '28s',\n",
       " 'wasent',\n",
       " 'premade',\n",
       " 'dedication',\n",
       " 'medicineno',\n",
       " 'nrevous',\n",
       " 'perseverance',\n",
       " 'hypothalamus',\n",
       " 'orthropedic',\n",
       " 'chili',\n",
       " 'shitty',\n",
       " 'morningtook',\n",
       " 'windindigestion',\n",
       " 'lordi',\n",
       " 'apirl',\n",
       " 'lowvery',\n",
       " '6000',\n",
       " '15mnths',\n",
       " 'sharpdull',\n",
       " 'greek',\n",
       " 'odour',\n",
       " 'opcicon',\n",
       " 'keratin',\n",
       " 'adventurous',\n",
       " 'solarstar',\n",
       " 'accumulation',\n",
       " 'awayl',\n",
       " 'rejecting',\n",
       " 'tranquility',\n",
       " 'deficient',\n",
       " '295',\n",
       " 'taller',\n",
       " 'trance',\n",
       " '417',\n",
       " '039breakthrough039',\n",
       " 'tof',\n",
       " 'opoiods',\n",
       " 'stupidest',\n",
       " 'bms',\n",
       " '1991',\n",
       " 'susp',\n",
       " 'entertained',\n",
       " 'sugarts',\n",
       " 'youquotre',\n",
       " 'sacrifices',\n",
       " 'picks',\n",
       " 'quotmovementquot',\n",
       " 'plaqueline',\n",
       " 'challenges',\n",
       " '45yrs',\n",
       " 'hunter',\n",
       " 'stranger',\n",
       " 'paratrooper',\n",
       " 'rocheyour',\n",
       " 'cytotec',\n",
       " '12082',\n",
       " 'lannet',\n",
       " 'levoxyl',\n",
       " 'anaesthesia',\n",
       " 'disinfected',\n",
       " '100bpm',\n",
       " 'characterized',\n",
       " 'axetil',\n",
       " '12hr',\n",
       " 'everone',\n",
       " 'matteredmy',\n",
       " '039dabber039',\n",
       " 'vengance',\n",
       " 'dicided',\n",
       " 'moisturized',\n",
       " 'wor',\n",
       " 'drowned',\n",
       " 'patra',\n",
       " 'flakeness',\n",
       " 'strengthquot',\n",
       " 'quotfind',\n",
       " 'whimps',\n",
       " '294lbs',\n",
       " 'avery',\n",
       " 'aggravating',\n",
       " 'ver',\n",
       " 'vasline',\n",
       " 'transformational',\n",
       " 'epitomic',\n",
       " 'cpmplaints',\n",
       " 'shirk',\n",
       " '039fading039',\n",
       " 'manyi',\n",
       " 'lamisilquot',\n",
       " 'barefoot',\n",
       " 'fexofenadined',\n",
       " 'diagnostic',\n",
       " 'oblation',\n",
       " 'enforcing',\n",
       " 'nt',\n",
       " 'quotdrugsquot',\n",
       " '4010',\n",
       " 'lessons',\n",
       " '500s',\n",
       " 'chalmydia',\n",
       " 'dimetapp',\n",
       " 'oklol',\n",
       " '1hour',\n",
       " 'quotshocksquot',\n",
       " 'cgm',\n",
       " 'dexcom',\n",
       " 'hydroxzine',\n",
       " 'mowith',\n",
       " 'strap',\n",
       " 'ditto',\n",
       " 'atelectasis',\n",
       " 'bibasilar',\n",
       " '2224',\n",
       " 'ged',\n",
       " 'inflate',\n",
       " 'ayear',\n",
       " 'quotif',\n",
       " 'hasslefree',\n",
       " '10050',\n",
       " 'endup',\n",
       " 'resultswhen',\n",
       " 'nessessary',\n",
       " 'sorely',\n",
       " 'funtioning',\n",
       " 'nauzene',\n",
       " 'backupper',\n",
       " 'irritabilityquick',\n",
       " 'arthroplasty',\n",
       " 'delta',\n",
       " '11mthi',\n",
       " 'cuba',\n",
       " 'walkin',\n",
       " 'cdifficile',\n",
       " 'quothm',\n",
       " '2mths',\n",
       " 'notquot',\n",
       " 'downy',\n",
       " '112014',\n",
       " 'quot3quot',\n",
       " 'citopram',\n",
       " 'scurried',\n",
       " 'quottechnicallyquot',\n",
       " '039took',\n",
       " 'citralopram',\n",
       " '10g',\n",
       " 'inverted',\n",
       " 'sprint',\n",
       " 'together039',\n",
       " 'colonoscopyendoscopy',\n",
       " 'omen',\n",
       " 'quotpurgequot',\n",
       " 'retuned',\n",
       " 'dine',\n",
       " 'drynrss',\n",
       " 'reform',\n",
       " 'empathy',\n",
       " 'custommade',\n",
       " 'dissociativepsychotic',\n",
       " 'painfulbut',\n",
       " 'dubious',\n",
       " 'quotthought',\n",
       " 'throatquot',\n",
       " 'quotlump',\n",
       " 'vomitinghad',\n",
       " 'rainbow',\n",
       " 'lsquoadjustmentrsquo',\n",
       " 'talusankle',\n",
       " 'fibula',\n",
       " 'hafta',\n",
       " 'talus',\n",
       " 'intravenous',\n",
       " 'avascular',\n",
       " 'writes',\n",
       " 'plumeted',\n",
       " 'everythings',\n",
       " 'smoothed',\n",
       " 'reprinol',\n",
       " '5quot',\n",
       " 'specialized',\n",
       " 'quotheavinessquot',\n",
       " 'darkness',\n",
       " 'waked',\n",
       " 'writer',\n",
       " '174lb',\n",
       " 'quotreliefquot',\n",
       " '102512',\n",
       " '216',\n",
       " 'quotantidepressantsquot',\n",
       " 'weekafter',\n",
       " 'initiation',\n",
       " 'bible',\n",
       " 'topping',\n",
       " '111',\n",
       " 'gingerale',\n",
       " 'anbusol',\n",
       " 'omggggg',\n",
       " 'icky',\n",
       " 'optometrist',\n",
       " 'quotblanksquot',\n",
       " 'puzzles',\n",
       " 'tritation',\n",
       " 'jjust',\n",
       " '2timesdaily',\n",
       " 'infectioni',\n",
       " 'quotregularquot',\n",
       " 'pony',\n",
       " 'rennies',\n",
       " 'incisional',\n",
       " 'womans',\n",
       " 'filming',\n",
       " 'director',\n",
       " '120125',\n",
       " 'flexiril',\n",
       " '720pm',\n",
       " 'religious',\n",
       " 'relaxants',\n",
       " 'changeslike',\n",
       " 'backshoulders',\n",
       " 'pillwhich',\n",
       " 'catapress',\n",
       " 'fortnight',\n",
       " '91714',\n",
       " 'graveyard',\n",
       " 'catapressit',\n",
       " 'quotfrozenquot',\n",
       " 'quotabilifyquot',\n",
       " 'themi',\n",
       " 'souls',\n",
       " 'oops',\n",
       " 'karma',\n",
       " 'horoscopes',\n",
       " 'gods',\n",
       " 'pubescent',\n",
       " 'esatrylla',\n",
       " 'morphinenaltrexone',\n",
       " 'sprintect',\n",
       " 'antibioticsbut',\n",
       " 'delirious',\n",
       " 'doozy',\n",
       " 'lucozade',\n",
       " 'mamma',\n",
       " 'crunched',\n",
       " 'feelingthis',\n",
       " 'leanest',\n",
       " '1198',\n",
       " 'tensionpain',\n",
       " 'realizes',\n",
       " 'syndromefor',\n",
       " 'diaherra',\n",
       " '89pm',\n",
       " 'jam',\n",
       " 'tempting',\n",
       " 'sobbed',\n",
       " 'legsankles',\n",
       " 'burped',\n",
       " 'satan',\n",
       " 'sidecheek',\n",
       " 'relaxantquot',\n",
       " 'protectionbut',\n",
       " '14376year',\n",
       " 'quotmuscle',\n",
       " 'orphenadrine',\n",
       " 'unfamiliar',\n",
       " 'flouroquinolone',\n",
       " 'blacklisted',\n",
       " 'fludrocortisone',\n",
       " 'quotlightheadednessquot',\n",
       " 'hive',\n",
       " 'breakage',\n",
       " '2830',\n",
       " 'expel',\n",
       " 'quotprozacpoopoutquot',\n",
       " '236',\n",
       " 'stove',\n",
       " 'burningstingingitchingquot',\n",
       " 'headachenothing',\n",
       " '425',\n",
       " 'lightish',\n",
       " 'essure',\n",
       " 'lifediagnosed',\n",
       " 'towels',\n",
       " 'beam',\n",
       " 'cards',\n",
       " 'limb',\n",
       " 'everydayrandom',\n",
       " 'autoinjector',\n",
       " '20kg',\n",
       " 'prodromal',\n",
       " 'campho',\n",
       " 'releev',\n",
       " 'naysayers',\n",
       " 'controversial',\n",
       " 'quotdepoquot',\n",
       " '418',\n",
       " '2806lbs',\n",
       " 'neckswelling',\n",
       " 'weightgain',\n",
       " '5quot7039',\n",
       " 'rly',\n",
       " '0535',\n",
       " 'dyskensia',\n",
       " 'velaflaxine',\n",
       " 'caressing',\n",
       " 'cs',\n",
       " 'erectbut',\n",
       " '405',\n",
       " 'similarity',\n",
       " 'harmless',\n",
       " 'liftedi',\n",
       " 'ablilify',\n",
       " 'avoidable',\n",
       " 'balances',\n",
       " '33116',\n",
       " 'carelessness',\n",
       " 'zoloft039s',\n",
       " 'alienate',\n",
       " 'alltime',\n",
       " 'vegs',\n",
       " 'loton',\n",
       " 'fixquot',\n",
       " '414lbs',\n",
       " 'et',\n",
       " 'wraps',\n",
       " 'vampire',\n",
       " 'itbecause',\n",
       " 'bonusbut',\n",
       " 'happins',\n",
       " 'experiencesbut',\n",
       " 'user039s',\n",
       " 'clit',\n",
       " 'enuff',\n",
       " 'quotone',\n",
       " 'weaksensitive',\n",
       " 'terodolmethadonesteroid',\n",
       " 'intravenously',\n",
       " 'choc',\n",
       " 'painfulespecially',\n",
       " 'immersed',\n",
       " 'neoprene',\n",
       " 'booties',\n",
       " '108mg',\n",
       " 'reoccurences',\n",
       " 'sociable',\n",
       " 'kayaking',\n",
       " 'cities',\n",
       " 'darkened',\n",
       " 'cuticle',\n",
       " 'pregnantthroughout',\n",
       " 'chip',\n",
       " 'oncoming',\n",
       " 'zapped',\n",
       " 'kitchen',\n",
       " 'prod',\n",
       " 'cattle',\n",
       " 'titanic',\n",
       " 'gahh',\n",
       " 'dilauded',\n",
       " 'funniest',\n",
       " 'pj',\n",
       " 'marshmallow',\n",
       " 'tou2026',\n",
       " 'surgerybut',\n",
       " 'flee',\n",
       " 'dieing',\n",
       " 'transportation',\n",
       " 'pilltool',\n",
       " 'nonopioid',\n",
       " 'saxendavictoza',\n",
       " 'conjuction',\n",
       " 'models',\n",
       " '3117',\n",
       " 'celibacy',\n",
       " 'reputation',\n",
       " 'doctorshopped',\n",
       " 'guardia',\n",
       " 'diardia',\n",
       " 'giardia',\n",
       " '1x400mg',\n",
       " 'compensated',\n",
       " 'godawful',\n",
       " 'blasted',\n",
       " 'poke',\n",
       " 'ridges',\n",
       " 'coating',\n",
       " 'removedover',\n",
       " 'chantx',\n",
       " 'sabotaged',\n",
       " 'tonight039s',\n",
       " 'nonfasting',\n",
       " 'creaking',\n",
       " 'kneessprayed',\n",
       " 'receptive',\n",
       " 'ethic',\n",
       " '64oz',\n",
       " '179',\n",
       " 'modelling',\n",
       " 'snowed',\n",
       " '248lbs',\n",
       " 'overallit039s',\n",
       " 'achieving',\n",
       " 'happierwhich',\n",
       " 'spontaneity',\n",
       " 'tooi',\n",
       " 'bleedingdepressionand',\n",
       " 'crampsmigrainesheavy',\n",
       " 'handles',\n",
       " 'isotretin',\n",
       " 'yasmingt',\n",
       " 'unzip',\n",
       " 'philadelphia',\n",
       " 'unbelievablely',\n",
       " 'medroxyprogesterone',\n",
       " 'prebiotic',\n",
       " 'hither',\n",
       " 'whoooeey',\n",
       " 'tactic',\n",
       " 'venting',\n",
       " '226lb',\n",
       " 'nothing039s',\n",
       " 'demeanor',\n",
       " 'prefers',\n",
       " 'dander',\n",
       " '82kilos',\n",
       " 'unacceptably',\n",
       " 'claritind',\n",
       " 'respimat',\n",
       " 'ticking',\n",
       " 'successi',\n",
       " 'clotrimazole',\n",
       " 'medsacupuncture',\n",
       " 'quottopicalquot',\n",
       " 'terribleso',\n",
       " 'fenofibrate',\n",
       " 'prospects',\n",
       " 'favorable',\n",
       " '1005',\n",
       " 'arythmia',\n",
       " 'prepregnancy',\n",
       " 'wile',\n",
       " '1272015',\n",
       " 'mailbox',\n",
       " 'disconneted',\n",
       " 'guttate',\n",
       " 'adalumimab',\n",
       " 'tights',\n",
       " 'janfeb',\n",
       " 'quotdaily',\n",
       " 'topicallight',\n",
       " 'usequot',\n",
       " 'laxitive',\n",
       " 'revolved',\n",
       " 'quotsilentquot',\n",
       " 'onstay',\n",
       " 'obstacle',\n",
       " 'quotsmoothquot',\n",
       " 'acquainted',\n",
       " 'complexpartial',\n",
       " 'horriblepain',\n",
       " 'antiinflammatories',\n",
       " 'amytriptiline',\n",
       " 'enteric',\n",
       " 'drums',\n",
       " 'drumline',\n",
       " '204lbs',\n",
       " 'ciproflaxcin',\n",
       " 'components',\n",
       " '10quot215',\n",
       " 'loogestral',\n",
       " 'edging',\n",
       " 'petit',\n",
       " 'hypersensitivity',\n",
       " 'attackfree',\n",
       " 'anxietyfree',\n",
       " 'nauseaous',\n",
       " 'chaff',\n",
       " 'dosenever',\n",
       " 'augmenting',\n",
       " 'wellbutin',\n",
       " 'quotsmarterquot',\n",
       " 'excelled',\n",
       " 'aderall',\n",
       " 'evekeo',\n",
       " 'augustit',\n",
       " 'concur',\n",
       " 'hardwired',\n",
       " 'l5l6',\n",
       " 'i039ts',\n",
       " 'infancy',\n",
       " '620',\n",
       " '0730',\n",
       " 'attending',\n",
       " 'arousednothing',\n",
       " 'microdermabrasions',\n",
       " 'mid1960039s',\n",
       " 'angrystressed',\n",
       " 'ipl',\n",
       " 'selfevaluation',\n",
       " 'pulsed',\n",
       " 'swerving',\n",
       " 'megace',\n",
       " 'itchingi',\n",
       " 'skinceutical',\n",
       " 'blowtorch',\n",
       " 'shoving',\n",
       " 'whoa',\n",
       " 'medicatio',\n",
       " 'thw',\n",
       " 'oldi',\n",
       " 'fluish',\n",
       " 'composite',\n",
       " 'atypia',\n",
       " 'tonicclonic',\n",
       " 'shortlived',\n",
       " 'plateauing',\n",
       " 'crampsif',\n",
       " 'sovaldiolysio',\n",
       " 'myselfi',\n",
       " 'willthat039s',\n",
       " 'setit039s',\n",
       " 'awfuland',\n",
       " '1a',\n",
       " 'f4',\n",
       " 'fixand',\n",
       " 'k8',\n",
       " 'svr',\n",
       " 'tx',\n",
       " 'amitriptyaline',\n",
       " 'quottemporaryquot',\n",
       " '130month',\n",
       " 'orient',\n",
       " 'estimated',\n",
       " 'clearheaded',\n",
       " 'evaluation',\n",
       " 'postop',\n",
       " 'thro',\n",
       " 'rageful',\n",
       " 'circulations',\n",
       " 'jolting',\n",
       " 'iodoral50mg',\n",
       " 'sauna',\n",
       " 'supplementsvitamins',\n",
       " 'aerobics',\n",
       " 'machines',\n",
       " 'smokingthis',\n",
       " '9000mg',\n",
       " 'rd',\n",
       " 'myomectomy',\n",
       " 'quotpanaceaquot',\n",
       " 'driveway',\n",
       " 'oxcarbazepinetramadol',\n",
       " 'quotlight',\n",
       " 'imprinted',\n",
       " 'longbut',\n",
       " 'virtue',\n",
       " 'acachnoditis',\n",
       " 'femoral',\n",
       " '27500',\n",
       " 'helping039',\n",
       " 'focusread',\n",
       " 'fogginesshead',\n",
       " '6090mg',\n",
       " 'microscopic',\n",
       " 'hiccuping',\n",
       " 'deltasone',\n",
       " 'smokerquot',\n",
       " 'hyperglycemia',\n",
       " 'panadol',\n",
       " 'esomprezole',\n",
       " 'talkbreathe',\n",
       " 'lansoperzole',\n",
       " 'omprezole',\n",
       " 'pantoperazole',\n",
       " 'drips',\n",
       " 'bioidentical',\n",
       " 'agoyep',\n",
       " 'curbside',\n",
       " 'east',\n",
       " 'tissues',\n",
       " '81',\n",
       " 'insubstantial',\n",
       " '230pm',\n",
       " 'vitc',\n",
       " 'msm',\n",
       " 'ip6inositol',\n",
       " 'servicewith',\n",
       " 'jr',\n",
       " 'anew',\n",
       " 'awards',\n",
       " 'commits',\n",
       " 'neveragain',\n",
       " 'hazardous',\n",
       " 'lobbyists',\n",
       " 'attorneys',\n",
       " 'hired',\n",
       " 'recourse',\n",
       " '267box',\n",
       " 'fathom',\n",
       " 'drowsydizzy',\n",
       " 'jeopardizing',\n",
       " 'locator',\n",
       " '632016',\n",
       " 'xlday',\n",
       " 'rosaceai',\n",
       " 'papuls',\n",
       " 'hook',\n",
       " 'anesthetics',\n",
       " 'oxis',\n",
       " 'reversible',\n",
       " '105lbs',\n",
       " 'amazingquotin',\n",
       " 'comasleep',\n",
       " 'scanned',\n",
       " 'thev28th',\n",
       " 'oxi',\n",
       " 'carmex',\n",
       " 'snake',\n",
       " '2l',\n",
       " 'remissed',\n",
       " 'hungryand',\n",
       " 'painfulsore',\n",
       " 'quotswollenquot',\n",
       " 'k2',\n",
       " 'boron',\n",
       " 'dmg',\n",
       " 'ferrous',\n",
       " 'quotnegativequot',\n",
       " 'strontium',\n",
       " 'b173x',\n",
       " 'hydrolized',\n",
       " 'triestarylla',\n",
       " 'collagen',\n",
       " 'kleenexes',\n",
       " 'lancinating',\n",
       " 'seasonally',\n",
       " 'vigil',\n",
       " '41yr',\n",
       " 'fullout',\n",
       " 'itliterally',\n",
       " '23x',\n",
       " 'developeddiagnosed',\n",
       " 'evolvedworsened',\n",
       " 'blessingi',\n",
       " 'haemorrhoid',\n",
       " '1037',\n",
       " 'pinkred',\n",
       " 'terrifies',\n",
       " 'joyful',\n",
       " 'gnashing',\n",
       " 'wailing',\n",
       " 'rp',\n",
       " '50100',\n",
       " 'ceo',\n",
       " '611',\n",
       " 'listi',\n",
       " 'respite',\n",
       " 'apperance',\n",
       " 'trails',\n",
       " 'psycotics',\n",
       " 'quotsleepquot',\n",
       " 'selfesteempoor',\n",
       " 'policies',\n",
       " 'disrupts',\n",
       " 'yoked',\n",
       " 'insufficiency',\n",
       " 'gathered',\n",
       " 'arousal',\n",
       " 'camprial',\n",
       " 'clenchingteeth',\n",
       " '25yr',\n",
       " 'gt250',\n",
       " 'ebedea',\n",
       " 'freqently',\n",
       " 'cabergoline',\n",
       " 'mase',\n",
       " 'caloric',\n",
       " 'thesame',\n",
       " 'antidepressantsnone',\n",
       " 'quotolderquot',\n",
       " 'quotdownquot',\n",
       " 'wane',\n",
       " 'cooler',\n",
       " 'halos',\n",
       " 'gwt',\n",
       " 'equalize',\n",
       " 'ab',\n",
       " 'ast',\n",
       " 'alt',\n",
       " 'grumbles',\n",
       " 'tori',\n",
       " 'sebum',\n",
       " 'druginduced',\n",
       " 'paragaurd',\n",
       " 'frames',\n",
       " 'ibeprofen',\n",
       " 'lapse',\n",
       " 'efferor',\n",
       " 'wholeheartedly',\n",
       " '13070',\n",
       " 'foolproof',\n",
       " '240120',\n",
       " '8mth',\n",
       " '5yr',\n",
       " 'it039a',\n",
       " 'typesize',\n",
       " 'loxalate',\n",
       " 'nowup',\n",
       " 'manicure',\n",
       " 'salon',\n",
       " 'woah',\n",
       " 'spatial',\n",
       " 'psychoses',\n",
       " 'schoolcurrently',\n",
       " 'nauseousbut',\n",
       " 'dans',\n",
       " 'acneorg',\n",
       " 'verbalization',\n",
       " 'spouse039s',\n",
       " 'lvls',\n",
       " 'endroconologist',\n",
       " 'thqbkfully',\n",
       " '0200',\n",
       " 'accepting',\n",
       " 'darvon',\n",
       " 'fem',\n",
       " '4550',\n",
       " 'debilating',\n",
       " 'crawly',\n",
       " 'tuff',\n",
       " 'soonquot',\n",
       " 'evey',\n",
       " 'ciproflaxon',\n",
       " '14hours',\n",
       " 'staging',\n",
       " 't2',\n",
       " 'n0',\n",
       " 'm0',\n",
       " 'usg',\n",
       " 'nephractomy',\n",
       " 'thorax',\n",
       " 'positionwise',\n",
       " 'd4',\n",
       " 'mrcc',\n",
       " 'testlessnes',\n",
       " '8830',\n",
       " 'exercisediet',\n",
       " 'female039s',\n",
       " 'limitations',\n",
       " 'trinessaglidess',\n",
       " '5wks',\n",
       " 'roxycodone',\n",
       " 'hysterical',\n",
       " 'sensible',\n",
       " 'pdi',\n",
       " 'lamitrogine',\n",
       " '0400',\n",
       " '039paradoxical',\n",
       " 'unbareble',\n",
       " 'douche',\n",
       " 'hidrosis',\n",
       " 'recipes',\n",
       " 'netted',\n",
       " 'sayit',\n",
       " 'neutralquot',\n",
       " 'meloxacam',\n",
       " 'bulge',\n",
       " 'levelthe',\n",
       " 'drugand',\n",
       " 'thoughmaybe',\n",
       " 'keeled',\n",
       " 'cop',\n",
       " 'dosagedue',\n",
       " 'weightps',\n",
       " '745am',\n",
       " 'automatedresponse',\n",
       " '7380',\n",
       " '26100',\n",
       " 'greatnow',\n",
       " 'sideattempting',\n",
       " 'awaythat039s',\n",
       " 'flightfreeze',\n",
       " 'medicinewithdrawal',\n",
       " 'mcgi',\n",
       " 'mcgwill',\n",
       " 'agreeing',\n",
       " 'dosewish',\n",
       " 'doctorhe',\n",
       " 'suturing',\n",
       " 'nonprofit',\n",
       " 'hopefull',\n",
       " 'electriczappyrestless',\n",
       " '039depression039',\n",
       " 'alphabet',\n",
       " 'painwe',\n",
       " 'warns',\n",
       " 'puddingshe',\n",
       " '450day',\n",
       " 'reuccured',\n",
       " 'itchingstingingburning',\n",
       " 'mixturetummy',\n",
       " 'msk',\n",
       " 'lats',\n",
       " 'mission',\n",
       " '1kgmonth',\n",
       " 'strenuous',\n",
       " 'sweatand',\n",
       " 'mispronounce',\n",
       " 'worksor',\n",
       " 'sleepssecond',\n",
       " 'effectsnothing',\n",
       " 'yearshe',\n",
       " 'whnp',\n",
       " 'gibberish',\n",
       " 'revisited',\n",
       " 'miminal',\n",
       " '5he',\n",
       " 'confusedquot',\n",
       " 'quothormonally',\n",
       " 'trap',\n",
       " 'consipation',\n",
       " 'dayfine',\n",
       " 'swooshing',\n",
       " 'glocosesweets',\n",
       " 'pecs',\n",
       " 'constricting',\n",
       " '182016',\n",
       " ...]"
      ]
     },
     "execution_count": 16,
     "metadata": {},
     "output_type": "execute_result"
    }
   ],
   "source": [
    "freq = pd.Series(' '.join(data['review1']).split()).value_counts()\n",
    "less_freq = list(freq[freq == 1].index)\n",
    "less_freq"
   ]
  },
  {
   "cell_type": "code",
   "execution_count": 17,
   "id": "796a833f",
   "metadata": {
    "execution": {
     "iopub.execute_input": "2022-03-30T09:40:34.150723Z",
     "iopub.status.busy": "2022-03-30T09:40:34.149946Z",
     "iopub.status.idle": "2022-03-30T09:41:58.586882Z",
     "shell.execute_reply": "2022-03-30T09:41:58.587336Z",
     "shell.execute_reply.started": "2022-03-30T09:11:56.949516Z"
    },
    "papermill": {
     "duration": 84.51948,
     "end_time": "2022-03-30T09:41:58.587495",
     "exception": false,
     "start_time": "2022-03-30T09:40:34.068015",
     "status": "completed"
    },
    "tags": []
   },
   "outputs": [
    {
     "data": {
      "text/plain": [
       "0    side effect take combination bystolic 5 mg fis...\n",
       "1    son halfway fourth week intuniv became concern...\n",
       "3    first time using form birth control i039m glad...\n",
       "4    suboxone completely turned life around feel he...\n",
       "5    2nd day 5mg started work rock hard erections h...\n",
       "Name: review1, dtype: object"
      ]
     },
     "execution_count": 17,
     "metadata": {},
     "output_type": "execute_result"
    }
   ],
   "source": [
    "data['review1'] = data['review1'].apply(lambda x: \" \".join(x for x in x.split() if x not in less_freq))\n",
    "data['review1'].head()"
   ]
  },
  {
   "cell_type": "markdown",
   "id": "1157c999",
   "metadata": {
    "papermill": {
     "duration": 0.113419,
     "end_time": "2022-03-30T09:41:58.799493",
     "exception": false,
     "start_time": "2022-03-30T09:41:58.686074",
     "status": "completed"
    },
    "tags": []
   },
   "source": [
    "# **Stemming and lemmatization:-**"
   ]
  },
  {
   "cell_type": "code",
   "execution_count": 18,
   "id": "9f96f2ca",
   "metadata": {
    "execution": {
     "iopub.execute_input": "2022-03-30T09:41:59.029119Z",
     "iopub.status.busy": "2022-03-30T09:41:59.027897Z",
     "iopub.status.idle": "2022-03-30T09:41:59.090445Z",
     "shell.execute_reply": "2022-03-30T09:41:59.091454Z",
     "shell.execute_reply.started": "2022-03-30T09:13:25.328381Z"
    },
    "papermill": {
     "duration": 0.181424,
     "end_time": "2022-03-30T09:41:59.091649",
     "exception": false,
     "start_time": "2022-03-30T09:41:58.910225",
     "status": "completed"
    },
    "tags": []
   },
   "outputs": [],
   "source": [
    "from textblob import TextBlob, Word, Blobber\n",
    "from nltk.stem import PorterStemmer\n",
    "st = PorterStemmer()"
   ]
  },
  {
   "cell_type": "code",
   "execution_count": 19,
   "id": "653d77c2",
   "metadata": {
    "execution": {
     "iopub.execute_input": "2022-03-30T09:41:59.334612Z",
     "iopub.status.busy": "2022-03-30T09:41:59.333825Z",
     "iopub.status.idle": "2022-03-30T09:42:10.719569Z",
     "shell.execute_reply": "2022-03-30T09:42:10.719102Z",
     "shell.execute_reply.started": "2022-03-30T09:13:25.375389Z"
    },
    "papermill": {
     "duration": 11.509015,
     "end_time": "2022-03-30T09:42:10.719698",
     "exception": false,
     "start_time": "2022-03-30T09:41:59.210683",
     "status": "completed"
    },
    "tags": []
   },
   "outputs": [],
   "source": [
    "data['review1'] = data['review1'].apply(lambda x: \" \".join([st.stem(word) for word in x.split()]))\n"
   ]
  },
  {
   "cell_type": "code",
   "execution_count": 20,
   "id": "5a0f81e9",
   "metadata": {
    "execution": {
     "iopub.execute_input": "2022-03-30T09:42:10.864330Z",
     "iopub.status.busy": "2022-03-30T09:42:10.863755Z",
     "iopub.status.idle": "2022-03-30T09:42:15.502531Z",
     "shell.execute_reply": "2022-03-30T09:42:15.502042Z",
     "shell.execute_reply.started": "2022-03-30T09:13:37.139806Z"
    },
    "papermill": {
     "duration": 4.713121,
     "end_time": "2022-03-30T09:42:15.502668",
     "exception": false,
     "start_time": "2022-03-30T09:42:10.789547",
     "status": "completed"
    },
    "tags": []
   },
   "outputs": [
    {
     "data": {
      "text/plain": [
       "0         side effect take combin bystol 5 mg fish oil\n",
       "1    son halfway fourth week intuniv becam concern ...\n",
       "3    first time use form birth control i039m glad w...\n",
       "4    suboxon complet turn life around feel healthie...\n",
       "5    2nd day 5mg start work rock hard erect howev h...\n",
       "Name: review1, dtype: object"
      ]
     },
     "execution_count": 20,
     "metadata": {},
     "output_type": "execute_result"
    }
   ],
   "source": [
    "data['review1'] = data['review1'].apply(lambda x: \" \".join([Word(word).lemmatize() for word in x.split()]))\n",
    "data['review1'].head()"
   ]
  },
  {
   "cell_type": "markdown",
   "id": "e2ed94ff",
   "metadata": {
    "papermill": {
     "duration": 0.070386,
     "end_time": "2022-03-30T09:42:15.644391",
     "exception": false,
     "start_time": "2022-03-30T09:42:15.574005",
     "status": "completed"
    },
    "tags": []
   },
   "source": [
    "**Adding the length of the review and the word count of each review.**"
   ]
  },
  {
   "cell_type": "code",
   "execution_count": 21,
   "id": "de879d00",
   "metadata": {
    "execution": {
     "iopub.execute_input": "2022-03-30T09:42:15.796813Z",
     "iopub.status.busy": "2022-03-30T09:42:15.796061Z",
     "iopub.status.idle": "2022-03-30T09:42:15.855274Z",
     "shell.execute_reply": "2022-03-30T09:42:15.854809Z",
     "shell.execute_reply.started": "2022-03-30T09:13:41.800946Z"
    },
    "papermill": {
     "duration": 0.140415,
     "end_time": "2022-03-30T09:42:15.855417",
     "exception": false,
     "start_time": "2022-03-30T09:42:15.715002",
     "status": "completed"
    },
    "tags": []
   },
   "outputs": [],
   "source": [
    "data['review_len'] = data['review'].astype(str).apply(len)\n",
    "data['word_count'] = data['review'].apply(lambda x: len(str(x).split()))"
   ]
  },
  {
   "cell_type": "markdown",
   "id": "554f1908",
   "metadata": {
    "papermill": {
     "duration": 0.07155,
     "end_time": "2022-03-30T09:42:16.000251",
     "exception": false,
     "start_time": "2022-03-30T09:42:15.928701",
     "status": "completed"
    },
    "tags": []
   },
   "source": [
    "**Add one more feature called polarity. Polarity shows the sentiment of a piece of text. It counts the negative and positive words and determines the polarity. The value ranges from -1 to 1 where -1 represents the negative sentiment, 0 represents neutral and 1 represent positive sentiment.**"
   ]
  },
  {
   "cell_type": "code",
   "execution_count": 22,
   "id": "ba8fba34",
   "metadata": {
    "execution": {
     "iopub.execute_input": "2022-03-30T09:42:16.149059Z",
     "iopub.status.busy": "2022-03-30T09:42:16.147049Z",
     "iopub.status.idle": "2022-03-30T09:42:20.389646Z",
     "shell.execute_reply": "2022-03-30T09:42:20.390090Z",
     "shell.execute_reply.started": "2022-03-30T09:13:41.871000Z"
    },
    "papermill": {
     "duration": 4.319206,
     "end_time": "2022-03-30T09:42:20.390237",
     "exception": false,
     "start_time": "2022-03-30T09:42:16.071031",
     "status": "completed"
    },
    "tags": []
   },
   "outputs": [
    {
     "data": {
      "text/html": [
       "<div>\n",
       "<style scoped>\n",
       "    .dataframe tbody tr th:only-of-type {\n",
       "        vertical-align: middle;\n",
       "    }\n",
       "\n",
       "    .dataframe tbody tr th {\n",
       "        vertical-align: top;\n",
       "    }\n",
       "\n",
       "    .dataframe thead th {\n",
       "        text-align: right;\n",
       "    }\n",
       "</style>\n",
       "<table border=\"1\" class=\"dataframe\">\n",
       "  <thead>\n",
       "    <tr style=\"text-align: right;\">\n",
       "      <th></th>\n",
       "      <th>drugName</th>\n",
       "      <th>review</th>\n",
       "      <th>rating</th>\n",
       "      <th>review1</th>\n",
       "      <th>review_len</th>\n",
       "      <th>word_count</th>\n",
       "      <th>polarity</th>\n",
       "    </tr>\n",
       "  </thead>\n",
       "  <tbody>\n",
       "    <tr>\n",
       "      <th>0</th>\n",
       "      <td>Valsartan</td>\n",
       "      <td>\"It has no side effect, I take it in combinati...</td>\n",
       "      <td>9</td>\n",
       "      <td>side effect take combin bystol 5 mg fish oil</td>\n",
       "      <td>79</td>\n",
       "      <td>17</td>\n",
       "      <td>0.000000</td>\n",
       "    </tr>\n",
       "    <tr>\n",
       "      <th>1</th>\n",
       "      <td>Guanfacine</td>\n",
       "      <td>\"My son is halfway through his fourth week of ...</td>\n",
       "      <td>8</td>\n",
       "      <td>son halfway fourth week intuniv becam concern ...</td>\n",
       "      <td>741</td>\n",
       "      <td>141</td>\n",
       "      <td>0.237500</td>\n",
       "    </tr>\n",
       "    <tr>\n",
       "      <th>3</th>\n",
       "      <td>Ortho Evra</td>\n",
       "      <td>\"This is my first time using any form of birth...</td>\n",
       "      <td>8</td>\n",
       "      <td>first time use form birth control i039m glad w...</td>\n",
       "      <td>448</td>\n",
       "      <td>89</td>\n",
       "      <td>0.300000</td>\n",
       "    </tr>\n",
       "    <tr>\n",
       "      <th>4</th>\n",
       "      <td>Buprenorphine / naloxone</td>\n",
       "      <td>\"Suboxone has completely turned my life around...</td>\n",
       "      <td>9</td>\n",
       "      <td>suboxon complet turn life around feel healthie...</td>\n",
       "      <td>719</td>\n",
       "      <td>124</td>\n",
       "      <td>0.191667</td>\n",
       "    </tr>\n",
       "    <tr>\n",
       "      <th>5</th>\n",
       "      <td>Cialis</td>\n",
       "      <td>\"2nd day on 5mg started to work with rock hard...</td>\n",
       "      <td>2</td>\n",
       "      <td>2nd day 5mg start work rock hard erect howev h...</td>\n",
       "      <td>403</td>\n",
       "      <td>68</td>\n",
       "      <td>0.081667</td>\n",
       "    </tr>\n",
       "  </tbody>\n",
       "</table>\n",
       "</div>"
      ],
      "text/plain": [
       "                   drugName  \\\n",
       "0                 Valsartan   \n",
       "1                Guanfacine   \n",
       "3                Ortho Evra   \n",
       "4  Buprenorphine / naloxone   \n",
       "5                    Cialis   \n",
       "\n",
       "                                              review  rating  \\\n",
       "0  \"It has no side effect, I take it in combinati...       9   \n",
       "1  \"My son is halfway through his fourth week of ...       8   \n",
       "3  \"This is my first time using any form of birth...       8   \n",
       "4  \"Suboxone has completely turned my life around...       9   \n",
       "5  \"2nd day on 5mg started to work with rock hard...       2   \n",
       "\n",
       "                                             review1  review_len  word_count  \\\n",
       "0       side effect take combin bystol 5 mg fish oil          79          17   \n",
       "1  son halfway fourth week intuniv becam concern ...         741         141   \n",
       "3  first time use form birth control i039m glad w...         448          89   \n",
       "4  suboxon complet turn life around feel healthie...         719         124   \n",
       "5  2nd day 5mg start work rock hard erect howev h...         403          68   \n",
       "\n",
       "   polarity  \n",
       "0  0.000000  \n",
       "1  0.237500  \n",
       "3  0.300000  \n",
       "4  0.191667  \n",
       "5  0.081667  "
      ]
     },
     "execution_count": 22,
     "metadata": {},
     "output_type": "execute_result"
    }
   ],
   "source": [
    "data['polarity'] = data['review1'].map(lambda text: TextBlob(text).sentiment.polarity)\n",
    "data.head()"
   ]
  },
  {
   "cell_type": "code",
   "execution_count": 23,
   "id": "1fa6503d",
   "metadata": {
    "execution": {
     "iopub.execute_input": "2022-03-30T09:42:20.538979Z",
     "iopub.status.busy": "2022-03-30T09:42:20.538148Z",
     "iopub.status.idle": "2022-03-30T09:42:21.390926Z",
     "shell.execute_reply": "2022-03-30T09:42:21.391536Z",
     "shell.execute_reply.started": "2022-03-30T09:13:46.495087Z"
    },
    "papermill": {
     "duration": 0.929914,
     "end_time": "2022-03-30T09:42:21.391712",
     "exception": false,
     "start_time": "2022-03-30T09:42:20.461798",
     "status": "completed"
    },
    "tags": []
   },
   "outputs": [
    {
     "data": {
      "text/plain": [
       "array([[<AxesSubplot:title={'center':'review_len'}>,\n",
       "        <AxesSubplot:title={'center':'word_count'}>],\n",
       "       [<AxesSubplot:title={'center':'polarity'}>,\n",
       "        <AxesSubplot:title={'center':'rating'}>]], dtype=object)"
      ]
     },
     "execution_count": 23,
     "metadata": {},
     "output_type": "execute_result"
    },
    {
     "data": {
      "image/png": "[encoded data removed]",
      "text/plain": [
       "<Figure size 1080x720 with 4 Axes>"
      ]
     },
     "metadata": {
      "needs_background": "light"
     },
     "output_type": "display_data"
    }
   ],
   "source": [
    "data[['review_len', 'word_count','polarity', 'rating']].hist(bins=20, figsize=(15, 10), color='red')"
   ]
  },
  {
   "cell_type": "markdown",
   "id": "2424756f",
   "metadata": {
    "papermill": {
     "duration": 0.073999,
     "end_time": "2022-03-30T09:42:21.540294",
     "exception": false,
     "start_time": "2022-03-30T09:42:21.466295",
     "status": "completed"
    },
    "tags": []
   },
   "source": [
    "# **Rating VS Polarity:-**"
   ]
  },
  {
   "cell_type": "code",
   "execution_count": 24,
   "id": "e0d31073",
   "metadata": {
    "execution": {
     "iopub.execute_input": "2022-03-30T09:42:21.693714Z",
     "iopub.status.busy": "2022-03-30T09:42:21.692898Z",
     "iopub.status.idle": "2022-03-30T09:42:22.028659Z",
     "shell.execute_reply": "2022-03-30T09:42:22.029101Z",
     "shell.execute_reply.started": "2022-03-30T09:13:47.443135Z"
    },
    "papermill": {
     "duration": 0.416576,
     "end_time": "2022-03-30T09:42:22.029250",
     "exception": false,
     "start_time": "2022-03-30T09:42:21.612674",
     "status": "completed"
    },
    "tags": []
   },
   "outputs": [
    {
     "data": {
      "image/png": "[encoded data removed]",
      "text/plain": [
       "<Figure size 720x576 with 1 Axes>"
      ]
     },
     "metadata": {
      "needs_background": "light"
     },
     "output_type": "display_data"
    }
   ],
   "source": [
    "plt.figure(figsize=(10, 8))\n",
    "sns.set_style('white')\n",
    "sns.set(font_scale= 1.5)\n",
    "sns.boxplot(x= 'rating', y='polarity', data=data)\n",
    "plt.xlabel('Rating')\n",
    "plt.ylabel('Polarity')\n",
    "plt.title('Ratings vs Polarity')\n",
    "plt.show()"
   ]
  },
  {
   "cell_type": "markdown",
   "id": "2f41d716",
   "metadata": {
    "papermill": {
     "duration": 0.073318,
     "end_time": "2022-03-30T09:42:22.176364",
     "exception": false,
     "start_time": "2022-03-30T09:42:22.103046",
     "status": "completed"
    },
    "tags": []
   },
   "source": [
    "**Mean polarity keeps going up with the higher rating. There are a lot of outliers in rating 1 and 5 though. Maybe looking at the numbers will help a bit more.**"
   ]
  },
  {
   "cell_type": "code",
   "execution_count": 25,
   "id": "9cb7e4bf",
   "metadata": {
    "execution": {
     "iopub.execute_input": "2022-03-30T09:42:22.332453Z",
     "iopub.status.busy": "2022-03-30T09:42:22.330810Z",
     "iopub.status.idle": "2022-03-30T09:42:22.580285Z",
     "shell.execute_reply": "2022-03-30T09:42:22.579590Z",
     "shell.execute_reply.started": "2022-03-30T09:13:47.804321Z"
    },
    "papermill": {
     "duration": 0.33031,
     "end_time": "2022-03-30T09:42:22.580408",
     "exception": false,
     "start_time": "2022-03-30T09:42:22.250098",
     "status": "completed"
    },
    "tags": []
   },
   "outputs": [
    {
     "data": {
      "image/png": "[encoded data removed]",
      "text/plain": [
       "<Figure size 576x432 with 1 Axes>"
      ]
     },
     "metadata": {},
     "output_type": "display_data"
    }
   ],
   "source": [
    "mean_pol = data.groupby('rating')['polarity'].agg([np.mean])\n",
    "mean_pol.columns = ['mean_polarity']\n",
    "fig, ax = plt.subplots(figsize=(8, 6))\n",
    "plt.bar(mean_pol.index, mean_pol.mean_polarity, width=0.3)\n",
    "for i in ax.patches:\n",
    "    ax.text(i.get_x(), i.get_height()+0.01, str(\"{:.2f}\".format(i.get_height())))\n",
    "    plt.title(\"Polarity of Ratings\", fontsize=22)\n",
    "plt.ylabel(\"Polarity\", fontsize=16)\n",
    "plt.xlabel(\"Rating\", fontsize=16)\n",
    "plt.ylim(0, 0.35)\n",
    "plt.show()"
   ]
  },
  {
   "cell_type": "markdown",
   "id": "c5465776",
   "metadata": {
    "papermill": {
     "duration": 0.074967,
     "end_time": "2022-03-30T09:42:22.730334",
     "exception": false,
     "start_time": "2022-03-30T09:42:22.655367",
     "status": "completed"
    },
    "tags": []
   },
   "source": [
    "**Count plot shows the count of the reviews of each rating available in the datase:-**"
   ]
  },
  {
   "cell_type": "code",
   "execution_count": 26,
   "id": "23e63eb2",
   "metadata": {
    "execution": {
     "iopub.execute_input": "2022-03-30T09:42:22.887036Z",
     "iopub.status.busy": "2022-03-30T09:42:22.886226Z",
     "iopub.status.idle": "2022-03-30T09:42:23.122844Z",
     "shell.execute_reply": "2022-03-30T09:42:23.123235Z",
     "shell.execute_reply.started": "2022-03-30T09:13:48.066315Z"
    },
    "papermill": {
     "duration": 0.318452,
     "end_time": "2022-03-30T09:42:23.123386",
     "exception": false,
     "start_time": "2022-03-30T09:42:22.804934",
     "status": "completed"
    },
    "tags": []
   },
   "outputs": [
    {
     "data": {
      "image/png": "[encoded data removed]",
      "text/plain": [
       "<Figure size 576x432 with 1 Axes>"
      ]
     },
     "metadata": {},
     "output_type": "display_data"
    }
   ],
   "source": [
    "plt.figure(figsize=(8, 6))\n",
    "sns.set_style('white')\n",
    "ax = sns.countplot(x=\"rating\", data=data, palette=\"Set3\")"
   ]
  },
  {
   "cell_type": "markdown",
   "id": "3d701271",
   "metadata": {
    "papermill": {
     "duration": 0.076065,
     "end_time": "2022-03-30T09:42:23.275821",
     "exception": false,
     "start_time": "2022-03-30T09:42:23.199756",
     "status": "completed"
    },
    "tags": []
   },
   "source": [
    "**Most of the reviews of the dataset have a rating of 10, so it will be intersting to see if the review length changes with rating:**"
   ]
  },
  {
   "cell_type": "code",
   "execution_count": 27,
   "id": "b49e8137",
   "metadata": {
    "execution": {
     "iopub.execute_input": "2022-03-30T09:42:23.434252Z",
     "iopub.status.busy": "2022-03-30T09:42:23.433470Z",
     "iopub.status.idle": "2022-03-30T09:42:24.056255Z",
     "shell.execute_reply": "2022-03-30T09:42:24.056661Z",
     "shell.execute_reply.started": "2022-03-30T09:13:48.321058Z"
    },
    "papermill": {
     "duration": 0.705741,
     "end_time": "2022-03-30T09:42:24.056802",
     "exception": false,
     "start_time": "2022-03-30T09:42:23.351061",
     "status": "completed"
    },
    "tags": []
   },
   "outputs": [
    {
     "data": {
      "image/png": "[encoded data removed]",
      "text/plain": [
       "<Figure size 720x432 with 1 Axes>"
      ]
     },
     "metadata": {},
     "output_type": "display_data"
    }
   ],
   "source": [
    "plt.figure(figsize=(10, 6))\n",
    "sns.pointplot(x = 'rating', y='review_len', data=data)\n",
    "plt.xlabel('Rating')\n",
    "plt.ylabel('Reviwe Length')\n",
    "plt.title('Drug Condition Rating VS Rreview Length')\n",
    "plt.show()"
   ]
  },
  {
   "cell_type": "markdown",
   "id": "2a6672de",
   "metadata": {
    "papermill": {
     "duration": 0.085637,
     "end_time": "2022-03-30T09:42:24.219646",
     "exception": false,
     "start_time": "2022-03-30T09:42:24.134009",
     "status": "completed"
    },
    "tags": []
   },
   "source": [
    "# **Get the top 30 conditions based on polarity:-**"
   ]
  },
  {
   "cell_type": "code",
   "execution_count": 28,
   "id": "45b2b17b",
   "metadata": {
    "execution": {
     "iopub.execute_input": "2022-03-30T09:42:24.379774Z",
     "iopub.status.busy": "2022-03-30T09:42:24.376321Z",
     "iopub.status.idle": "2022-03-30T09:42:24.390573Z",
     "shell.execute_reply": "2022-03-30T09:42:24.391039Z",
     "shell.execute_reply.started": "2022-03-30T09:13:48.960415Z"
    },
    "papermill": {
     "duration": 0.094601,
     "end_time": "2022-03-30T09:42:24.391177",
     "exception": false,
     "start_time": "2022-03-30T09:42:24.296576",
     "status": "completed"
    },
    "tags": []
   },
   "outputs": [
    {
     "data": {
      "text/html": [
       "<div>\n",
       "<style scoped>\n",
       "    .dataframe tbody tr th:only-of-type {\n",
       "        vertical-align: middle;\n",
       "    }\n",
       "\n",
       "    .dataframe tbody tr th {\n",
       "        vertical-align: top;\n",
       "    }\n",
       "\n",
       "    .dataframe thead th {\n",
       "        text-align: right;\n",
       "    }\n",
       "</style>\n",
       "<table border=\"1\" class=\"dataframe\">\n",
       "  <thead>\n",
       "    <tr style=\"text-align: right;\">\n",
       "      <th></th>\n",
       "      <th>polarity</th>\n",
       "    </tr>\n",
       "    <tr>\n",
       "      <th>drugName</th>\n",
       "      <th></th>\n",
       "    </tr>\n",
       "  </thead>\n",
       "  <tbody>\n",
       "    <tr>\n",
       "      <th>Benzoyl peroxide</th>\n",
       "      <td>1.000000</td>\n",
       "    </tr>\n",
       "    <tr>\n",
       "      <th>Doxazosin</th>\n",
       "      <td>0.800000</td>\n",
       "    </tr>\n",
       "    <tr>\n",
       "      <th>Zyrtec</th>\n",
       "      <td>0.562469</td>\n",
       "    </tr>\n",
       "    <tr>\n",
       "      <th>Phenylephrine</th>\n",
       "      <td>0.554167</td>\n",
       "    </tr>\n",
       "    <tr>\n",
       "      <th>Exalgo</th>\n",
       "      <td>0.500000</td>\n",
       "    </tr>\n",
       "    <tr>\n",
       "      <th>Rabeprazole</th>\n",
       "      <td>0.450000</td>\n",
       "    </tr>\n",
       "    <tr>\n",
       "      <th>Eucrisa</th>\n",
       "      <td>0.437500</td>\n",
       "    </tr>\n",
       "    <tr>\n",
       "      <th>Atropine / diphenoxylate</th>\n",
       "      <td>0.432197</td>\n",
       "    </tr>\n",
       "    <tr>\n",
       "      <th>Relpax</th>\n",
       "      <td>0.430667</td>\n",
       "    </tr>\n",
       "    <tr>\n",
       "      <th>Subutex</th>\n",
       "      <td>0.430556</td>\n",
       "    </tr>\n",
       "    <tr>\n",
       "      <th>Stribild</th>\n",
       "      <td>0.424762</td>\n",
       "    </tr>\n",
       "    <tr>\n",
       "      <th>Azelaic acid</th>\n",
       "      <td>0.411111</td>\n",
       "    </tr>\n",
       "    <tr>\n",
       "      <th>Terazosin</th>\n",
       "      <td>0.405556</td>\n",
       "    </tr>\n",
       "    <tr>\n",
       "      <th>Desonide</th>\n",
       "      <td>0.400000</td>\n",
       "    </tr>\n",
       "    <tr>\n",
       "      <th>Exforge</th>\n",
       "      <td>0.400000</td>\n",
       "    </tr>\n",
       "    <tr>\n",
       "      <th>Meperidine</th>\n",
       "      <td>0.399444</td>\n",
       "    </tr>\n",
       "    <tr>\n",
       "      <th>Fexofenadine / pseudoephedrine</th>\n",
       "      <td>0.397959</td>\n",
       "    </tr>\n",
       "    <tr>\n",
       "      <th>Sulfacetamide sodium / sulfur</th>\n",
       "      <td>0.393750</td>\n",
       "    </tr>\n",
       "    <tr>\n",
       "      <th>Chlorpromazine</th>\n",
       "      <td>0.390833</td>\n",
       "    </tr>\n",
       "    <tr>\n",
       "      <th>Sodium biphosphate / sodium phosphate</th>\n",
       "      <td>0.383333</td>\n",
       "    </tr>\n",
       "    <tr>\n",
       "      <th>Dabigatran</th>\n",
       "      <td>0.375000</td>\n",
       "    </tr>\n",
       "    <tr>\n",
       "      <th>Prilosec</th>\n",
       "      <td>0.368750</td>\n",
       "    </tr>\n",
       "    <tr>\n",
       "      <th>Capsaicin</th>\n",
       "      <td>0.366667</td>\n",
       "    </tr>\n",
       "    <tr>\n",
       "      <th>Tessalon Perles</th>\n",
       "      <td>0.361255</td>\n",
       "    </tr>\n",
       "    <tr>\n",
       "      <th>Bonine</th>\n",
       "      <td>0.356019</td>\n",
       "    </tr>\n",
       "    <tr>\n",
       "      <th>Secukinumab</th>\n",
       "      <td>0.353333</td>\n",
       "    </tr>\n",
       "    <tr>\n",
       "      <th>Elmiron</th>\n",
       "      <td>0.352222</td>\n",
       "    </tr>\n",
       "    <tr>\n",
       "      <th>Vaniqa</th>\n",
       "      <td>0.350000</td>\n",
       "    </tr>\n",
       "    <tr>\n",
       "      <th>Denosumab</th>\n",
       "      <td>0.349107</td>\n",
       "    </tr>\n",
       "    <tr>\n",
       "      <th>Restasis</th>\n",
       "      <td>0.347064</td>\n",
       "    </tr>\n",
       "  </tbody>\n",
       "</table>\n",
       "</div>"
      ],
      "text/plain": [
       "                                       polarity\n",
       "drugName                                       \n",
       "Benzoyl peroxide                       1.000000\n",
       "Doxazosin                              0.800000\n",
       "Zyrtec                                 0.562469\n",
       "Phenylephrine                          0.554167\n",
       "Exalgo                                 0.500000\n",
       "Rabeprazole                            0.450000\n",
       "Eucrisa                                0.437500\n",
       "Atropine / diphenoxylate               0.432197\n",
       "Relpax                                 0.430667\n",
       "Subutex                                0.430556\n",
       "Stribild                               0.424762\n",
       "Azelaic acid                           0.411111\n",
       "Terazosin                              0.405556\n",
       "Desonide                               0.400000\n",
       "Exforge                                0.400000\n",
       "Meperidine                             0.399444\n",
       "Fexofenadine / pseudoephedrine         0.397959\n",
       "Sulfacetamide sodium / sulfur          0.393750\n",
       "Chlorpromazine                         0.390833\n",
       "Sodium biphosphate / sodium phosphate  0.383333\n",
       "Dabigatran                             0.375000\n",
       "Prilosec                               0.368750\n",
       "Capsaicin                              0.366667\n",
       "Tessalon Perles                        0.361255\n",
       "Bonine                                 0.356019\n",
       "Secukinumab                            0.353333\n",
       "Elmiron                                0.352222\n",
       "Vaniqa                                 0.350000\n",
       "Denosumab                              0.349107\n",
       "Restasis                               0.347064"
      ]
     },
     "execution_count": 28,
     "metadata": {},
     "output_type": "execute_result"
    }
   ],
   "source": [
    "condition_pol = data.groupby('drugName')['polarity'].agg([np.mean])\n",
    "condition_pol.columns = ['polarity']\n",
    "condition_pol = condition_pol.sort_values('polarity', ascending=False)\n",
    "condition_pol = condition_pol.head(30)\n",
    "condition_pol"
   ]
  },
  {
   "cell_type": "markdown",
   "id": "de6ec1bf",
   "metadata": {
    "papermill": {
     "duration": 0.077178,
     "end_time": "2022-03-30T09:42:24.545742",
     "exception": false,
     "start_time": "2022-03-30T09:42:24.468564",
     "status": "completed"
    },
    "tags": []
   },
   "source": [
    "# **WordCloud:-**"
   ]
  },
  {
   "cell_type": "markdown",
   "id": "d6d21352",
   "metadata": {
    "papermill": {
     "duration": 0.076628,
     "end_time": "2022-03-30T09:42:24.699513",
     "exception": false,
     "start_time": "2022-03-30T09:42:24.622885",
     "status": "completed"
    },
    "tags": []
   },
   "source": [
    "**Wordcloud is a common and beautiful visualization for text data to plot the frequency of words. You may need to install wordcloud if you do not have it already, using this command:**"
   ]
  },
  {
   "cell_type": "code",
   "execution_count": 29,
   "id": "315ac829",
   "metadata": {
    "execution": {
     "iopub.execute_input": "2022-03-30T09:42:24.858331Z",
     "iopub.status.busy": "2022-03-30T09:42:24.857658Z",
     "iopub.status.idle": "2022-03-30T09:43:25.977135Z",
     "shell.execute_reply": "2022-03-30T09:43:25.977777Z",
     "shell.execute_reply.started": "2022-03-30T09:13:48.980537Z"
    },
    "papermill": {
     "duration": 61.200813,
     "end_time": "2022-03-30T09:43:25.977991",
     "exception": false,
     "start_time": "2022-03-30T09:42:24.777178",
     "status": "completed"
    },
    "tags": []
   },
   "outputs": [
    {
     "name": "stdout",
     "output_type": "stream",
     "text": [
      "Collecting package metadata (current_repodata.json): - \b\b\\ \b\b| \b\b/ \b\b- \b\b\\ \b\b| \b\b/ \b\b- \b\b\\ \b\b| \b\b/ \b\b- \b\b\\ \b\b| \b\b/ \b\b- \b\b\\ \b\b| \b\b/ \b\b- \b\b\\ \b\b| \b\b/ \b\b- \b\b\\ \b\b| \b\b/ \b\b- \b\b\\ \b\b| \b\b/ \b\b- \b\b\\ \b\b| \b\b/ \b\b- \b\b\\ \b\b| \b\b/ \b\b- \b\b\\ \b\b| \b\b/ \b\b- \b\b\\ \b\b| \b\b/ \b\b- \b\b\\ \b\b| \b\b/ \b\b- \b\b\\ \b\b| \b\b/ \b\b- \b\b\\ \b\b| \b\b/ \b\b- \b\b\\ \b\b| \b\b/ \b\b- \b\b\\ \b\b| \b\b/ \b\b- \b\b\\ \b\b| \b\b/ \b\b- \b\b\\ \b\b| \b\b/ \b\b- \b\b\\ \b\b| \b\b/ \b\b- \b\b\\ \b\b| \b\b/ \b\b- \b\b\\ \b\b| \b\b/ \b\b- \b\b\\ \b\b| \b\b/ \b\b- \b\b\\ \b\b| \b\b/ \b\b- \b\b\\ \b\b| \b\b/ \b\b- \b\b\\ \b\b| \b\b/ \b\b- \b\b\\ \b\b| \b\b/ \b\b- \b\b\\ \b\b| \b\b/ \b\b- \b\b\\ \b\b| \b\b/ \b\b- \b\b\\ \b\b| \b\b/ \b\b- \b\b\\ \b\b| \b\b/ \b\b- \b\b\\ \b\b| \b\b/ \b\b- \b\b\\ \b\b| \b\b/ \b\b- \b\b\\ \b\b| \b\b/ \b\b- \b\b\\ \b\b| \b\b/ \b\bdone\r\n",
      "Solving environment: \\ \b\b| \b\b/ \b\b- \b\b\\ \b\b| \b\b/ \b\b- \b\b\\ \b\b| \b\b/ \b\b- \b\b\\ \b\b| \b\b/ \b\b- \b\b\\ \b\b| \b\b/ \b\b- \b\b\\ \b\b| \b\b/ \b\b- \b\b\\ \b\b| \b\b/ \b\b- \b\b\\ \b\b| \b\b/ \b\b- \b\b\\ \b\b| \b\b/ \b\b- \b\b\\ \b\b| \b\b/ \b\b- \b\b\\ \b\b| \b\b/ \b\b- \b\b\\ \b\b| \b\b/ \b\b- \b\b\\ \b\b| \b\b/ \b\b- \b\b\\ \b\b| \b\b/ \b\b- \b\b\\ \b\b| \b\b/ \b\b- \b\b\\ \b\b| \b\b/ \b\b- \b\b\\ \b\b| \b\b/ \b\b- \b\b\\ \b\b| \b\b/ \b\b- \b\b\\ \b\b| \b\b/ \b\b- \b\b\\ \b\b| \b\b/ \b\b- \b\b\\ \b\b| \b\b/ \b\b- \b\b\\ \b\b| \b\b/ \b\b- \b\b\\ \b\b| \b\b/ \b\b- \b\b\\ \b\b| \b\b/ \b\b- \b\b\\ \b\b| \b\b/ \b\b- \b\b\\ \b\b| \b\b/ \b\b- \b\b\\ \b\b| \b\b/ \b\b- \b\b\\ \b\b| \b\b/ \b\b- \b\b\\ \b\b| \b\b/ \b\b- \b\b\\ \b\b| \b\b/ \b\b- \b\b\\ \b\b| \b\b/ \b\b- \b\b\\ \b\b| \b\b/ \b\b- \b\b\\ \b\b| \b\b/ \b\b- \b\b\\ \b\b| \b\bdone\r\n",
      "\r\n",
      "## Package Plan ##\r\n",
      "\r\n",
      "  environment location: /opt/conda\r\n",
      "\r\n",
      "  added / updated specs:\r\n",
      "    - wordcloud\r\n",
      "\r\n",
      "\r\n",
      "The following packages will be downloaded:\r\n",
      "\r\n",
      "    package                    |            build\r\n",
      "    ---------------------------|-----------------\r\n",
      "    conda-4.12.0               |   py37h89c1867_0         1.0 MB  conda-forge\r\n",
      "    openssl-1.1.1n             |       h166bdaf_0         2.1 MB  conda-forge\r\n",
      "    wordcloud-1.8.1            |   py37h5e8e339_2         189 KB  conda-forge\r\n",
      "    ------------------------------------------------------------\r\n",
      "                                           Total:         3.3 MB\r\n",
      "\r\n",
      "The following NEW packages will be INSTALLED:\r\n",
      "\r\n",
      "  wordcloud          conda-forge/linux-64::wordcloud-1.8.1-py37h5e8e339_2\r\n",
      "\r\n",
      "The following packages will be UPDATED:\r\n",
      "\r\n",
      "  conda                               4.11.0-py37h89c1867_2 --> 4.12.0-py37h89c1867_0\r\n",
      "  openssl                                 1.1.1l-h7f98852_0 --> 1.1.1n-h166bdaf_0\r\n",
      "\r\n",
      "\r\n",
      "\r\n",
      "Downloading and Extracting Packages\r\n",
      "wordcloud-1.8.1      | 189 KB    | ##################################### | 100% \r\n",
      "openssl-1.1.1n       | 2.1 MB    | ##################################### | 100% \r\n",
      "conda-4.12.0         | 1.0 MB    | ##################################### | 100% \r\n",
      "Preparing transaction: - \b\bdone\r\n",
      "Verifying transaction: | \b\b/ \b\bdone\r\n",
      "Executing transaction: \\ \b\b| \b\b/ \b\b- \b\b\\ \b\b| \b\b/ \b\b- \b\b\\ \b\b| \b\b/ \b\b- \b\b\\ \b\b| \b\b/ \b\b- \b\b\\ \b\b| \b\b/ \b\b- \b\b\\ \b\b| \b\b/ \b\b- \b\b\\ \b\b| \b\b/ \b\b- \b\b\\ \b\bdone\r\n",
      "\n",
      "Note: you may need to restart the kernel to use updated packages.\n"
     ]
    }
   ],
   "source": [
    "conda install -c conda-forge wordcloud"
   ]
  },
  {
   "cell_type": "code",
   "execution_count": 30,
   "id": "eb75e272",
   "metadata": {
    "execution": {
     "iopub.execute_input": "2022-03-30T09:43:26.335631Z",
     "iopub.status.busy": "2022-03-30T09:43:26.334871Z",
     "iopub.status.idle": "2022-03-30T09:43:26.337712Z",
     "shell.execute_reply": "2022-03-30T09:43:26.338107Z",
     "shell.execute_reply.started": "2022-03-30T09:14:50.921044Z"
    },
    "papermill": {
     "duration": 0.186088,
     "end_time": "2022-03-30T09:43:26.338245",
     "exception": false,
     "start_time": "2022-03-30T09:43:26.152157",
     "status": "completed"
    },
    "tags": []
   },
   "outputs": [],
   "source": [
    "text = \" \".join(review for review in data.review1)"
   ]
  },
  {
   "cell_type": "code",
   "execution_count": 31,
   "id": "9ff25222",
   "metadata": {
    "execution": {
     "iopub.execute_input": "2022-03-30T09:43:26.691776Z",
     "iopub.status.busy": "2022-03-30T09:43:26.690961Z",
     "iopub.status.idle": "2022-03-30T09:43:30.093416Z",
     "shell.execute_reply": "2022-03-30T09:43:30.093809Z",
     "shell.execute_reply.started": "2022-03-30T09:14:50.937466Z"
    },
    "papermill": {
     "duration": 3.581791,
     "end_time": "2022-03-30T09:43:30.093972",
     "exception": false,
     "start_time": "2022-03-30T09:43:26.512181",
     "status": "completed"
    },
    "tags": []
   },
   "outputs": [
    {
     "data": {
      "image/png": "[encoded data removed]",
      "text/plain": [
       "<Figure size 1008x864 with 1 Axes>"
      ]
     },
     "metadata": {},
     "output_type": "display_data"
    }
   ],
   "source": [
    "from wordcloud import WordCloud, STOPWORDS, ImageColorGenerator\n",
    "stopwords = set(STOPWORDS)\n",
    "stopwords = stopwords.union([\"ha\", \"thi\", \"now\", \"onli\", \"im\", \"becaus\", \"wa\", \"will\", \"even\", \"go\", \"realli\", \"didnt\", \"abl\"])\n",
    "wordcl = WordCloud(stopwords = stopwords, background_color='white', max_font_size = 50, max_words = 5000).generate(text)\n",
    "plt.figure(figsize=(14, 12))\n",
    "plt.imshow(wordcl, interpolation='bilinear')\n",
    "plt.axis('off')\n",
    "plt.show()"
   ]
  },
  {
   "cell_type": "markdown",
   "id": "ab307421",
   "metadata": {
    "papermill": {
     "duration": 0.182566,
     "end_time": "2022-03-30T09:43:30.459817",
     "exception": false,
     "start_time": "2022-03-30T09:43:30.277251",
     "status": "completed"
    },
    "tags": []
   },
   "source": [
    "# **Frequency Charts:-**"
   ]
  },
  {
   "cell_type": "markdown",
   "id": "4a833416",
   "metadata": {
    "papermill": {
     "duration": 0.180312,
     "end_time": "2022-03-30T09:43:30.821444",
     "exception": false,
     "start_time": "2022-03-30T09:43:30.641132",
     "status": "completed"
    },
    "tags": []
   },
   "source": [
    "**This is common practice in text data analysis to make charts of the frequency of words. That gives a good idea about what people are talking about most in this text. First, find the frequency of each word in the review column of the dataset. Then plot the top 20 words based on the frequency.**"
   ]
  },
  {
   "cell_type": "code",
   "execution_count": 32,
   "id": "66cc28d6",
   "metadata": {
    "execution": {
     "iopub.execute_input": "2022-03-30T09:43:31.190950Z",
     "iopub.status.busy": "2022-03-30T09:43:31.190224Z",
     "iopub.status.idle": "2022-03-30T09:43:31.192423Z",
     "shell.execute_reply": "2022-03-30T09:43:31.192859Z",
     "shell.execute_reply.started": "2022-03-30T09:14:54.529980Z"
    },
    "papermill": {
     "duration": 0.188275,
     "end_time": "2022-03-30T09:43:31.193018",
     "exception": false,
     "start_time": "2022-03-30T09:43:31.004743",
     "status": "completed"
    },
    "tags": []
   },
   "outputs": [],
   "source": [
    "from sklearn.feature_extraction.text import CountVectorizer"
   ]
  },
  {
   "cell_type": "code",
   "execution_count": 33,
   "id": "277b9ce9",
   "metadata": {
    "execution": {
     "iopub.execute_input": "2022-03-30T09:43:31.595752Z",
     "iopub.status.busy": "2022-03-30T09:43:31.570820Z",
     "iopub.status.idle": "2022-03-30T09:43:32.405990Z",
     "shell.execute_reply": "2022-03-30T09:43:32.406395Z",
     "shell.execute_reply.started": "2022-03-30T09:14:54.536496Z"
    },
    "papermill": {
     "duration": 1.031833,
     "end_time": "2022-03-30T09:43:32.406559",
     "exception": false,
     "start_time": "2022-03-30T09:43:31.374726",
     "status": "completed"
    },
    "tags": []
   },
   "outputs": [
    {
     "data": {
      "text/html": [
       "<div>\n",
       "<style scoped>\n",
       "    .dataframe tbody tr th:only-of-type {\n",
       "        vertical-align: middle;\n",
       "    }\n",
       "\n",
       "    .dataframe tbody tr th {\n",
       "        vertical-align: top;\n",
       "    }\n",
       "\n",
       "    .dataframe thead th {\n",
       "        text-align: right;\n",
       "    }\n",
       "</style>\n",
       "<table border=\"1\" class=\"dataframe\">\n",
       "  <thead>\n",
       "    <tr style=\"text-align: right;\">\n",
       "      <th></th>\n",
       "      <th>Review</th>\n",
       "      <th>count</th>\n",
       "    </tr>\n",
       "  </thead>\n",
       "  <tbody>\n",
       "    <tr>\n",
       "      <th>0</th>\n",
       "      <td>day</td>\n",
       "      <td>6201</td>\n",
       "    </tr>\n",
       "    <tr>\n",
       "      <th>1</th>\n",
       "      <td>take</td>\n",
       "      <td>6093</td>\n",
       "    </tr>\n",
       "    <tr>\n",
       "      <th>2</th>\n",
       "      <td>month</td>\n",
       "      <td>4408</td>\n",
       "    </tr>\n",
       "    <tr>\n",
       "      <th>3</th>\n",
       "      <td>year</td>\n",
       "      <td>4131</td>\n",
       "    </tr>\n",
       "    <tr>\n",
       "      <th>4</th>\n",
       "      <td>work</td>\n",
       "      <td>3951</td>\n",
       "    </tr>\n",
       "  </tbody>\n",
       "</table>\n",
       "</div>"
      ],
      "text/plain": [
       "  Review  count\n",
       "0    day   6201\n",
       "1   take   6093\n",
       "2  month   4408\n",
       "3   year   4131\n",
       "4   work   3951"
      ]
     },
     "execution_count": 33,
     "metadata": {},
     "output_type": "execute_result"
    }
   ],
   "source": [
    "def get_top_n_words(corpus, n=None):\n",
    "    vec=CountVectorizer().fit(corpus)\n",
    "    bag_of_words = vec.transform(corpus)\n",
    "    sum_words = bag_of_words.sum(axis=0)\n",
    "    words_freq = [(word, sum_words[0, idx]) for word, idx in vec.vocabulary_.items()]\n",
    "    words_freq =sorted(words_freq, key = lambda x: x[1], reverse=True)\n",
    "    return words_freq[:n]\n",
    "common_words = get_top_n_words(data['review1'], 20)\n",
    "df1 = pd.DataFrame(common_words, columns = ['Review', 'count'])\n",
    "df1.head()"
   ]
  },
  {
   "cell_type": "code",
   "execution_count": 34,
   "id": "b81ead0f",
   "metadata": {
    "execution": {
     "iopub.execute_input": "2022-03-30T09:43:32.792252Z",
     "iopub.status.busy": "2022-03-30T09:43:32.784265Z",
     "iopub.status.idle": "2022-03-30T09:43:33.071216Z",
     "shell.execute_reply": "2022-03-30T09:43:33.071628Z",
     "shell.execute_reply.started": "2022-03-30T09:14:55.405876Z"
    },
    "papermill": {
     "duration": 0.482124,
     "end_time": "2022-03-30T09:43:33.071770",
     "exception": false,
     "start_time": "2022-03-30T09:43:32.589646",
     "status": "completed"
    },
    "tags": []
   },
   "outputs": [
    {
     "data": {
      "image/png": "[encoded data removed]",
      "text/plain": [
       "<Figure size 720x432 with 1 Axes>"
      ]
     },
     "metadata": {},
     "output_type": "display_data"
    }
   ],
   "source": [
    "df1.groupby('Review').sum()['count'].sort_values(ascending=False).plot(kind='bar',color='black',figsize = (10, 6))\n",
    "xlabel = 'Top Words'\n",
    "ylabel = 'Count'\n",
    "title = 'BarChart represent the Top Words Frequency'    \n",
    "plt.show()"
   ]
  },
  {
   "cell_type": "markdown",
   "id": "c8ab554e",
   "metadata": {
    "papermill": {
     "duration": 0.305056,
     "end_time": "2022-03-30T09:43:33.653809",
     "exception": false,
     "start_time": "2022-03-30T09:43:33.348753",
     "status": "completed"
    },
    "tags": []
   },
   "source": [
    "**These are the topmost occurring words in the reviews. But instead of just seeing one word two consecutive words or three consecutive words are more helpful. They provide some meaning. The following plot shows the topmost frequent bigrams:**"
   ]
  },
  {
   "cell_type": "code",
   "execution_count": 35,
   "id": "89b54e48",
   "metadata": {
    "execution": {
     "iopub.execute_input": "2022-03-30T09:43:34.094813Z",
     "iopub.status.busy": "2022-03-30T09:43:34.094022Z",
     "iopub.status.idle": "2022-03-30T09:43:36.593475Z",
     "shell.execute_reply": "2022-03-30T09:43:36.593843Z",
     "shell.execute_reply.started": "2022-03-30T09:14:55.738995Z"
    },
    "papermill": {
     "duration": 2.727622,
     "end_time": "2022-03-30T09:43:36.594010",
     "exception": false,
     "start_time": "2022-03-30T09:43:33.866388",
     "status": "completed"
    },
    "tags": []
   },
   "outputs": [
    {
     "data": {
      "text/html": [
       "<div>\n",
       "<style scoped>\n",
       "    .dataframe tbody tr th:only-of-type {\n",
       "        vertical-align: middle;\n",
       "    }\n",
       "\n",
       "    .dataframe tbody tr th {\n",
       "        vertical-align: top;\n",
       "    }\n",
       "\n",
       "    .dataframe thead th {\n",
       "        text-align: right;\n",
       "    }\n",
       "</style>\n",
       "<table border=\"1\" class=\"dataframe\">\n",
       "  <thead>\n",
       "    <tr style=\"text-align: right;\">\n",
       "      <th></th>\n",
       "      <th>Review</th>\n",
       "      <th>Count</th>\n",
       "    </tr>\n",
       "  </thead>\n",
       "  <tbody>\n",
       "    <tr>\n",
       "      <th>0</th>\n",
       "      <td>side effect</td>\n",
       "      <td>2989</td>\n",
       "    </tr>\n",
       "    <tr>\n",
       "      <th>1</th>\n",
       "      <td>birth control</td>\n",
       "      <td>1034</td>\n",
       "    </tr>\n",
       "    <tr>\n",
       "      <th>2</th>\n",
       "      <td>feel like</td>\n",
       "      <td>583</td>\n",
       "    </tr>\n",
       "    <tr>\n",
       "      <th>3</th>\n",
       "      <td>weight gain</td>\n",
       "      <td>560</td>\n",
       "    </tr>\n",
       "    <tr>\n",
       "      <th>4</th>\n",
       "      <td>start take</td>\n",
       "      <td>542</td>\n",
       "    </tr>\n",
       "  </tbody>\n",
       "</table>\n",
       "</div>"
      ],
      "text/plain": [
       "          Review  Count\n",
       "0    side effect   2989\n",
       "1  birth control   1034\n",
       "2      feel like    583\n",
       "3    weight gain    560\n",
       "4     start take    542"
      ]
     },
     "execution_count": 35,
     "metadata": {},
     "output_type": "execute_result"
    }
   ],
   "source": [
    "def get_top_n_bigram(corpus, n=None):\n",
    "    vec = CountVectorizer(ngram_range=(2,2)).fit(corpus)\n",
    "    bag_of_words = vec.transform(corpus)\n",
    "    sum_words = bag_of_words.sum(axis=0)\n",
    "    words_freq = [(word, sum_words[0, idx]) for word, idx in vec.vocabulary_.items()]\n",
    "    words_freq =sorted(words_freq, key = lambda x: x[1], reverse=True)\n",
    "    return words_freq[:n]\n",
    "common_words2 = get_top_n_bigram(data['review1'], 30)\n",
    "df2 = pd.DataFrame(common_words2, columns=['Review', \"Count\"])\n",
    "df2.head()"
   ]
  },
  {
   "cell_type": "code",
   "execution_count": 36,
   "id": "6f2ae953",
   "metadata": {
    "execution": {
     "iopub.execute_input": "2022-03-30T09:43:36.986546Z",
     "iopub.status.busy": "2022-03-30T09:43:36.985639Z",
     "iopub.status.idle": "2022-03-30T09:43:37.350697Z",
     "shell.execute_reply": "2022-03-30T09:43:37.351120Z",
     "shell.execute_reply.started": "2022-03-30T09:14:57.881458Z"
    },
    "papermill": {
     "duration": 0.573689,
     "end_time": "2022-03-30T09:43:37.351267",
     "exception": false,
     "start_time": "2022-03-30T09:43:36.777578",
     "status": "completed"
    },
    "tags": []
   },
   "outputs": [
    {
     "data": {
      "image/png": "[encoded data removed]",
      "text/plain": [
       "<Figure size 864x432 with 1 Axes>"
      ]
     },
     "metadata": {},
     "output_type": "display_data"
    }
   ],
   "source": [
    "df2.groupby('Review').sum()['Count'].sort_values(ascending=False).plot(kind='bar',figsize=(12,6), color='black')\n",
    "xlabel = \"Bigram Words\"\n",
    "ylabel = \"Count\"\n",
    "title = \"Bar chart of Bigrams Frequency\"\n",
    "plt.show()"
   ]
  },
  {
   "cell_type": "markdown",
   "id": "b5890353",
   "metadata": {
    "papermill": {
     "duration": 0.184109,
     "end_time": "2022-03-30T09:43:37.722464",
     "exception": false,
     "start_time": "2022-03-30T09:43:37.538355",
     "status": "completed"
    },
    "tags": []
   },
   "source": [
    "**Look at the bigrams. They are somewhat phrases that make more sense. The next plot is the trigrams. Maybe that will provide us some more ideas about what people are saying in the reviews.**"
   ]
  },
  {
   "cell_type": "code",
   "execution_count": 37,
   "id": "d937d62d",
   "metadata": {
    "execution": {
     "iopub.execute_input": "2022-03-30T09:43:38.140790Z",
     "iopub.status.busy": "2022-03-30T09:43:38.104842Z",
     "iopub.status.idle": "2022-03-30T09:43:41.127964Z",
     "shell.execute_reply": "2022-03-30T09:43:41.127501Z",
     "shell.execute_reply.started": "2022-03-30T09:14:58.289004Z"
    },
    "papermill": {
     "duration": 3.219864,
     "end_time": "2022-03-30T09:43:41.128094",
     "exception": false,
     "start_time": "2022-03-30T09:43:37.908230",
     "status": "completed"
    },
    "tags": []
   },
   "outputs": [
    {
     "data": {
      "image/png": "[encoded data removed]",
      "text/plain": [
       "<Figure size 864x432 with 1 Axes>"
      ]
     },
     "metadata": {},
     "output_type": "display_data"
    }
   ],
   "source": [
    "def get_top_n_trigram(corpus, n=None):\n",
    "    vec = CountVectorizer(ngram_range=(3, 3), stop_words='english').fit(corpus)\n",
    "    bag_of_words = vec.transform(corpus)\n",
    "    sum_words = bag_of_words.sum(axis=0)\n",
    "    words_freq = [(word, sum_words[0, idx]) for word, idx in vec.vocabulary_.items()]\n",
    "    words_freq =sorted(words_freq, key = lambda x: x[1], reverse=True)\n",
    "    return words_freq[:n]\n",
    "common_words3 = get_top_n_trigram(data['review1'], 30)\n",
    "df3 = pd.DataFrame(common_words3, columns = ['Review' , 'Count'])\n",
    "df3.groupby('Review').sum()['Count'].sort_values(ascending=False).plot(kind='bar',figsize=(12,6), color='black')\n",
    "xlabel = \"Trigram Words\"\n",
    "ylabel = \"Count\"\n",
    "title = \"Bar chart of Trigrams Frequency\"\n",
    "plt.show()"
   ]
  },
  {
   "cell_type": "markdown",
   "id": "7f3325ac",
   "metadata": {
    "papermill": {
     "duration": 0.189781,
     "end_time": "2022-03-30T09:43:41.509426",
     "exception": false,
     "start_time": "2022-03-30T09:43:41.319645",
     "status": "completed"
    },
    "tags": []
   },
   "source": [
    "# **Sentiment Analysis:-**"
   ]
  },
  {
   "cell_type": "code",
   "execution_count": 38,
   "id": "c9fec010",
   "metadata": {
    "execution": {
     "iopub.execute_input": "2022-03-30T09:43:41.904906Z",
     "iopub.status.busy": "2022-03-30T09:43:41.904126Z",
     "iopub.status.idle": "2022-03-30T09:43:41.907969Z",
     "shell.execute_reply": "2022-03-30T09:43:41.908439Z",
     "shell.execute_reply.started": "2022-03-30T09:15:01.619373Z"
    },
    "papermill": {
     "duration": 0.209413,
     "end_time": "2022-03-30T09:43:41.908589",
     "exception": false,
     "start_time": "2022-03-30T09:43:41.699176",
     "status": "completed"
    },
    "tags": []
   },
   "outputs": [
    {
     "data": {
      "text/html": [
       "<div>\n",
       "<style scoped>\n",
       "    .dataframe tbody tr th:only-of-type {\n",
       "        vertical-align: middle;\n",
       "    }\n",
       "\n",
       "    .dataframe tbody tr th {\n",
       "        vertical-align: top;\n",
       "    }\n",
       "\n",
       "    .dataframe thead th {\n",
       "        text-align: right;\n",
       "    }\n",
       "</style>\n",
       "<table border=\"1\" class=\"dataframe\">\n",
       "  <thead>\n",
       "    <tr style=\"text-align: right;\">\n",
       "      <th></th>\n",
       "      <th>drugName</th>\n",
       "      <th>review</th>\n",
       "      <th>rating</th>\n",
       "      <th>review1</th>\n",
       "      <th>review_len</th>\n",
       "      <th>word_count</th>\n",
       "      <th>polarity</th>\n",
       "    </tr>\n",
       "  </thead>\n",
       "  <tbody>\n",
       "    <tr>\n",
       "      <th>0</th>\n",
       "      <td>Valsartan</td>\n",
       "      <td>\"It has no side effect, I take it in combinati...</td>\n",
       "      <td>9</td>\n",
       "      <td>side effect take combin bystol 5 mg fish oil</td>\n",
       "      <td>79</td>\n",
       "      <td>17</td>\n",
       "      <td>0.000000</td>\n",
       "    </tr>\n",
       "    <tr>\n",
       "      <th>1</th>\n",
       "      <td>Guanfacine</td>\n",
       "      <td>\"My son is halfway through his fourth week of ...</td>\n",
       "      <td>8</td>\n",
       "      <td>son halfway fourth week intuniv becam concern ...</td>\n",
       "      <td>741</td>\n",
       "      <td>141</td>\n",
       "      <td>0.237500</td>\n",
       "    </tr>\n",
       "    <tr>\n",
       "      <th>3</th>\n",
       "      <td>Ortho Evra</td>\n",
       "      <td>\"This is my first time using any form of birth...</td>\n",
       "      <td>8</td>\n",
       "      <td>first time use form birth control i039m glad w...</td>\n",
       "      <td>448</td>\n",
       "      <td>89</td>\n",
       "      <td>0.300000</td>\n",
       "    </tr>\n",
       "    <tr>\n",
       "      <th>4</th>\n",
       "      <td>Buprenorphine / naloxone</td>\n",
       "      <td>\"Suboxone has completely turned my life around...</td>\n",
       "      <td>9</td>\n",
       "      <td>suboxon complet turn life around feel healthie...</td>\n",
       "      <td>719</td>\n",
       "      <td>124</td>\n",
       "      <td>0.191667</td>\n",
       "    </tr>\n",
       "    <tr>\n",
       "      <th>5</th>\n",
       "      <td>Cialis</td>\n",
       "      <td>\"2nd day on 5mg started to work with rock hard...</td>\n",
       "      <td>2</td>\n",
       "      <td>2nd day 5mg start work rock hard erect howev h...</td>\n",
       "      <td>403</td>\n",
       "      <td>68</td>\n",
       "      <td>0.081667</td>\n",
       "    </tr>\n",
       "  </tbody>\n",
       "</table>\n",
       "</div>"
      ],
      "text/plain": [
       "                   drugName  \\\n",
       "0                 Valsartan   \n",
       "1                Guanfacine   \n",
       "3                Ortho Evra   \n",
       "4  Buprenorphine / naloxone   \n",
       "5                    Cialis   \n",
       "\n",
       "                                              review  rating  \\\n",
       "0  \"It has no side effect, I take it in combinati...       9   \n",
       "1  \"My son is halfway through his fourth week of ...       8   \n",
       "3  \"This is my first time using any form of birth...       8   \n",
       "4  \"Suboxone has completely turned my life around...       9   \n",
       "5  \"2nd day on 5mg started to work with rock hard...       2   \n",
       "\n",
       "                                             review1  review_len  word_count  \\\n",
       "0       side effect take combin bystol 5 mg fish oil          79          17   \n",
       "1  son halfway fourth week intuniv becam concern ...         741         141   \n",
       "3  first time use form birth control i039m glad w...         448          89   \n",
       "4  suboxon complet turn life around feel healthie...         719         124   \n",
       "5  2nd day 5mg start work rock hard erect howev h...         403          68   \n",
       "\n",
       "   polarity  \n",
       "0  0.000000  \n",
       "1  0.237500  \n",
       "3  0.300000  \n",
       "4  0.191667  \n",
       "5  0.081667  "
      ]
     },
     "execution_count": 38,
     "metadata": {},
     "output_type": "execute_result"
    }
   ],
   "source": [
    "data.head()"
   ]
  },
  {
   "cell_type": "code",
   "execution_count": 39,
   "id": "baf2a4fe",
   "metadata": {
    "execution": {
     "iopub.execute_input": "2022-03-30T09:43:42.295613Z",
     "iopub.status.busy": "2022-03-30T09:43:42.294774Z",
     "iopub.status.idle": "2022-03-30T09:43:42.300117Z",
     "shell.execute_reply": "2022-03-30T09:43:42.299667Z",
     "shell.execute_reply.started": "2022-03-30T09:15:01.637186Z"
    },
    "papermill": {
     "duration": 0.201587,
     "end_time": "2022-03-30T09:43:42.300230",
     "exception": false,
     "start_time": "2022-03-30T09:43:42.098643",
     "status": "completed"
    },
    "tags": []
   },
   "outputs": [
    {
     "data": {
      "text/plain": [
       "count    10000.000000\n",
       "mean         6.950700\n",
       "std          3.268813\n",
       "min          1.000000\n",
       "25%          4.000000\n",
       "50%          8.000000\n",
       "75%         10.000000\n",
       "max         10.000000\n",
       "Name: rating, dtype: float64"
      ]
     },
     "execution_count": 39,
     "metadata": {},
     "output_type": "execute_result"
    }
   ],
   "source": [
    "data.rating.describe()"
   ]
  },
  {
   "cell_type": "code",
   "execution_count": 40,
   "id": "c2babeef",
   "metadata": {
    "execution": {
     "iopub.execute_input": "2022-03-30T09:43:42.691837Z",
     "iopub.status.busy": "2022-03-30T09:43:42.690879Z",
     "iopub.status.idle": "2022-03-30T09:43:42.694964Z",
     "shell.execute_reply": "2022-03-30T09:43:42.694550Z",
     "shell.execute_reply.started": "2022-03-30T09:15:01.654436Z"
    },
    "papermill": {
     "duration": 0.200738,
     "end_time": "2022-03-30T09:43:42.695077",
     "exception": false,
     "start_time": "2022-03-30T09:43:42.494339",
     "status": "completed"
    },
    "tags": []
   },
   "outputs": [
    {
     "data": {
      "text/plain": [
       "10    3095\n",
       "9     1716\n",
       "1     1307\n",
       "8     1141\n",
       "7      575\n",
       "5      530\n",
       "2      455\n",
       "3      435\n",
       "6      402\n",
       "4      344\n",
       "Name: rating, dtype: int64"
      ]
     },
     "execution_count": 40,
     "metadata": {},
     "output_type": "execute_result"
    }
   ],
   "source": [
    "data.rating.value_counts()"
   ]
  },
  {
   "cell_type": "code",
   "execution_count": 41,
   "id": "22552950",
   "metadata": {
    "execution": {
     "iopub.execute_input": "2022-03-30T09:43:43.081870Z",
     "iopub.status.busy": "2022-03-30T09:43:43.081092Z",
     "iopub.status.idle": "2022-03-30T09:43:43.095791Z",
     "shell.execute_reply": "2022-03-30T09:43:43.095389Z",
     "shell.execute_reply.started": "2022-03-30T09:15:01.671867Z"
    },
    "papermill": {
     "duration": 0.210054,
     "end_time": "2022-03-30T09:43:43.095901",
     "exception": false,
     "start_time": "2022-03-30T09:43:42.885847",
     "status": "completed"
    },
    "tags": []
   },
   "outputs": [
    {
     "data": {
      "text/html": [
       "<div>\n",
       "<style scoped>\n",
       "    .dataframe tbody tr th:only-of-type {\n",
       "        vertical-align: middle;\n",
       "    }\n",
       "\n",
       "    .dataframe tbody tr th {\n",
       "        vertical-align: top;\n",
       "    }\n",
       "\n",
       "    .dataframe thead th {\n",
       "        text-align: right;\n",
       "    }\n",
       "</style>\n",
       "<table border=\"1\" class=\"dataframe\">\n",
       "  <thead>\n",
       "    <tr style=\"text-align: right;\">\n",
       "      <th></th>\n",
       "      <th>drugName</th>\n",
       "      <th>review</th>\n",
       "      <th>rating</th>\n",
       "      <th>review1</th>\n",
       "      <th>review_len</th>\n",
       "      <th>word_count</th>\n",
       "      <th>polarity</th>\n",
       "      <th>Positively Rated</th>\n",
       "    </tr>\n",
       "  </thead>\n",
       "  <tbody>\n",
       "    <tr>\n",
       "      <th>0</th>\n",
       "      <td>Valsartan</td>\n",
       "      <td>\"It has no side effect, I take it in combinati...</td>\n",
       "      <td>9</td>\n",
       "      <td>side effect take combin bystol 5 mg fish oil</td>\n",
       "      <td>79</td>\n",
       "      <td>17</td>\n",
       "      <td>0.000000</td>\n",
       "      <td>1</td>\n",
       "    </tr>\n",
       "    <tr>\n",
       "      <th>1</th>\n",
       "      <td>Guanfacine</td>\n",
       "      <td>\"My son is halfway through his fourth week of ...</td>\n",
       "      <td>8</td>\n",
       "      <td>son halfway fourth week intuniv becam concern ...</td>\n",
       "      <td>741</td>\n",
       "      <td>141</td>\n",
       "      <td>0.237500</td>\n",
       "      <td>1</td>\n",
       "    </tr>\n",
       "    <tr>\n",
       "      <th>3</th>\n",
       "      <td>Ortho Evra</td>\n",
       "      <td>\"This is my first time using any form of birth...</td>\n",
       "      <td>8</td>\n",
       "      <td>first time use form birth control i039m glad w...</td>\n",
       "      <td>448</td>\n",
       "      <td>89</td>\n",
       "      <td>0.300000</td>\n",
       "      <td>1</td>\n",
       "    </tr>\n",
       "    <tr>\n",
       "      <th>4</th>\n",
       "      <td>Buprenorphine / naloxone</td>\n",
       "      <td>\"Suboxone has completely turned my life around...</td>\n",
       "      <td>9</td>\n",
       "      <td>suboxon complet turn life around feel healthie...</td>\n",
       "      <td>719</td>\n",
       "      <td>124</td>\n",
       "      <td>0.191667</td>\n",
       "      <td>1</td>\n",
       "    </tr>\n",
       "    <tr>\n",
       "      <th>5</th>\n",
       "      <td>Cialis</td>\n",
       "      <td>\"2nd day on 5mg started to work with rock hard...</td>\n",
       "      <td>2</td>\n",
       "      <td>2nd day 5mg start work rock hard erect howev h...</td>\n",
       "      <td>403</td>\n",
       "      <td>68</td>\n",
       "      <td>0.081667</td>\n",
       "      <td>0</td>\n",
       "    </tr>\n",
       "    <tr>\n",
       "      <th>6</th>\n",
       "      <td>Levonorgestrel</td>\n",
       "      <td>\"He pulled out, but he cummed a bit in me. I t...</td>\n",
       "      <td>1</td>\n",
       "      <td>pull cum bit took plan b 26 hour later took pr...</td>\n",
       "      <td>142</td>\n",
       "      <td>30</td>\n",
       "      <td>0.111111</td>\n",
       "      <td>0</td>\n",
       "    </tr>\n",
       "    <tr>\n",
       "      <th>7</th>\n",
       "      <td>Aripiprazole</td>\n",
       "      <td>\"Abilify changed my life. There is hope. I was...</td>\n",
       "      <td>10</td>\n",
       "      <td>abilifi chang life hope zoloft clonidin first ...</td>\n",
       "      <td>733</td>\n",
       "      <td>146</td>\n",
       "      <td>0.036742</td>\n",
       "      <td>1</td>\n",
       "    </tr>\n",
       "    <tr>\n",
       "      <th>8</th>\n",
       "      <td>Keppra</td>\n",
       "      <td>\" I Ve had  nothing but problems with the Kepp...</td>\n",
       "      <td>1</td>\n",
       "      <td>noth problem keppera constant shake arm amp le...</td>\n",
       "      <td>193</td>\n",
       "      <td>35</td>\n",
       "      <td>0.200000</td>\n",
       "      <td>0</td>\n",
       "    </tr>\n",
       "    <tr>\n",
       "      <th>9</th>\n",
       "      <td>Ethinyl estradiol / levonorgestrel</td>\n",
       "      <td>\"I had been on the pill for many years. When m...</td>\n",
       "      <td>8</td>\n",
       "      <td>pill mani year doctor chang rx chateal effect ...</td>\n",
       "      <td>737</td>\n",
       "      <td>142</td>\n",
       "      <td>-0.085185</td>\n",
       "      <td>1</td>\n",
       "    </tr>\n",
       "    <tr>\n",
       "      <th>10</th>\n",
       "      <td>Topiramate</td>\n",
       "      <td>\"I have been on this medication almost two wee...</td>\n",
       "      <td>9</td>\n",
       "      <td>medic almost two week start 25mg work way 100m...</td>\n",
       "      <td>730</td>\n",
       "      <td>148</td>\n",
       "      <td>0.211111</td>\n",
       "      <td>1</td>\n",
       "    </tr>\n",
       "  </tbody>\n",
       "</table>\n",
       "</div>"
      ],
      "text/plain": [
       "                              drugName  \\\n",
       "0                            Valsartan   \n",
       "1                           Guanfacine   \n",
       "3                           Ortho Evra   \n",
       "4             Buprenorphine / naloxone   \n",
       "5                               Cialis   \n",
       "6                       Levonorgestrel   \n",
       "7                         Aripiprazole   \n",
       "8                               Keppra   \n",
       "9   Ethinyl estradiol / levonorgestrel   \n",
       "10                          Topiramate   \n",
       "\n",
       "                                               review  rating  \\\n",
       "0   \"It has no side effect, I take it in combinati...       9   \n",
       "1   \"My son is halfway through his fourth week of ...       8   \n",
       "3   \"This is my first time using any form of birth...       8   \n",
       "4   \"Suboxone has completely turned my life around...       9   \n",
       "5   \"2nd day on 5mg started to work with rock hard...       2   \n",
       "6   \"He pulled out, but he cummed a bit in me. I t...       1   \n",
       "7   \"Abilify changed my life. There is hope. I was...      10   \n",
       "8   \" I Ve had  nothing but problems with the Kepp...       1   \n",
       "9   \"I had been on the pill for many years. When m...       8   \n",
       "10  \"I have been on this medication almost two wee...       9   \n",
       "\n",
       "                                              review1  review_len  word_count  \\\n",
       "0        side effect take combin bystol 5 mg fish oil          79          17   \n",
       "1   son halfway fourth week intuniv becam concern ...         741         141   \n",
       "3   first time use form birth control i039m glad w...         448          89   \n",
       "4   suboxon complet turn life around feel healthie...         719         124   \n",
       "5   2nd day 5mg start work rock hard erect howev h...         403          68   \n",
       "6   pull cum bit took plan b 26 hour later took pr...         142          30   \n",
       "7   abilifi chang life hope zoloft clonidin first ...         733         146   \n",
       "8   noth problem keppera constant shake arm amp le...         193          35   \n",
       "9   pill mani year doctor chang rx chateal effect ...         737         142   \n",
       "10  medic almost two week start 25mg work way 100m...         730         148   \n",
       "\n",
       "    polarity  Positively Rated  \n",
       "0   0.000000                 1  \n",
       "1   0.237500                 1  \n",
       "3   0.300000                 1  \n",
       "4   0.191667                 1  \n",
       "5   0.081667                 0  \n",
       "6   0.111111                 0  \n",
       "7   0.036742                 1  \n",
       "8   0.200000                 0  \n",
       "9  -0.085185                 1  \n",
       "10  0.211111                 1  "
      ]
     },
     "execution_count": 41,
     "metadata": {},
     "output_type": "execute_result"
    }
   ],
   "source": [
    "# Remove any Neutral ratings equal to 3 : \n",
    "data = data[data['rating'] != 3]\n",
    "data['Positively Rated'] = np.where(data['rating'] > 3, 1, 0)\n",
    "data.head(10)"
   ]
  },
  {
   "cell_type": "code",
   "execution_count": 42,
   "id": "e2a7002d",
   "metadata": {
    "execution": {
     "iopub.execute_input": "2022-03-30T09:43:43.485659Z",
     "iopub.status.busy": "2022-03-30T09:43:43.484863Z",
     "iopub.status.idle": "2022-03-30T09:43:43.487527Z",
     "shell.execute_reply": "2022-03-30T09:43:43.487949Z",
     "shell.execute_reply.started": "2022-03-30T09:15:01.709584Z"
    },
    "papermill": {
     "duration": 0.197987,
     "end_time": "2022-03-30T09:43:43.488079",
     "exception": false,
     "start_time": "2022-03-30T09:43:43.290092",
     "status": "completed"
    },
    "tags": []
   },
   "outputs": [
    {
     "data": {
      "text/plain": [
       "0.8157867224255096"
      ]
     },
     "execution_count": 42,
     "metadata": {},
     "output_type": "execute_result"
    }
   ],
   "source": [
    "data['Positively Rated'].mean()"
   ]
  },
  {
   "cell_type": "code",
   "execution_count": 43,
   "id": "d313faaa",
   "metadata": {
    "execution": {
     "iopub.execute_input": "2022-03-30T09:43:43.874801Z",
     "iopub.status.busy": "2022-03-30T09:43:43.873759Z",
     "iopub.status.idle": "2022-03-30T09:43:43.878404Z",
     "shell.execute_reply": "2022-03-30T09:43:43.877965Z",
     "shell.execute_reply.started": "2022-03-30T09:15:01.727159Z"
    },
    "papermill": {
     "duration": 0.200507,
     "end_time": "2022-03-30T09:43:43.878510",
     "exception": false,
     "start_time": "2022-03-30T09:43:43.678003",
     "status": "completed"
    },
    "tags": []
   },
   "outputs": [],
   "source": [
    "from sklearn.model_selection import train_test_split\n",
    "X_train, X_test, y_train, y_test = train_test_split(data['review1'], data['Positively Rated'], random_state = 0)"
   ]
  },
  {
   "cell_type": "code",
   "execution_count": 44,
   "id": "bf4810f8",
   "metadata": {
    "execution": {
     "iopub.execute_input": "2022-03-30T09:43:44.372567Z",
     "iopub.status.busy": "2022-03-30T09:43:44.371642Z",
     "iopub.status.idle": "2022-03-30T09:43:44.375402Z",
     "shell.execute_reply": "2022-03-30T09:43:44.373283Z",
     "shell.execute_reply.started": "2022-03-30T09:15:01.747521Z"
    },
    "papermill": {
     "duration": 0.304976,
     "end_time": "2022-03-30T09:43:44.375566",
     "exception": false,
     "start_time": "2022-03-30T09:43:44.070590",
     "status": "completed"
    },
    "tags": []
   },
   "outputs": [
    {
     "name": "stdout",
     "output_type": "stream",
     "text": [
      "X_train first entry:\n",
      "\n",
      " zoloft save life it039 like wake lifelong nightmar lifetim panic attack stress anxieti percept 039normal039 still feel normal stress anxieti ration caus car broke lost job etc there039 feel quit like feel control life self\n",
      "\n",
      "\n",
      "X_train shape:  (7173,)\n"
     ]
    }
   ],
   "source": [
    "print('X_train first entry:\\n\\n', X_train.iloc[0])\n",
    "print('\\n\\nX_train shape: ', X_train.shape)"
   ]
  },
  {
   "cell_type": "markdown",
   "id": "aa3041da",
   "metadata": {
    "papermill": {
     "duration": 0.215061,
     "end_time": "2022-03-30T09:43:44.921151",
     "exception": false,
     "start_time": "2022-03-30T09:43:44.706090",
     "status": "completed"
    },
    "tags": []
   },
   "source": [
    "# **CountVectorizer:-**"
   ]
  },
  {
   "cell_type": "code",
   "execution_count": 45,
   "id": "a3f98294",
   "metadata": {
    "execution": {
     "iopub.execute_input": "2022-03-30T09:43:45.336718Z",
     "iopub.status.busy": "2022-03-30T09:43:45.326439Z",
     "iopub.status.idle": "2022-03-30T09:43:45.619278Z",
     "shell.execute_reply": "2022-03-30T09:43:45.619685Z",
     "shell.execute_reply.started": "2022-03-30T09:15:01.766886Z"
    },
    "papermill": {
     "duration": 0.507045,
     "end_time": "2022-03-30T09:43:45.619839",
     "exception": false,
     "start_time": "2022-03-30T09:43:45.112794",
     "status": "completed"
    },
    "tags": []
   },
   "outputs": [],
   "source": [
    "from sklearn.feature_extraction.text import CountVectorizer\n",
    "# fit the countvectorizer to the training data: \n",
    "vect = CountVectorizer().fit(X_train)"
   ]
  },
  {
   "cell_type": "code",
   "execution_count": 46,
   "id": "0d2de992",
   "metadata": {
    "execution": {
     "iopub.execute_input": "2022-03-30T09:43:46.006639Z",
     "iopub.status.busy": "2022-03-30T09:43:46.005766Z",
     "iopub.status.idle": "2022-03-30T09:43:46.030126Z",
     "shell.execute_reply": "2022-03-30T09:43:46.030528Z",
     "shell.execute_reply.started": "2022-03-30T09:15:02.111326Z"
    },
    "papermill": {
     "duration": 0.219397,
     "end_time": "2022-03-30T09:43:46.030657",
     "exception": false,
     "start_time": "2022-03-30T09:43:45.811260",
     "status": "completed"
    },
    "tags": []
   },
   "outputs": [
    {
     "name": "stderr",
     "output_type": "stream",
     "text": [
      "/opt/conda/lib/python3.7/site-packages/sklearn/utils/deprecation.py:87: FutureWarning: Function get_feature_names is deprecated; get_feature_names is deprecated in 1.0 and will be removed in 1.2. Please use get_feature_names_out instead.\n",
      "  warnings.warn(msg, category=FutureWarning)\n"
     ]
    },
    {
     "data": {
      "text/plain": [
       "['00',\n",
       " '0025',\n",
       " '003',\n",
       " '005',\n",
       " '01',\n",
       " '010',\n",
       " '010816',\n",
       " '02',\n",
       " '025',\n",
       " '025mg',\n",
       " '03',\n",
       " '039',\n",
       " '03909',\n",
       " '03914',\n",
       " '03916',\n",
       " '039accident039',\n",
       " '039brain',\n",
       " '039cure039',\n",
       " '039cured039',\n",
       " '039fog039',\n",
       " '039high039',\n",
       " '039it',\n",
       " '039lutera039',\n",
       " '039normal039',\n",
       " '039pco',\n",
       " '039ve',\n",
       " '05',\n",
       " '05mg',\n",
       " '06',\n",
       " '07',\n",
       " '08',\n",
       " '09',\n",
       " '10',\n",
       " '100',\n",
       " '1000',\n",
       " '10000',\n",
       " '100000',\n",
       " '100039',\n",
       " '1000mg',\n",
       " '1000x',\n",
       " '100lb',\n",
       " '100mcg',\n",
       " '100mg',\n",
       " '100pm',\n",
       " '100x',\n",
       " '101',\n",
       " '1010',\n",
       " '1011',\n",
       " '1012',\n",
       " '1015',\n",
       " '102',\n",
       " '1020',\n",
       " '102717',\n",
       " '103',\n",
       " '1030',\n",
       " '1030am',\n",
       " '1030pm',\n",
       " '10325',\n",
       " '104',\n",
       " '1040',\n",
       " '10413',\n",
       " '105',\n",
       " '10am',\n",
       " '10day',\n",
       " '10kg',\n",
       " '10lb',\n",
       " '10mg',\n",
       " '10min',\n",
       " '10oz',\n",
       " '10pm',\n",
       " '10th',\n",
       " '10x',\n",
       " '10yr',\n",
       " '11',\n",
       " '110',\n",
       " '1100',\n",
       " '1100pm',\n",
       " '110115',\n",
       " '110lb',\n",
       " '1114',\n",
       " '112',\n",
       " '1125mg',\n",
       " '113',\n",
       " '1130pm',\n",
       " '114',\n",
       " '11470',\n",
       " '115',\n",
       " '11570',\n",
       " '116',\n",
       " '117',\n",
       " '117lb',\n",
       " '118',\n",
       " '11915',\n",
       " '11pm',\n",
       " '11th',\n",
       " '12',\n",
       " '120',\n",
       " '1200',\n",
       " '1200mg',\n",
       " '120lb',\n",
       " '120mg',\n",
       " '1214',\n",
       " '1215',\n",
       " '1218',\n",
       " '1230',\n",
       " '123lb',\n",
       " '125',\n",
       " '125mcg',\n",
       " '125mg',\n",
       " '126',\n",
       " '126pm',\n",
       " '127',\n",
       " '128',\n",
       " '12am',\n",
       " '12hr',\n",
       " '12lb',\n",
       " '12mg',\n",
       " '12pm',\n",
       " '12th',\n",
       " '12yr',\n",
       " '13',\n",
       " '130',\n",
       " '130lb',\n",
       " '1314',\n",
       " '132',\n",
       " '135',\n",
       " '135lb',\n",
       " '137',\n",
       " '13lb',\n",
       " '13th',\n",
       " '14',\n",
       " '140',\n",
       " '1400',\n",
       " '14090',\n",
       " '1414',\n",
       " '142',\n",
       " '145',\n",
       " '145100',\n",
       " '145lb',\n",
       " '145mg',\n",
       " '148',\n",
       " '14th',\n",
       " '15',\n",
       " '150',\n",
       " '1500',\n",
       " '1500mg',\n",
       " '150200mg',\n",
       " '15095',\n",
       " '150lb',\n",
       " '150mcg',\n",
       " '150mg',\n",
       " '152',\n",
       " '1520',\n",
       " '1530',\n",
       " '154',\n",
       " '155',\n",
       " '156mg',\n",
       " '158',\n",
       " '15lb',\n",
       " '15mg',\n",
       " '15min',\n",
       " '15month',\n",
       " '15th',\n",
       " '15yr',\n",
       " '16',\n",
       " '160',\n",
       " '1600',\n",
       " '160100',\n",
       " '16090',\n",
       " '160lb',\n",
       " '160mg',\n",
       " '1618',\n",
       " '165',\n",
       " '166',\n",
       " '168',\n",
       " '16mg',\n",
       " '16oz',\n",
       " '16th',\n",
       " '17',\n",
       " '170',\n",
       " '1700',\n",
       " '172',\n",
       " '174',\n",
       " '175',\n",
       " '1750',\n",
       " '175lb',\n",
       " '176',\n",
       " '178',\n",
       " '17th',\n",
       " '18',\n",
       " '180',\n",
       " '1800mg',\n",
       " '180100',\n",
       " '180deg',\n",
       " '180lb',\n",
       " '182',\n",
       " '1820',\n",
       " '183',\n",
       " '184',\n",
       " '185',\n",
       " '188lb',\n",
       " '18mg',\n",
       " '18th',\n",
       " '19',\n",
       " '190',\n",
       " '194',\n",
       " '195',\n",
       " '196',\n",
       " '1970039',\n",
       " '1975',\n",
       " '198',\n",
       " '1985',\n",
       " '1987',\n",
       " '1989',\n",
       " '1990',\n",
       " '1992',\n",
       " '1993',\n",
       " '1994',\n",
       " '1995',\n",
       " '1996',\n",
       " '1997',\n",
       " '1999',\n",
       " '19th',\n",
       " '1am',\n",
       " '1day',\n",
       " '1mg',\n",
       " '1mo',\n",
       " '1month',\n",
       " '1pm',\n",
       " '1quot',\n",
       " '1st',\n",
       " '1wk',\n",
       " '1x',\n",
       " '20',\n",
       " '200',\n",
       " '2000',\n",
       " '20000',\n",
       " '200039',\n",
       " '2000mg',\n",
       " '2000mgday',\n",
       " '2001',\n",
       " '2002',\n",
       " '2003',\n",
       " '20039',\n",
       " '2004',\n",
       " '2005',\n",
       " '2006',\n",
       " '2007',\n",
       " '2008',\n",
       " '2009',\n",
       " '200lb',\n",
       " '200mg',\n",
       " '2010',\n",
       " '2011',\n",
       " '2012',\n",
       " '2013',\n",
       " '2014',\n",
       " '2015',\n",
       " '2016',\n",
       " '2017',\n",
       " '2018',\n",
       " '2025',\n",
       " '203',\n",
       " '2030',\n",
       " '2039',\n",
       " '2040',\n",
       " '205',\n",
       " '206',\n",
       " '207',\n",
       " '208',\n",
       " '209',\n",
       " '20lb',\n",
       " '20mg',\n",
       " '20min',\n",
       " '20th',\n",
       " '21',\n",
       " '210',\n",
       " '210lb',\n",
       " '212',\n",
       " '213',\n",
       " '215',\n",
       " '218',\n",
       " '21lb',\n",
       " '21st',\n",
       " '22',\n",
       " '220',\n",
       " '220lb',\n",
       " '224',\n",
       " '225',\n",
       " '225mg',\n",
       " '226',\n",
       " '227',\n",
       " '22lb',\n",
       " '22nd',\n",
       " '23',\n",
       " '230',\n",
       " '230am',\n",
       " '2326lb',\n",
       " '233',\n",
       " '235',\n",
       " '239lb',\n",
       " '23rd',\n",
       " '23x',\n",
       " '24',\n",
       " '240',\n",
       " '2400',\n",
       " '240lb',\n",
       " '2417',\n",
       " '243lb',\n",
       " '245',\n",
       " '247',\n",
       " '248',\n",
       " '24hour',\n",
       " '24hr',\n",
       " '24mcg',\n",
       " '24mg',\n",
       " '24th',\n",
       " '25',\n",
       " '250',\n",
       " '2500',\n",
       " '250lb',\n",
       " '250mg',\n",
       " '251',\n",
       " '2530',\n",
       " '2550',\n",
       " '259',\n",
       " '25lb',\n",
       " '25mg',\n",
       " '25th',\n",
       " '25yr',\n",
       " '26',\n",
       " '262',\n",
       " '263',\n",
       " '264',\n",
       " '265',\n",
       " '26lb',\n",
       " '26th',\n",
       " '27',\n",
       " '270',\n",
       " '270417',\n",
       " '270lb',\n",
       " '274',\n",
       " '275',\n",
       " '278',\n",
       " '27th',\n",
       " '28',\n",
       " '283',\n",
       " '286',\n",
       " '288',\n",
       " '289',\n",
       " '28lb',\n",
       " '28th',\n",
       " '29',\n",
       " '290',\n",
       " '290mg',\n",
       " '295lb',\n",
       " '296',\n",
       " '29th',\n",
       " '2am',\n",
       " '2hr',\n",
       " '2lb',\n",
       " '2mg',\n",
       " '2month',\n",
       " '2nbspranitidin',\n",
       " '2nd',\n",
       " '2pm',\n",
       " '2week',\n",
       " '2x',\n",
       " '2xdaili',\n",
       " '2xday',\n",
       " '2yr',\n",
       " '30',\n",
       " '300',\n",
       " '3000',\n",
       " '300039',\n",
       " '30039',\n",
       " '300lb',\n",
       " '300mg',\n",
       " '300pm',\n",
       " '302',\n",
       " '3040',\n",
       " '3045',\n",
       " '3049lb',\n",
       " '309',\n",
       " '30day',\n",
       " '30lb',\n",
       " '30mg',\n",
       " '30min',\n",
       " '30minut',\n",
       " '30th',\n",
       " '30yr',\n",
       " '31',\n",
       " '310',\n",
       " '31st',\n",
       " '32',\n",
       " '320',\n",
       " '32317',\n",
       " '325',\n",
       " '328',\n",
       " '32oz',\n",
       " '33',\n",
       " '330',\n",
       " '33lb',\n",
       " '34',\n",
       " '345',\n",
       " '34am',\n",
       " '34c',\n",
       " '35',\n",
       " '350',\n",
       " '3500',\n",
       " '35000',\n",
       " '350mg',\n",
       " '3530lb',\n",
       " '3540',\n",
       " '35mg',\n",
       " '36',\n",
       " '363',\n",
       " '365',\n",
       " '36mg',\n",
       " '37',\n",
       " '375',\n",
       " '375mg',\n",
       " '38',\n",
       " '38000',\n",
       " '39',\n",
       " '3am',\n",
       " '3day',\n",
       " '3hr',\n",
       " '3lb',\n",
       " '3mg',\n",
       " '3month',\n",
       " '3pm',\n",
       " '3rd',\n",
       " '3x',\n",
       " '3x039',\n",
       " '3xday',\n",
       " '3year',\n",
       " '3yr',\n",
       " '40',\n",
       " '400',\n",
       " '40039',\n",
       " '400mg',\n",
       " '403911quot',\n",
       " '4045',\n",
       " '4050',\n",
       " '40lb',\n",
       " '40mg',\n",
       " '40mgday',\n",
       " '40min',\n",
       " '41',\n",
       " '412',\n",
       " '415am',\n",
       " '42',\n",
       " '4200mg',\n",
       " '43',\n",
       " '430',\n",
       " '430pm',\n",
       " '44',\n",
       " '440',\n",
       " '45',\n",
       " '450',\n",
       " '450mg',\n",
       " '45km',\n",
       " '45lb',\n",
       " '45mg',\n",
       " '45min',\n",
       " '46',\n",
       " '47',\n",
       " '474',\n",
       " '48',\n",
       " '481lb',\n",
       " '48hr',\n",
       " '49',\n",
       " '49lb',\n",
       " '4am',\n",
       " '4day',\n",
       " '4ish',\n",
       " '4lb',\n",
       " '4mg',\n",
       " '4pm',\n",
       " '4quot',\n",
       " '4th',\n",
       " '4x',\n",
       " '4yr',\n",
       " '50',\n",
       " '500',\n",
       " '50039',\n",
       " '500mg',\n",
       " '500mgday',\n",
       " '5039',\n",
       " '50391',\n",
       " '503910',\n",
       " '503911',\n",
       " '50391quot',\n",
       " '50393',\n",
       " '50393quot',\n",
       " '50394',\n",
       " '50394quot',\n",
       " '50395',\n",
       " '50395quot',\n",
       " '50396',\n",
       " '50396quot',\n",
       " '50397',\n",
       " '50397039039',\n",
       " '50397quot',\n",
       " '50398',\n",
       " '50398quot',\n",
       " '50399quot',\n",
       " '5050',\n",
       " '50g',\n",
       " '50lb',\n",
       " '50mg',\n",
       " '51',\n",
       " '510',\n",
       " '52',\n",
       " '520',\n",
       " '53',\n",
       " '530',\n",
       " '5325',\n",
       " '54',\n",
       " '544',\n",
       " '54mg',\n",
       " '55',\n",
       " '5500',\n",
       " '56',\n",
       " '57',\n",
       " '58',\n",
       " '59',\n",
       " '5am',\n",
       " '5day',\n",
       " '5ft',\n",
       " '5g',\n",
       " '5k',\n",
       " '5kg',\n",
       " '5kg039',\n",
       " '5lb',\n",
       " '5mcg',\n",
       " '5mg',\n",
       " '5ml',\n",
       " '5pm',\n",
       " '5quot5',\n",
       " '5quot6',\n",
       " '5rsquo8rdquo',\n",
       " '5th',\n",
       " '5x',\n",
       " '5yr',\n",
       " '60',\n",
       " '600',\n",
       " '60039',\n",
       " '600mg',\n",
       " '6070',\n",
       " '60lb',\n",
       " '60mg',\n",
       " '61',\n",
       " '610',\n",
       " '612',\n",
       " '62',\n",
       " '625',\n",
       " '63',\n",
       " '630',\n",
       " '630am',\n",
       " '630pm',\n",
       " '64',\n",
       " '65',\n",
       " '66',\n",
       " '67',\n",
       " '67am',\n",
       " '68',\n",
       " '69',\n",
       " '6am',\n",
       " '6cm',\n",
       " '6day',\n",
       " '6lb',\n",
       " '6mg',\n",
       " '6month',\n",
       " '6mth',\n",
       " '6pm',\n",
       " '6th',\n",
       " '6wk',\n",
       " '6x',\n",
       " '6yr',\n",
       " '70',\n",
       " '700',\n",
       " '7000',\n",
       " '70lb',\n",
       " '70mg',\n",
       " '71',\n",
       " '710',\n",
       " '72',\n",
       " '72mg',\n",
       " '73',\n",
       " '730',\n",
       " '730pm',\n",
       " '74',\n",
       " '74mg',\n",
       " '75',\n",
       " '750',\n",
       " '7500',\n",
       " '750mg',\n",
       " '7546mg',\n",
       " '7580',\n",
       " '75mcg',\n",
       " '75mg',\n",
       " '76',\n",
       " '777',\n",
       " '78',\n",
       " '79',\n",
       " '7am',\n",
       " '7day',\n",
       " '7hr',\n",
       " '7lb',\n",
       " '7month',\n",
       " '7pm',\n",
       " '7th',\n",
       " '80',\n",
       " '800',\n",
       " '80039',\n",
       " '800mg',\n",
       " '800pm',\n",
       " '80mg',\n",
       " '810',\n",
       " '812',\n",
       " '82',\n",
       " '82015',\n",
       " '83',\n",
       " '830',\n",
       " '830pm',\n",
       " '84',\n",
       " '85',\n",
       " '850',\n",
       " '86',\n",
       " '875',\n",
       " '88',\n",
       " '89',\n",
       " '8am',\n",
       " '8hr',\n",
       " '8lb',\n",
       " '8mg',\n",
       " '8month',\n",
       " '8mth',\n",
       " '8oz',\n",
       " '8pm',\n",
       " '8quot',\n",
       " '8th',\n",
       " '90',\n",
       " '900',\n",
       " '90039',\n",
       " '900mg',\n",
       " '90mg',\n",
       " '91',\n",
       " '910',\n",
       " '911',\n",
       " '91115',\n",
       " '912',\n",
       " '92',\n",
       " '92413',\n",
       " '93',\n",
       " '930',\n",
       " '930pm',\n",
       " '94',\n",
       " '945am',\n",
       " '95',\n",
       " '96',\n",
       " '97',\n",
       " '98',\n",
       " '99',\n",
       " '999',\n",
       " '9am',\n",
       " '9lb',\n",
       " '9mg',\n",
       " '9pm',\n",
       " '9th',\n",
       " 'a039',\n",
       " 'a1c',\n",
       " 'aa',\n",
       " 'aamp',\n",
       " 'aampd',\n",
       " 'ab',\n",
       " 'abat',\n",
       " 'abcess',\n",
       " 'abdomen',\n",
       " 'abdomin',\n",
       " 'abil',\n",
       " 'abilifi',\n",
       " 'abl',\n",
       " 'ablat',\n",
       " 'abnorm',\n",
       " 'abort',\n",
       " 'abreva',\n",
       " 'abrieva',\n",
       " 'abruptli',\n",
       " 'abscess',\n",
       " 'absent',\n",
       " 'absolut',\n",
       " 'absorb',\n",
       " 'absorpt',\n",
       " 'abt',\n",
       " 'abund',\n",
       " 'abus',\n",
       " 'abut',\n",
       " 'abyss',\n",
       " 'ac',\n",
       " 'acanya',\n",
       " 'accept',\n",
       " 'access',\n",
       " 'accid',\n",
       " 'accident',\n",
       " 'accompani',\n",
       " 'accomplish',\n",
       " 'accord',\n",
       " 'account',\n",
       " 'accur',\n",
       " 'accustom',\n",
       " 'accutan',\n",
       " 'acetaminophen',\n",
       " 'ach',\n",
       " 'achey',\n",
       " 'achi',\n",
       " 'achiev',\n",
       " 'achil',\n",
       " 'acid',\n",
       " 'aciphex',\n",
       " 'acknowledg',\n",
       " 'acn',\n",
       " 'acnepron',\n",
       " 'acquir',\n",
       " 'across',\n",
       " 'act',\n",
       " 'actavi',\n",
       " 'action',\n",
       " 'actiq',\n",
       " 'activ',\n",
       " 'acto',\n",
       " 'actual',\n",
       " 'acupunctur',\n",
       " 'acut',\n",
       " 'acutan',\n",
       " 'acyclovir',\n",
       " 'aczon',\n",
       " 'ad',\n",
       " 'adapalen',\n",
       " 'adapt',\n",
       " 'adbomen',\n",
       " 'add',\n",
       " 'addadhd',\n",
       " 'addback',\n",
       " 'adder',\n",
       " 'adderal',\n",
       " 'adderr',\n",
       " 'addict',\n",
       " 'addit',\n",
       " 'address',\n",
       " 'adequ',\n",
       " 'adhd',\n",
       " 'adher',\n",
       " 'adhes',\n",
       " 'adipex',\n",
       " 'adipexp',\n",
       " 'adjunct',\n",
       " 'adjust',\n",
       " 'administ',\n",
       " 'administr',\n",
       " 'admit',\n",
       " 'adolesc',\n",
       " 'adopt',\n",
       " 'adrenalin',\n",
       " 'adult',\n",
       " 'adulthood',\n",
       " 'advair',\n",
       " 'advanc',\n",
       " 'advantag',\n",
       " 'adventur',\n",
       " 'advers',\n",
       " 'advertis',\n",
       " 'advic',\n",
       " 'advil',\n",
       " 'advis',\n",
       " 'advoc',\n",
       " 'aerob',\n",
       " 'af',\n",
       " 'affair',\n",
       " 'affect',\n",
       " 'afford',\n",
       " 'afib',\n",
       " 'afraid',\n",
       " 'african',\n",
       " 'afrin',\n",
       " 'aftera',\n",
       " 'aftercar',\n",
       " 'afteri',\n",
       " 'afternoon',\n",
       " 'aftertast',\n",
       " 'afterward',\n",
       " 'againi',\n",
       " 'againin',\n",
       " 'age',\n",
       " 'agent',\n",
       " 'aggrav',\n",
       " 'aggress',\n",
       " 'agit',\n",
       " 'ago',\n",
       " 'agon',\n",
       " 'agoni',\n",
       " 'agoraphob',\n",
       " 'agoraphobia',\n",
       " 'agre',\n",
       " 'agreeabl',\n",
       " 'agreement',\n",
       " 'ahead',\n",
       " 'ahem',\n",
       " 'aid',\n",
       " 'ailment',\n",
       " 'ain039t',\n",
       " 'air',\n",
       " 'airport',\n",
       " 'airway',\n",
       " 'ak',\n",
       " 'aka',\n",
       " 'akasthesia',\n",
       " 'akathisia',\n",
       " 'ala',\n",
       " 'alarm',\n",
       " 'alaska',\n",
       " 'albeit',\n",
       " 'albuterol',\n",
       " 'alcohol',\n",
       " 'aldara',\n",
       " 'ale',\n",
       " 'alees',\n",
       " 'alert',\n",
       " 'alev',\n",
       " 'alfuzosin',\n",
       " 'alittl',\n",
       " 'aliv',\n",
       " 'allegra',\n",
       " 'allerg',\n",
       " 'allergan',\n",
       " 'allergen',\n",
       " 'allergi',\n",
       " 'allergist',\n",
       " 'allevi',\n",
       " 'alli',\n",
       " 'allno',\n",
       " 'allopurinol',\n",
       " 'allow',\n",
       " 'almost',\n",
       " 'alo',\n",
       " 'alon',\n",
       " 'along',\n",
       " 'alongsid',\n",
       " 'alot',\n",
       " 'alprazolam',\n",
       " 'alreadi',\n",
       " 'alreadywhat',\n",
       " 'alright',\n",
       " 'alseep',\n",
       " 'also',\n",
       " 'alsoi',\n",
       " 'alsopm',\n",
       " 'alter',\n",
       " 'altern',\n",
       " 'although',\n",
       " 'altogeth',\n",
       " 'alway',\n",
       " 'alzheimer039',\n",
       " 'amaz',\n",
       " 'amazingli',\n",
       " 'amazon',\n",
       " 'ambian',\n",
       " 'ambien',\n",
       " 'ambiencr',\n",
       " 'ambient',\n",
       " 'ambul',\n",
       " 'amd',\n",
       " 'american',\n",
       " 'amiodaron',\n",
       " 'amiss',\n",
       " 'amitiza',\n",
       " 'amitriptylin',\n",
       " 'amlodipin',\n",
       " 'amnesia',\n",
       " 'among',\n",
       " 'amount',\n",
       " 'amount5',\n",
       " 'amour',\n",
       " 'amoxclav',\n",
       " 'amoxicillan',\n",
       " 'amoxicillin',\n",
       " 'amp',\n",
       " 'ampdid',\n",
       " 'amphetamin',\n",
       " 'amplifi',\n",
       " 'amput',\n",
       " 'ampyra',\n",
       " 'amquot',\n",
       " 'amrix',\n",
       " 'anaesthet',\n",
       " 'anafranil',\n",
       " 'anal',\n",
       " 'anaphylaxi',\n",
       " 'anastrozol',\n",
       " 'anc',\n",
       " 'andor',\n",
       " 'andro',\n",
       " 'androderm',\n",
       " 'androgel',\n",
       " 'androgen',\n",
       " 'anem',\n",
       " 'anemia',\n",
       " 'anesthesia',\n",
       " 'anesthesiologist',\n",
       " 'anesthet',\n",
       " 'aneurysm',\n",
       " 'angelpsychiatrist',\n",
       " 'anger',\n",
       " 'angersad',\n",
       " 'angri',\n",
       " 'anhedonia',\n",
       " 'anim',\n",
       " 'ankl',\n",
       " 'ankylos',\n",
       " 'anniversari',\n",
       " 'annoy',\n",
       " 'annual',\n",
       " 'anorex',\n",
       " 'anorexia',\n",
       " 'anorgasmia',\n",
       " 'anoth',\n",
       " 'answer',\n",
       " 'antabus',\n",
       " 'antacid',\n",
       " 'anti',\n",
       " 'antianxieti',\n",
       " 'antibiot',\n",
       " 'anticip',\n",
       " 'anticonvuls',\n",
       " 'antidepress',\n",
       " 'antiemet',\n",
       " 'antifung',\n",
       " 'antihistamin',\n",
       " 'antihistimin',\n",
       " 'antiinflamatori',\n",
       " 'antiinflammatori',\n",
       " 'antiitch',\n",
       " 'antinausea',\n",
       " 'antipsychot',\n",
       " 'antisoci',\n",
       " 'antivir',\n",
       " 'antsi',\n",
       " 'anu',\n",
       " 'anxieti',\n",
       " 'anxietydepress',\n",
       " 'anxietypan',\n",
       " 'anxiolyt',\n",
       " 'anxiou',\n",
       " 'anxious',\n",
       " 'anybodi',\n",
       " 'anyhow',\n",
       " 'anymor',\n",
       " 'anyon',\n",
       " 'anyth',\n",
       " 'anytim',\n",
       " 'anyway',\n",
       " 'anywher',\n",
       " 'apart',\n",
       " 'apathet',\n",
       " 'apathi',\n",
       " 'apetit',\n",
       " 'aplenzin',\n",
       " 'apnea',\n",
       " 'apolog',\n",
       " 'apomodafinil',\n",
       " 'app',\n",
       " 'appar',\n",
       " 'appeal',\n",
       " 'appear',\n",
       " 'appendectomi',\n",
       " 'appendix',\n",
       " 'appetit',\n",
       " 'appitit',\n",
       " 'appl',\n",
       " 'applesauc',\n",
       " 'appli',\n",
       " 'applic',\n",
       " 'appoint',\n",
       " 'appreci',\n",
       " 'apprehens',\n",
       " 'approach',\n",
       " 'appropri',\n",
       " 'approv',\n",
       " 'approx',\n",
       " 'approxim',\n",
       " 'appt',\n",
       " 'apri',\n",
       " 'april',\n",
       " 'apriso',\n",
       " 'apt',\n",
       " 'aquaphor',\n",
       " 'arava',\n",
       " 'area',\n",
       " ...]"
      ]
     },
     "execution_count": 46,
     "metadata": {},
     "output_type": "execute_result"
    }
   ],
   "source": [
    "vect.get_feature_names()[:2000]"
   ]
  },
  {
   "cell_type": "code",
   "execution_count": 47,
   "id": "55d8929a",
   "metadata": {
    "execution": {
     "iopub.execute_input": "2022-03-30T09:43:46.428266Z",
     "iopub.status.busy": "2022-03-30T09:43:46.427528Z",
     "iopub.status.idle": "2022-03-30T09:43:46.430385Z",
     "shell.execute_reply": "2022-03-30T09:43:46.430769Z",
     "shell.execute_reply.started": "2022-03-30T09:15:02.139448Z"
    },
    "papermill": {
     "duration": 0.20476,
     "end_time": "2022-03-30T09:43:46.430905",
     "exception": false,
     "start_time": "2022-03-30T09:43:46.226145",
     "status": "completed"
    },
    "tags": []
   },
   "outputs": [
    {
     "data": {
      "text/plain": [
       "6982"
      ]
     },
     "execution_count": 47,
     "metadata": {},
     "output_type": "execute_result"
    }
   ],
   "source": [
    "len(vect.get_feature_names())"
   ]
  },
  {
   "cell_type": "code",
   "execution_count": 48,
   "id": "3ea6990e",
   "metadata": {
    "execution": {
     "iopub.execute_input": "2022-03-30T09:43:46.869504Z",
     "iopub.status.busy": "2022-03-30T09:43:46.864443Z",
     "iopub.status.idle": "2022-03-30T09:43:47.117574Z",
     "shell.execute_reply": "2022-03-30T09:43:47.118083Z",
     "shell.execute_reply.started": "2022-03-30T09:15:02.150762Z"
    },
    "papermill": {
     "duration": 0.494695,
     "end_time": "2022-03-30T09:43:47.118265",
     "exception": false,
     "start_time": "2022-03-30T09:43:46.623570",
     "status": "completed"
    },
    "tags": []
   },
   "outputs": [
    {
     "data": {
      "text/plain": [
       "<7173x6982 sparse matrix of type '<class 'numpy.int64'>'\n",
       "\twith 258227 stored elements in Compressed Sparse Row format>"
      ]
     },
     "execution_count": 48,
     "metadata": {},
     "output_type": "execute_result"
    }
   ],
   "source": [
    "# transform the documents in the training data to a document-term matrix\n",
    "X_train_vectorized = vect.transform(X_train)\n",
    "\n",
    "X_train_vectorized"
   ]
  },
  {
   "cell_type": "code",
   "execution_count": 49,
   "id": "92ec0338",
   "metadata": {
    "execution": {
     "iopub.execute_input": "2022-03-30T09:43:47.524801Z",
     "iopub.status.busy": "2022-03-30T09:43:47.523981Z",
     "iopub.status.idle": "2022-03-30T09:43:47.753641Z",
     "shell.execute_reply": "2022-03-30T09:43:47.753176Z",
     "shell.execute_reply.started": "2022-03-30T09:15:02.465295Z"
    },
    "papermill": {
     "duration": 0.439304,
     "end_time": "2022-03-30T09:43:47.753764",
     "exception": false,
     "start_time": "2022-03-30T09:43:47.314460",
     "status": "completed"
    },
    "tags": []
   },
   "outputs": [
    {
     "name": "stderr",
     "output_type": "stream",
     "text": [
      "/opt/conda/lib/python3.7/site-packages/sklearn/linear_model/_logistic.py:818: ConvergenceWarning: lbfgs failed to converge (status=1):\n",
      "STOP: TOTAL NO. of ITERATIONS REACHED LIMIT.\n",
      "\n",
      "Increase the number of iterations (max_iter) or scale the data as shown in:\n",
      "    https://scikit-learn.org/stable/modules/preprocessing.html\n",
      "Please also refer to the documentation for alternative solver options:\n",
      "    https://scikit-learn.org/stable/modules/linear_model.html#logistic-regression\n",
      "  extra_warning_msg=_LOGISTIC_SOLVER_CONVERGENCE_MSG,\n"
     ]
    },
    {
     "data": {
      "text/plain": [
       "LogisticRegression()"
      ]
     },
     "execution_count": 49,
     "metadata": {},
     "output_type": "execute_result"
    }
   ],
   "source": [
    "from sklearn.linear_model import LogisticRegression\n",
    "\n",
    "# Train the model\n",
    "model = LogisticRegression()\n",
    "model.fit(X_train_vectorized, y_train)"
   ]
  },
  {
   "cell_type": "code",
   "execution_count": 50,
   "id": "6ed2c305",
   "metadata": {
    "execution": {
     "iopub.execute_input": "2022-03-30T09:43:48.195749Z",
     "iopub.status.busy": "2022-03-30T09:43:48.175316Z",
     "iopub.status.idle": "2022-03-30T09:43:48.252779Z",
     "shell.execute_reply": "2022-03-30T09:43:48.253361Z",
     "shell.execute_reply.started": "2022-03-30T09:15:02.692253Z"
    },
    "papermill": {
     "duration": 0.306727,
     "end_time": "2022-03-30T09:43:48.253543",
     "exception": false,
     "start_time": "2022-03-30T09:43:47.946816",
     "status": "completed"
    },
    "tags": []
   },
   "outputs": [
    {
     "name": "stdout",
     "output_type": "stream",
     "text": [
      "Acurracy:  0.8386287625418061\n"
     ]
    }
   ],
   "source": [
    "from sklearn.metrics import accuracy_score\n",
    "\n",
    "# Predict the transformed test documents\n",
    "predictions = model.predict(vect.transform(X_test))\n",
    "\n",
    "print('Acurracy: ', accuracy_score(y_test, predictions))"
   ]
  },
  {
   "cell_type": "code",
   "execution_count": 51,
   "id": "cc6c33fa",
   "metadata": {
    "execution": {
     "iopub.execute_input": "2022-03-30T09:43:48.655930Z",
     "iopub.status.busy": "2022-03-30T09:43:48.655092Z",
     "iopub.status.idle": "2022-03-30T09:43:48.660534Z",
     "shell.execute_reply": "2022-03-30T09:43:48.661197Z",
     "shell.execute_reply.started": "2022-03-30T09:15:02.801919Z"
    },
    "papermill": {
     "duration": 0.21206,
     "end_time": "2022-03-30T09:43:48.661376",
     "exception": false,
     "start_time": "2022-03-30T09:43:48.449316",
     "status": "completed"
    },
    "tags": []
   },
   "outputs": [
    {
     "name": "stdout",
     "output_type": "stream",
     "text": [
      "Smallest Coefs:\n",
      "['placebo' 'disappoint' 'wast' 'mad' 'ridicul' 'ultrasound' 'reaction'\n",
      " 'nightmar' 'horrif' '145']\n",
      "\n",
      "Largest Coefs: \n",
      "['love' 'calm' 'miracl' 'amaz' 'great' 'tremend' 'happier' 'best' 'reliev'\n",
      " 'gone']\n"
     ]
    },
    {
     "name": "stderr",
     "output_type": "stream",
     "text": [
      "/opt/conda/lib/python3.7/site-packages/sklearn/utils/deprecation.py:87: FutureWarning: Function get_feature_names is deprecated; get_feature_names is deprecated in 1.0 and will be removed in 1.2. Please use get_feature_names_out instead.\n",
      "  warnings.warn(msg, category=FutureWarning)\n"
     ]
    }
   ],
   "source": [
    "# get the feature names as numpy array\n",
    "feature_names = np.array(vect.get_feature_names())\n",
    "\n",
    "# Sort the coefficients from the model\n",
    "sorted_coef_index = model.coef_[0].argsort()\n",
    "\n",
    "# Find the 10 smallest and 10 largest coefficients\n",
    "# The 10 largest coefficients are being indexed using [:-11:-1] \n",
    "# so the list returned is in order of largest to smallest\n",
    "print('Smallest Coefs:\\n{}\\n'.format(feature_names[sorted_coef_index[:10]]))\n",
    "print('Largest Coefs: \\n{}'.format(feature_names[sorted_coef_index[:-11:-1]]))"
   ]
  },
  {
   "cell_type": "code",
   "execution_count": 52,
   "id": "06dbd789",
   "metadata": {
    "execution": {
     "iopub.execute_input": "2022-03-30T09:43:49.090644Z",
     "iopub.status.busy": "2022-03-30T09:43:49.058858Z",
     "iopub.status.idle": "2022-03-30T09:43:49.372089Z",
     "shell.execute_reply": "2022-03-30T09:43:49.371632Z",
     "shell.execute_reply.started": "2022-03-30T09:15:02.818522Z"
    },
    "papermill": {
     "duration": 0.515321,
     "end_time": "2022-03-30T09:43:49.372213",
     "exception": false,
     "start_time": "2022-03-30T09:43:48.856892",
     "status": "completed"
    },
    "tags": []
   },
   "outputs": [
    {
     "data": {
      "text/plain": [
       "3466"
      ]
     },
     "execution_count": 52,
     "metadata": {},
     "output_type": "execute_result"
    }
   ],
   "source": [
    "from sklearn.feature_extraction.text import TfidfVectorizer\n",
    "\n",
    "# Fit the TfidfVectorizer to the training data specifiying a minimum document frequency of 5\n",
    "vect = TfidfVectorizer(min_df=5).fit(X_train)\n",
    "len(vect.get_feature_names())"
   ]
  },
  {
   "cell_type": "code",
   "execution_count": 53,
   "id": "905eec69",
   "metadata": {
    "execution": {
     "iopub.execute_input": "2022-03-30T09:43:49.826096Z",
     "iopub.status.busy": "2022-03-30T09:43:49.815901Z",
     "iopub.status.idle": "2022-03-30T09:43:50.263452Z",
     "shell.execute_reply": "2022-03-30T09:43:50.263002Z",
     "shell.execute_reply.started": "2022-03-30T09:15:03.140168Z"
    },
    "papermill": {
     "duration": 0.696549,
     "end_time": "2022-03-30T09:43:50.263577",
     "exception": false,
     "start_time": "2022-03-30T09:43:49.567028",
     "status": "completed"
    },
    "tags": []
   },
   "outputs": [
    {
     "name": "stdout",
     "output_type": "stream",
     "text": [
      "Accuracy:  0.8461538461538461\n"
     ]
    }
   ],
   "source": [
    "X_train_vectorized = vect.transform(X_train)\n",
    "\n",
    "model = LogisticRegression()\n",
    "model.fit(X_train_vectorized, y_train)\n",
    "\n",
    "predictions = model.predict(vect.transform(X_test))\n",
    "\n",
    "print('Accuracy: ', accuracy_score(y_test, predictions))"
   ]
  },
  {
   "cell_type": "code",
   "execution_count": 54,
   "id": "2a1c1b42",
   "metadata": {
    "execution": {
     "iopub.execute_input": "2022-03-30T09:43:50.664362Z",
     "iopub.status.busy": "2022-03-30T09:43:50.663590Z",
     "iopub.status.idle": "2022-03-30T09:43:50.674463Z",
     "shell.execute_reply": "2022-03-30T09:43:50.673810Z",
     "shell.execute_reply.started": "2022-03-30T09:15:03.666221Z"
    },
    "papermill": {
     "duration": 0.214489,
     "end_time": "2022-03-30T09:43:50.674610",
     "exception": false,
     "start_time": "2022-03-30T09:43:50.460121",
     "status": "completed"
    },
    "tags": []
   },
   "outputs": [
    {
     "name": "stdout",
     "output_type": "stream",
     "text": [
      "Smallest tfidf:\n",
      "['9am' 'silli' 'lamisil' 'veggi' '190' 'bypass' '2001' 'threshold'\n",
      " 'rubbish' 'anesthesia']\n",
      "\n",
      "Largest tfidf: \n",
      "['posit' 'treat' 'great' 'headach' 'help' 'expens' 'effect' 'love' 'magic'\n",
      " 'depress']\n"
     ]
    },
    {
     "name": "stderr",
     "output_type": "stream",
     "text": [
      "/opt/conda/lib/python3.7/site-packages/sklearn/utils/deprecation.py:87: FutureWarning: Function get_feature_names is deprecated; get_feature_names is deprecated in 1.0 and will be removed in 1.2. Please use get_feature_names_out instead.\n",
      "  warnings.warn(msg, category=FutureWarning)\n"
     ]
    }
   ],
   "source": [
    "feature_names = np.array(vect.get_feature_names())\n",
    "\n",
    "sorted_tfidf_index = X_train_vectorized.max(0).toarray()[0].argsort()\n",
    "\n",
    "print('Smallest tfidf:\\n{}\\n'.format(feature_names[sorted_tfidf_index[:10]]))\n",
    "print('Largest tfidf: \\n{}'.format(feature_names[sorted_tfidf_index[:-11:-1]]))"
   ]
  },
  {
   "cell_type": "code",
   "execution_count": 55,
   "id": "f4fed5a3",
   "metadata": {
    "execution": {
     "iopub.execute_input": "2022-03-30T09:43:51.084346Z",
     "iopub.status.busy": "2022-03-30T09:43:51.083499Z",
     "iopub.status.idle": "2022-03-30T09:43:51.088893Z",
     "shell.execute_reply": "2022-03-30T09:43:51.088284Z",
     "shell.execute_reply.started": "2022-03-30T09:15:03.683483Z"
    },
    "papermill": {
     "duration": 0.206268,
     "end_time": "2022-03-30T09:43:51.089054",
     "exception": false,
     "start_time": "2022-03-30T09:43:50.882786",
     "status": "completed"
    },
    "tags": []
   },
   "outputs": [
    {
     "name": "stdout",
     "output_type": "stream",
     "text": [
      "Smallest Coefs:\n",
      "['worst' 'horribl' 'wors' 'never' 'noth' 'made' 'call' 'cri' 'bleed'\n",
      " 'wast']\n",
      "\n",
      "Largest Coefs: \n",
      "['great' 'love' 'year' 'best' 'amaz' 'gone' 'life' 'far' 'wonder' 'miracl']\n"
     ]
    }
   ],
   "source": [
    "sorted_coef_index = model.coef_[0].argsort()\n",
    "\n",
    "print('Smallest Coefs:\\n{}\\n'.format(feature_names[sorted_coef_index[:10]]))\n",
    "print('Largest Coefs: \\n{}'.format(feature_names[sorted_coef_index[:-11:-1]]))"
   ]
  },
  {
   "cell_type": "markdown",
   "id": "bab4fe8d",
   "metadata": {
    "papermill": {
     "duration": 0.195699,
     "end_time": "2022-03-30T09:43:51.491674",
     "exception": false,
     "start_time": "2022-03-30T09:43:51.295975",
     "status": "completed"
    },
    "tags": []
   },
   "source": [
    "# **N-grams:-**"
   ]
  },
  {
   "cell_type": "code",
   "execution_count": 56,
   "id": "15043d70",
   "metadata": {
    "execution": {
     "iopub.execute_input": "2022-03-30T09:43:51.947958Z",
     "iopub.status.busy": "2022-03-30T09:43:51.927458Z",
     "iopub.status.idle": "2022-03-30T09:43:53.146051Z",
     "shell.execute_reply": "2022-03-30T09:43:53.145595Z",
     "shell.execute_reply.started": "2022-03-30T09:15:03.692389Z"
    },
    "papermill": {
     "duration": 1.457512,
     "end_time": "2022-03-30T09:43:53.146179",
     "exception": false,
     "start_time": "2022-03-30T09:43:51.688667",
     "status": "completed"
    },
    "tags": []
   },
   "outputs": [
    {
     "data": {
      "text/plain": [
       "11473"
      ]
     },
     "execution_count": 56,
     "metadata": {},
     "output_type": "execute_result"
    }
   ],
   "source": [
    "# Fit the CountVectorizer to the training data specifiying a minimum \n",
    "# document frequency of 5 and extracting 1-grams and 2-grams\n",
    "vect = CountVectorizer(min_df=5, ngram_range=(1,2)).fit(X_train)\n",
    "\n",
    "X_train_vectorized = vect.transform(X_train)\n",
    "\n",
    "len(vect.get_feature_names())"
   ]
  },
  {
   "cell_type": "code",
   "execution_count": 57,
   "id": "a684c774",
   "metadata": {
    "execution": {
     "iopub.execute_input": "2022-03-30T09:43:53.557310Z",
     "iopub.status.busy": "2022-03-30T09:43:53.556414Z",
     "iopub.status.idle": "2022-03-30T09:43:54.411543Z",
     "shell.execute_reply": "2022-03-30T09:43:54.410939Z",
     "shell.execute_reply.started": "2022-03-30T09:15:04.996793Z"
    },
    "papermill": {
     "duration": 1.056216,
     "end_time": "2022-03-30T09:43:54.411696",
     "exception": false,
     "start_time": "2022-03-30T09:43:53.355480",
     "status": "completed"
    },
    "tags": []
   },
   "outputs": [
    {
     "name": "stderr",
     "output_type": "stream",
     "text": [
      "/opt/conda/lib/python3.7/site-packages/sklearn/linear_model/_logistic.py:818: ConvergenceWarning: lbfgs failed to converge (status=1):\n",
      "STOP: TOTAL NO. of ITERATIONS REACHED LIMIT.\n",
      "\n",
      "Increase the number of iterations (max_iter) or scale the data as shown in:\n",
      "    https://scikit-learn.org/stable/modules/preprocessing.html\n",
      "Please also refer to the documentation for alternative solver options:\n",
      "    https://scikit-learn.org/stable/modules/linear_model.html#logistic-regression\n",
      "  extra_warning_msg=_LOGISTIC_SOLVER_CONVERGENCE_MSG,\n"
     ]
    },
    {
     "name": "stdout",
     "output_type": "stream",
     "text": [
      "Accuracy:  0.8465719063545151\n"
     ]
    }
   ],
   "source": [
    "model = LogisticRegression()\n",
    "model.fit(X_train_vectorized, y_train)\n",
    "\n",
    "predictions = model.predict(vect.transform(X_test))\n",
    "\n",
    "print('Accuracy: ', accuracy_score(y_test, predictions))"
   ]
  },
  {
   "cell_type": "code",
   "execution_count": 58,
   "id": "52d5fce6",
   "metadata": {
    "execution": {
     "iopub.execute_input": "2022-03-30T09:43:54.820822Z",
     "iopub.status.busy": "2022-03-30T09:43:54.820071Z",
     "iopub.status.idle": "2022-03-30T09:43:54.828285Z",
     "shell.execute_reply": "2022-03-30T09:43:54.828850Z",
     "shell.execute_reply.started": "2022-03-30T09:15:06.246984Z"
    },
    "papermill": {
     "duration": 0.218697,
     "end_time": "2022-03-30T09:43:54.829035",
     "exception": false,
     "start_time": "2022-03-30T09:43:54.610338",
     "status": "completed"
    },
    "tags": []
   },
   "outputs": [
    {
     "name": "stdout",
     "output_type": "stream",
     "text": [
      "Smallest Coefs:\n",
      "['never take' 'didn039t help' 'wast' 'worst' 'wors' 'month can039t' 'noth'\n",
      " 'disappoint' 'doesn039t work' 'effect never']\n",
      "\n",
      "Largest Coefs: \n",
      "['love' 'amaz' 'calm' 'great' 'miracl' 'best' 'gone' 'sometim' 'tremend'\n",
      " 'make feel']\n"
     ]
    },
    {
     "name": "stderr",
     "output_type": "stream",
     "text": [
      "/opt/conda/lib/python3.7/site-packages/sklearn/utils/deprecation.py:87: FutureWarning: Function get_feature_names is deprecated; get_feature_names is deprecated in 1.0 and will be removed in 1.2. Please use get_feature_names_out instead.\n",
      "  warnings.warn(msg, category=FutureWarning)\n"
     ]
    }
   ],
   "source": [
    "feature_names = np.array(vect.get_feature_names())\n",
    "\n",
    "sorted_coef_index = model.coef_[0].argsort()\n",
    "\n",
    "print('Smallest Coefs:\\n{}\\n'.format(feature_names[sorted_coef_index[:10]]))\n",
    "print('Largest Coefs: \\n{}'.format(feature_names[sorted_coef_index[:-11:-1]]))"
   ]
  },
  {
   "cell_type": "markdown",
   "id": "49acdf72",
   "metadata": {
    "papermill": {
     "duration": 0.263768,
     "end_time": "2022-03-30T09:43:55.289859",
     "exception": false,
     "start_time": "2022-03-30T09:43:55.026091",
     "status": "completed"
    },
    "tags": []
   },
   "source": [
    "# **Support Vector Machine:-**"
   ]
  },
  {
   "cell_type": "code",
   "execution_count": 59,
   "id": "7e348e49",
   "metadata": {
    "execution": {
     "iopub.execute_input": "2022-03-30T09:43:55.895944Z",
     "iopub.status.busy": "2022-03-30T09:43:55.895060Z",
     "iopub.status.idle": "2022-03-30T09:44:09.090933Z",
     "shell.execute_reply": "2022-03-30T09:44:09.090273Z",
     "shell.execute_reply.started": "2022-03-30T09:15:06.281475Z"
    },
    "papermill": {
     "duration": 13.425768,
     "end_time": "2022-03-30T09:44:09.091103",
     "exception": false,
     "start_time": "2022-03-30T09:43:55.665335",
     "status": "completed"
    },
    "tags": []
   },
   "outputs": [],
   "source": [
    "#Import svm model\n",
    "from sklearn import svm\n",
    "\n",
    "#Create a svm Classifier\n",
    "clf = svm.SVC(kernel='linear') # Linear Kernel\n",
    "\n",
    "#Train the model using the training sets\n",
    "clf.fit(X_train_vectorized, y_train)\n",
    "\n",
    "#Predict the response for test dataset\n",
    "predictions = clf.predict(vect.transform(X_test))"
   ]
  },
  {
   "cell_type": "code",
   "execution_count": 60,
   "id": "f7ed54a5",
   "metadata": {
    "execution": {
     "iopub.execute_input": "2022-03-30T09:44:09.513031Z",
     "iopub.status.busy": "2022-03-30T09:44:09.512412Z",
     "iopub.status.idle": "2022-03-30T09:44:09.515934Z",
     "shell.execute_reply": "2022-03-30T09:44:09.516598Z",
     "shell.execute_reply.started": "2022-03-30T09:15:19.420674Z"
    },
    "papermill": {
     "duration": 0.209546,
     "end_time": "2022-03-30T09:44:09.516799",
     "exception": false,
     "start_time": "2022-03-30T09:44:09.307253",
     "status": "completed"
    },
    "tags": []
   },
   "outputs": [
    {
     "name": "stdout",
     "output_type": "stream",
     "text": [
      "Accuracy: 0.8131270903010034\n"
     ]
    }
   ],
   "source": [
    "print(\"Accuracy:\", accuracy_score(y_test, predictions))"
   ]
  },
  {
   "cell_type": "code",
   "execution_count": null,
   "id": "330b20a0",
   "metadata": {
    "papermill": {
     "duration": 0.198556,
     "end_time": "2022-03-30T09:44:09.916588",
     "exception": false,
     "start_time": "2022-03-30T09:44:09.718032",
     "status": "completed"
    },
    "tags": []
   },
   "outputs": [],
   "source": []
  }
 ],
 "metadata": {
  "kernelspec": {
   "display_name": "Python 3",
   "language": "python",
   "name": "python3"
  },
  "language_info": {
   "codemirror_mode": {
    "name": "ipython",
    "version": 3
   },
   "file_extension": ".py",
   "mimetype": "text/x-python",
   "name": "python",
   "nbconvert_exporter": "python",
   "pygments_lexer": "ipython3",
   "version": "3.7.12"
  },
  "papermill": {
   "default_parameters": {},
   "duration": 234.565828,
   "end_time": "2022-03-30T09:44:11.027214",
   "environment_variables": {},
   "exception": null,
   "input_path": "__notebook__.ipynb",
   "output_path": "__notebook__.ipynb",
   "parameters": {},
   "start_time": "2022-03-30T09:40:16.461386",
   "version": "2.3.3"
  }
 },
 "nbformat": 4,
 "nbformat_minor": 5
}
